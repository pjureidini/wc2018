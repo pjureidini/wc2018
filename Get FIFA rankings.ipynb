{
 "cells": [
  {
   "cell_type": "code",
   "execution_count": 2,
   "metadata": {
    "collapsed": true
   },
   "outputs": [],
   "source": [
    "from requests import get\n",
    "from requests.exceptions import RequestException\n",
    "from contextlib import closing\n",
    "from urllib.request import urlopen\n",
    "from bs4 import BeautifulSoup\n",
    "import requests\n",
    "import pandas as pd\n",
    "import pandasql as ps\n",
    "from datetime import datetime"
   ]
  },
  {
   "cell_type": "code",
   "execution_count": 3,
   "metadata": {
    "collapsed": true
   },
   "outputs": [],
   "source": [
    "from IPython.display import display, HTML"
   ]
  },
  {
   "cell_type": "markdown",
   "metadata": {},
   "source": [
    "# Get historical FIFA rankings"
   ]
  },
  {
   "cell_type": "markdown",
   "metadata": {},
   "source": [
    "## 1 - Get ranking dates"
   ]
  },
  {
   "cell_type": "markdown",
   "metadata": {},
   "source": [
    "### 1.1 Get ranking dates from fifa.com and store in a csv"
   ]
  },
  {
   "cell_type": "code",
   "execution_count": 4,
   "metadata": {
    "collapsed": true
   },
   "outputs": [],
   "source": [
    "# get list of all available FIFA ranking pages\n",
    "\n",
    "fifa_rankings_url = \"https://www.fifa.com/fifa-world-ranking/ranking-table/men/\"\n",
    "\n",
    "try:\n",
    "    page_response = requests.get(fifa_rankings_url, timeout=5)\n",
    "    \n",
    "    if page_response.status_code == 200:\n",
    "        page_content = BeautifulSoup(page_response.content,'lxml')\n",
    "        ranking_dates = page_content.find('ul', attrs={'class':\"fi-ranking-schedule__nav dropdown-menu\"})\n",
    "        \n",
    "        #print(ranking_dates)\n",
    "        #date = [t.get_text().strip() for t in ranking_dates.select('.fi-ranking-schedule__nav__item')]\n",
    "        \n",
    "        dates = [d.get_text() for d in ranking_dates.find_all('a', href=True)]\n",
    "        urls = [u['href'] for u in ranking_dates.find_all('a', href=True)]\n",
    "        rank_ids =  [r['data-value'] for r in ranking_dates.find_all('li')]\n",
    "       \n",
    "        rank_dates = pd.DataFrame({\n",
    "            \"date\" : dates,\n",
    "            \"url\" : urls,\n",
    "            \"rank_id\" : rank_ids\n",
    "        })\n",
    "        \n",
    "    else:\n",
    "        print(page_response.status_code)\n",
    "\n",
    "except requests.Timeout as e:\n",
    "    print('Timeout occurred for requested page: ' + fifa_url)\n",
    "    print(str(e))"
   ]
  },
  {
   "cell_type": "code",
   "execution_count": 5,
   "metadata": {
    "collapsed": true
   },
   "outputs": [],
   "source": [
    "#rank_dates.head()"
   ]
  },
  {
   "cell_type": "code",
   "execution_count": 6,
   "metadata": {
    "collapsed": true
   },
   "outputs": [],
   "source": [
    "# back up raw data (in case FIFA web site changes)\n",
    "rank_dates.to_csv('rank_dates.csv') "
   ]
  },
  {
   "cell_type": "markdown",
   "metadata": {},
   "source": [
    "### 1.2 Clean up and augment ranking dates data"
   ]
  },
  {
   "cell_type": "code",
   "execution_count": 7,
   "metadata": {
    "collapsed": true
   },
   "outputs": [],
   "source": [
    "rank_dates['from_date'] = pd.to_datetime(rank_dates['date'], format= '%d %B %Y')"
   ]
  },
  {
   "cell_type": "code",
   "execution_count": 8,
   "metadata": {
    "collapsed": true
   },
   "outputs": [],
   "source": [
    "#rank_dates.head()"
   ]
  },
  {
   "cell_type": "code",
   "execution_count": 9,
   "metadata": {
    "collapsed": true
   },
   "outputs": [],
   "source": [
    "# sort by from date (needed in order to get expiration date by looking at next row)\n",
    "rank_dates.sort_values('from_date', inplace=True)"
   ]
  },
  {
   "cell_type": "code",
   "execution_count": 10,
   "metadata": {
    "collapsed": true
   },
   "outputs": [],
   "source": [
    "#rank_dates.head()"
   ]
  },
  {
   "cell_type": "code",
   "execution_count": 11,
   "metadata": {
    "collapsed": true,
    "scrolled": true
   },
   "outputs": [],
   "source": [
    "# create to_date column based on next row's from date\n",
    "rank_dates['to_date'] = rank_dates.from_date.shift(-1)"
   ]
  },
  {
   "cell_type": "code",
   "execution_count": 12,
   "metadata": {
    "collapsed": true
   },
   "outputs": [],
   "source": [
    "#rank_dates.head()"
   ]
  },
  {
   "cell_type": "code",
   "execution_count": 13,
   "metadata": {
    "collapsed": true
   },
   "outputs": [],
   "source": [
    "#subtract one day from to_date to make sure date ranges don't overlap\n",
    "rank_dates['to_date'] = rank_dates['to_date'] - pd.Timedelta(days=1)"
   ]
  },
  {
   "cell_type": "code",
   "execution_count": 14,
   "metadata": {},
   "outputs": [
    {
     "data": {
      "text/html": [
       "<div>\n",
       "<style scoped>\n",
       "    .dataframe tbody tr th:only-of-type {\n",
       "        vertical-align: middle;\n",
       "    }\n",
       "\n",
       "    .dataframe tbody tr th {\n",
       "        vertical-align: top;\n",
       "    }\n",
       "\n",
       "    .dataframe thead th {\n",
       "        text-align: right;\n",
       "    }\n",
       "</style>\n",
       "<table border=\"1\" class=\"dataframe\">\n",
       "  <thead>\n",
       "    <tr style=\"text-align: right;\">\n",
       "      <th></th>\n",
       "      <th>date</th>\n",
       "      <th>url</th>\n",
       "      <th>rank_id</th>\n",
       "      <th>from_date</th>\n",
       "      <th>to_date</th>\n",
       "    </tr>\n",
       "  </thead>\n",
       "  <tbody>\n",
       "    <tr>\n",
       "      <th>82</th>\n",
       "      <td>26 May 2010</td>\n",
       "      <td>/fifa-world-ranking/ranking-table/men/rank/id9...</td>\n",
       "      <td>id9276</td>\n",
       "      <td>2010-05-26</td>\n",
       "      <td>2010-08-10</td>\n",
       "    </tr>\n",
       "    <tr>\n",
       "      <th>81</th>\n",
       "      <td>11 August 2010</td>\n",
       "      <td>/fifa-world-ranking/ranking-table/men/rank/id9...</td>\n",
       "      <td>id9353</td>\n",
       "      <td>2010-08-11</td>\n",
       "      <td>2010-11-16</td>\n",
       "    </tr>\n",
       "    <tr>\n",
       "      <th>80</th>\n",
       "      <td>17 November 2010</td>\n",
       "      <td>/fifa-world-ranking/ranking-table/men/rank/id9...</td>\n",
       "      <td>id9451</td>\n",
       "      <td>2010-11-17</td>\n",
       "      <td>2011-01-11</td>\n",
       "    </tr>\n",
       "    <tr>\n",
       "      <th>79</th>\n",
       "      <td>12 January 2011</td>\n",
       "      <td>/fifa-world-ranking/ranking-table/men/rank/id9...</td>\n",
       "      <td>id9507</td>\n",
       "      <td>2011-01-12</td>\n",
       "      <td>2011-05-17</td>\n",
       "    </tr>\n",
       "    <tr>\n",
       "      <th>78</th>\n",
       "      <td>18 May 2011</td>\n",
       "      <td>/fifa-world-ranking/ranking-table/men/rank/id9...</td>\n",
       "      <td>id9633</td>\n",
       "      <td>2011-05-18</td>\n",
       "      <td>2011-08-23</td>\n",
       "    </tr>\n",
       "  </tbody>\n",
       "</table>\n",
       "</div>"
      ],
      "text/plain": [
       "                date                                                url  \\\n",
       "82       26 May 2010  /fifa-world-ranking/ranking-table/men/rank/id9...   \n",
       "81    11 August 2010  /fifa-world-ranking/ranking-table/men/rank/id9...   \n",
       "80  17 November 2010  /fifa-world-ranking/ranking-table/men/rank/id9...   \n",
       "79   12 January 2011  /fifa-world-ranking/ranking-table/men/rank/id9...   \n",
       "78       18 May 2011  /fifa-world-ranking/ranking-table/men/rank/id9...   \n",
       "\n",
       "   rank_id  from_date    to_date  \n",
       "82  id9276 2010-05-26 2010-08-10  \n",
       "81  id9353 2010-08-11 2010-11-16  \n",
       "80  id9451 2010-11-17 2011-01-11  \n",
       "79  id9507 2011-01-12 2011-05-17  \n",
       "78  id9633 2011-05-18 2011-08-23  "
      ]
     },
     "execution_count": 14,
     "metadata": {},
     "output_type": "execute_result"
    }
   ],
   "source": [
    "rank_dates.head(5)"
   ]
  },
  {
   "cell_type": "code",
   "execution_count": 15,
   "metadata": {},
   "outputs": [
    {
     "data": {
      "text/html": [
       "<div>\n",
       "<style scoped>\n",
       "    .dataframe tbody tr th:only-of-type {\n",
       "        vertical-align: middle;\n",
       "    }\n",
       "\n",
       "    .dataframe tbody tr th {\n",
       "        vertical-align: top;\n",
       "    }\n",
       "\n",
       "    .dataframe thead th {\n",
       "        text-align: right;\n",
       "    }\n",
       "</style>\n",
       "<table border=\"1\" class=\"dataframe\">\n",
       "  <thead>\n",
       "    <tr style=\"text-align: right;\">\n",
       "      <th></th>\n",
       "      <th>date</th>\n",
       "      <th>url</th>\n",
       "      <th>rank_id</th>\n",
       "      <th>from_date</th>\n",
       "      <th>to_date</th>\n",
       "    </tr>\n",
       "  </thead>\n",
       "  <tbody>\n",
       "    <tr>\n",
       "      <th>4</th>\n",
       "      <td>17 May 2018</td>\n",
       "      <td>/fifa-world-ranking/ranking-table/men/rank/id1...</td>\n",
       "      <td>id12189</td>\n",
       "      <td>2018-05-17</td>\n",
       "      <td>2018-06-06</td>\n",
       "    </tr>\n",
       "    <tr>\n",
       "      <th>3</th>\n",
       "      <td>07 June 2018</td>\n",
       "      <td>/fifa-world-ranking/ranking-table/men/rank/id1...</td>\n",
       "      <td>id12210</td>\n",
       "      <td>2018-06-07</td>\n",
       "      <td>2018-08-15</td>\n",
       "    </tr>\n",
       "    <tr>\n",
       "      <th>2</th>\n",
       "      <td>16 August 2018</td>\n",
       "      <td>/fifa-world-ranking/ranking-table/men/rank/id1...</td>\n",
       "      <td>id12280</td>\n",
       "      <td>2018-08-16</td>\n",
       "      <td>2018-09-19</td>\n",
       "    </tr>\n",
       "    <tr>\n",
       "      <th>1</th>\n",
       "      <td>20 September 2018</td>\n",
       "      <td>/fifa-world-ranking/ranking-table/men/rank/id1...</td>\n",
       "      <td>id12315</td>\n",
       "      <td>2018-09-20</td>\n",
       "      <td>2018-10-24</td>\n",
       "    </tr>\n",
       "    <tr>\n",
       "      <th>0</th>\n",
       "      <td>25 October 2018</td>\n",
       "      <td>/fifa-world-ranking/ranking-table/men/rank/id1...</td>\n",
       "      <td>id12350</td>\n",
       "      <td>2018-10-25</td>\n",
       "      <td>NaT</td>\n",
       "    </tr>\n",
       "  </tbody>\n",
       "</table>\n",
       "</div>"
      ],
      "text/plain": [
       "                date                                                url  \\\n",
       "4        17 May 2018  /fifa-world-ranking/ranking-table/men/rank/id1...   \n",
       "3       07 June 2018  /fifa-world-ranking/ranking-table/men/rank/id1...   \n",
       "2     16 August 2018  /fifa-world-ranking/ranking-table/men/rank/id1...   \n",
       "1  20 September 2018  /fifa-world-ranking/ranking-table/men/rank/id1...   \n",
       "0    25 October 2018  /fifa-world-ranking/ranking-table/men/rank/id1...   \n",
       "\n",
       "   rank_id  from_date    to_date  \n",
       "4  id12189 2018-05-17 2018-06-06  \n",
       "3  id12210 2018-06-07 2018-08-15  \n",
       "2  id12280 2018-08-16 2018-09-19  \n",
       "1  id12315 2018-09-20 2018-10-24  \n",
       "0  id12350 2018-10-25        NaT  "
      ]
     },
     "execution_count": 15,
     "metadata": {},
     "output_type": "execute_result"
    }
   ],
   "source": [
    "rank_dates.tail(5)"
   ]
  },
  {
   "cell_type": "code",
   "execution_count": 16,
   "metadata": {
    "collapsed": true
   },
   "outputs": [],
   "source": [
    "# reorder columns\n",
    "rank_dates_cols = ['rank_id' , 'from_date' , 'to_date' , 'date' , 'url']\n",
    "\n",
    "rank_dates = rank_dates[rank_dates_cols]"
   ]
  },
  {
   "cell_type": "code",
   "execution_count": 17,
   "metadata": {},
   "outputs": [
    {
     "data": {
      "text/html": [
       "<div>\n",
       "<style scoped>\n",
       "    .dataframe tbody tr th:only-of-type {\n",
       "        vertical-align: middle;\n",
       "    }\n",
       "\n",
       "    .dataframe tbody tr th {\n",
       "        vertical-align: top;\n",
       "    }\n",
       "\n",
       "    .dataframe thead th {\n",
       "        text-align: right;\n",
       "    }\n",
       "</style>\n",
       "<table border=\"1\" class=\"dataframe\">\n",
       "  <thead>\n",
       "    <tr style=\"text-align: right;\">\n",
       "      <th></th>\n",
       "      <th>rank_id</th>\n",
       "      <th>from_date</th>\n",
       "      <th>to_date</th>\n",
       "      <th>date</th>\n",
       "      <th>url</th>\n",
       "    </tr>\n",
       "  </thead>\n",
       "  <tbody>\n",
       "    <tr>\n",
       "      <th>82</th>\n",
       "      <td>id9276</td>\n",
       "      <td>2010-05-26</td>\n",
       "      <td>2010-08-10</td>\n",
       "      <td>26 May 2010</td>\n",
       "      <td>/fifa-world-ranking/ranking-table/men/rank/id9...</td>\n",
       "    </tr>\n",
       "    <tr>\n",
       "      <th>81</th>\n",
       "      <td>id9353</td>\n",
       "      <td>2010-08-11</td>\n",
       "      <td>2010-11-16</td>\n",
       "      <td>11 August 2010</td>\n",
       "      <td>/fifa-world-ranking/ranking-table/men/rank/id9...</td>\n",
       "    </tr>\n",
       "    <tr>\n",
       "      <th>80</th>\n",
       "      <td>id9451</td>\n",
       "      <td>2010-11-17</td>\n",
       "      <td>2011-01-11</td>\n",
       "      <td>17 November 2010</td>\n",
       "      <td>/fifa-world-ranking/ranking-table/men/rank/id9...</td>\n",
       "    </tr>\n",
       "    <tr>\n",
       "      <th>79</th>\n",
       "      <td>id9507</td>\n",
       "      <td>2011-01-12</td>\n",
       "      <td>2011-05-17</td>\n",
       "      <td>12 January 2011</td>\n",
       "      <td>/fifa-world-ranking/ranking-table/men/rank/id9...</td>\n",
       "    </tr>\n",
       "    <tr>\n",
       "      <th>78</th>\n",
       "      <td>id9633</td>\n",
       "      <td>2011-05-18</td>\n",
       "      <td>2011-08-23</td>\n",
       "      <td>18 May 2011</td>\n",
       "      <td>/fifa-world-ranking/ranking-table/men/rank/id9...</td>\n",
       "    </tr>\n",
       "  </tbody>\n",
       "</table>\n",
       "</div>"
      ],
      "text/plain": [
       "   rank_id  from_date    to_date              date  \\\n",
       "82  id9276 2010-05-26 2010-08-10       26 May 2010   \n",
       "81  id9353 2010-08-11 2010-11-16    11 August 2010   \n",
       "80  id9451 2010-11-17 2011-01-11  17 November 2010   \n",
       "79  id9507 2011-01-12 2011-05-17   12 January 2011   \n",
       "78  id9633 2011-05-18 2011-08-23       18 May 2011   \n",
       "\n",
       "                                                  url  \n",
       "82  /fifa-world-ranking/ranking-table/men/rank/id9...  \n",
       "81  /fifa-world-ranking/ranking-table/men/rank/id9...  \n",
       "80  /fifa-world-ranking/ranking-table/men/rank/id9...  \n",
       "79  /fifa-world-ranking/ranking-table/men/rank/id9...  \n",
       "78  /fifa-world-ranking/ranking-table/men/rank/id9...  "
      ]
     },
     "execution_count": 17,
     "metadata": {},
     "output_type": "execute_result"
    }
   ],
   "source": [
    "rank_dates.head()"
   ]
  },
  {
   "cell_type": "markdown",
   "metadata": {},
   "source": [
    "## 2 - Get rankings for all historical dates"
   ]
  },
  {
   "cell_type": "code",
   "execution_count": 18,
   "metadata": {
    "collapsed": true,
    "scrolled": false
   },
   "outputs": [],
   "source": [
    "# this function gets rankings from FIFA.com for a given rank_id (obtained in #1 above)\n",
    "def get_fifa_rankings(rank_id):\n",
    "\n",
    "    fifa_rankings_url = \"https://www.fifa.com/fifa-world-ranking/ranking-table/men/rank/\"\n",
    "    \n",
    "    fifa_rankings_url += rank_id\n",
    "\n",
    "    try: \n",
    "        page_response = requests.get(fifa_rankings_url, timeout=5)\n",
    "\n",
    "        if page_response.status_code == 200:\n",
    "            page_content = BeautifulSoup(page_response.content,'lxml')\n",
    "            standings_table = page_content.find('table', attrs={'id':\"rank-table\"}).find('tbody')\n",
    "            team = [t.get_text() for t in standings_table.select('.fi-t__nText')]\n",
    "            team_abbr = [t.get_text() for t in standings_table.select('.fi-t__nTri')]\n",
    "            point = [r.get_text() for r in standings_table.select('.fi-table__points')]\n",
    "            rank = [p.get_text() for p in standings_table.select('.fi-table__rank')]\n",
    "\n",
    "            rank_table = pd.DataFrame({\n",
    "                \"rank_id\": rank_id,\n",
    "                \"team\" : team,\n",
    "                \"team_abbr\" : team_abbr,            \n",
    "                \"rank\"  : rank,\n",
    "                \"points\": point\n",
    "            })\n",
    "            \n",
    "        else:\n",
    "            print(page_response.status_code)\n",
    "\n",
    "    except requests.Timeout as e:\n",
    "        print('Timeout occurred for requested page: ' + fifa_url)\n",
    "        print(str(e))\n",
    "\n",
    "\n",
    "    return rank_table"
   ]
  },
  {
   "cell_type": "code",
   "execution_count": 19,
   "metadata": {
    "collapsed": true
   },
   "outputs": [],
   "source": [
    "# test\n",
    "#get_fifa_rankings('id12315')"
   ]
  },
  {
   "cell_type": "code",
   "execution_count": 22,
   "metadata": {
    "scrolled": false
   },
   "outputs": [],
   "source": [
    "# takes a couple of minutes to run - avoid running if possible and use data from\n",
    "def get_all_fifa_rankings():\n",
    "    count = 0\n",
    "\n",
    "    all_rankings = pd.DataFrame()\n",
    "\n",
    "    for index, row in rank_dates.iterrows():\n",
    "\n",
    "        rows_left = len(rank_dates) - count\n",
    "\n",
    "        print('{} rows to go....'.format(rows_left))\n",
    "\n",
    "        rank_id = row['rank_id']\n",
    "\n",
    "        print(rank_id)\n",
    "\n",
    "        rankings = get_fifa_rankings(rank_id)\n",
    "\n",
    "        all_rankings = pd.concat([all_rankings, rankings])\n",
    "\n",
    "        count += 1\n",
    "\n",
    "    all_rankings.reset_index(drop=True)\n",
    "    \n",
    "    return all_rankings\n",
    "    "
   ]
  },
  {
   "cell_type": "code",
   "execution_count": 23,
   "metadata": {
    "collapsed": true
   },
   "outputs": [],
   "source": [
    "# comment out to avoid inadvertently rerunning\n",
    "#get_all_fifa_rankings()"
   ]
  },
  {
   "cell_type": "code",
   "execution_count": 24,
   "metadata": {
    "collapsed": true
   },
   "outputs": [],
   "source": [
    "# store data to make sure we have a hard copy\n",
    "#all_rankings.to_csv('all_rankings.csv')"
   ]
  },
  {
   "cell_type": "code",
   "execution_count": 25,
   "metadata": {
    "collapsed": true
   },
   "outputs": [],
   "source": [
    "all_rankings = pd.read_csv('data/team/all_rankings.csv')"
   ]
  },
  {
   "cell_type": "code",
   "execution_count": null,
   "metadata": {},
   "outputs": [],
   "source": [
    "all_rankings.head()"
   ]
  },
  {
   "cell_type": "code",
   "execution_count": null,
   "metadata": {
    "collapsed": true
   },
   "outputs": [],
   "source": [
    "all_rankings.set_index('rank_id', inplace=True, drop=True)"
   ]
  },
  {
   "cell_type": "code",
   "execution_count": null,
   "metadata": {},
   "outputs": [],
   "source": [
    "all_rankings.head()\n",
    "all_rankings.drop('Unnamed: 0', axis = 1)"
   ]
  },
  {
   "cell_type": "code",
   "execution_count": null,
   "metadata": {
    "collapsed": true
   },
   "outputs": [],
   "source": [
    "fifa_rankings = rank_dates.join(all_rankings, on=['rank_id'], how='inner')"
   ]
  },
  {
   "cell_type": "code",
   "execution_count": null,
   "metadata": {},
   "outputs": [],
   "source": [
    "fifa_rankings.head()"
   ]
  },
  {
   "cell_type": "code",
   "execution_count": null,
   "metadata": {
    "collapsed": true
   },
   "outputs": [],
   "source": [
    "fifa_rankings_cols = ['rank_id' , 'from_date' , 'to_date' , 'team' , 'team_abbr' , 'rank' , 'points']\n",
    "\n",
    "fifa_rankings = fifa_rankings[fifa_rankings_cols]"
   ]
  },
  {
   "cell_type": "code",
   "execution_count": null,
   "metadata": {
    "collapsed": true
   },
   "outputs": [],
   "source": [
    "fifa_rankings.set_index(['rank_id'], drop=True, inplace=True)"
   ]
  },
  {
   "cell_type": "code",
   "execution_count": null,
   "metadata": {},
   "outputs": [],
   "source": [
    "fifa_rankings.head()"
   ]
  },
  {
   "cell_type": "code",
   "execution_count": null,
   "metadata": {
    "collapsed": true
   },
   "outputs": [],
   "source": [
    "\n",
    "#save final ranking data set\n",
    "fifa_rankings.to_csv('fifa_rankings.csv')"
   ]
  },
  {
   "cell_type": "code",
   "execution_count": null,
   "metadata": {
    "collapsed": true
   },
   "outputs": [],
   "source": []
  }
 ],
 "metadata": {
  "kernelspec": {
   "display_name": "Python 3",
   "language": "python",
   "name": "python3"
  },
  "language_info": {
   "codemirror_mode": {
    "name": "ipython",
    "version": 3
   },
   "file_extension": ".py",
   "mimetype": "text/x-python",
   "name": "python",
   "nbconvert_exporter": "python",
   "pygments_lexer": "ipython3",
   "version": "3.6.5"
  }
 },
 "nbformat": 4,
 "nbformat_minor": 2
}

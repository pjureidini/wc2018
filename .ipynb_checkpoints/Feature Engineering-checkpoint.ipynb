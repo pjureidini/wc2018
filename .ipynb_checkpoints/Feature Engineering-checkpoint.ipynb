{
 "cells": [
  {
   "cell_type": "markdown",
   "metadata": {},
   "source": [
    "# <img style=\"float: left; padding-right: 10px; width: 45px\" src=\"https://raw.githubusercontent.com/Harvard-IACS/2018-CS109A/master/content/styles/iacs.png\"> CS-109A Introduction to Data Science\n",
    "\n",
    "\n",
    "\n",
    "## Group #20: Final Project - World Cup Predictions \n",
    "\n",
    "**Harvard University**<br>\n",
    "**Fall 2018**<br>"
   ]
  },
  {
   "cell_type": "markdown",
   "metadata": {},
   "source": [
    "# Feature Engineering"
   ]
  },
  {
   "cell_type": "markdown",
   "metadata": {},
   "source": [
    "## 1 - Notebook Configuration"
   ]
  },
  {
   "cell_type": "code",
   "execution_count": 1,
   "metadata": {},
   "outputs": [],
   "source": [
    "import pandas as pd\n",
    "import numpy as np\n",
    "\n",
    "from sklearn.linear_model import LogisticRegressionCV\n",
    "from sklearn.discriminant_analysis import LinearDiscriminantAnalysis\n",
    "from sklearn.discriminant_analysis import QuadraticDiscriminantAnalysis\n",
    "\n",
    "from sklearn.model_selection import cross_val_score\n",
    "\n",
    "import matplotlib\n",
    "import matplotlib.pyplot as plt\n",
    "import seaborn as sns\n",
    "\n",
    "# display preferences\n",
    "%matplotlib inline\n",
    "#from IPython.core.display import display, HTML\n",
    "#display(HTML(\"<style>.container { width:100% !important; }</style>\"))"
   ]
  },
  {
   "cell_type": "markdown",
   "metadata": {},
   "source": [
    "## 2 - Custom Functions"
   ]
  },
  {
   "cell_type": "code",
   "execution_count": 2,
   "metadata": {
    "collapsed": true
   },
   "outputs": [],
   "source": [
    "# function to calculate rolling exponentioally weighted moving average\n",
    "def rwma(group, min_periods, span):\n",
    "    # perform the ewma\n",
    "    kwargs = dict(ignore_na=False, span=span, min_periods=min_periods, adjust=True)\n",
    "    result = group.ewm(**kwargs).mean().shift().reset_index()\n",
    "    result.rename(columns={result.columns[-1]: 'rwma'}, inplace=True)\n",
    "    return result"
   ]
  },
  {
   "cell_type": "code",
   "execution_count": 3,
   "metadata": {
    "collapsed": true
   },
   "outputs": [],
   "source": [
    "# function to calculate rolling weighted moving average\n",
    "def rmean(group,min_periods):\n",
    "    # perform the mean\n",
    "    kwargs = dict(window='3650d', min_periods=min_periods, win_type=None)\n",
    "    result = group.rolling(**kwargs).mean().shift().reset_index()\n",
    "    result.rename(columns={result.columns[-1]: 'rmean'}, inplace=True)\n",
    "    return result"
   ]
  },
  {
   "cell_type": "markdown",
   "metadata": {},
   "source": [
    "## 3 - Load Data, Examine and Prep"
   ]
  },
  {
   "cell_type": "code",
   "execution_count": 4,
   "metadata": {},
   "outputs": [],
   "source": [
    "df = pd.read_csv(\"data/team/new_intl_results.csv\")"
   ]
  },
  {
   "cell_type": "code",
   "execution_count": 5,
   "metadata": {
    "collapsed": true
   },
   "outputs": [],
   "source": [
    "# note: some teams played twice on certain dates (e.g. Chile on 5/30/2010)"
   ]
  },
  {
   "cell_type": "code",
   "execution_count": 6,
   "metadata": {},
   "outputs": [
    {
     "data": {
      "text/html": [
       "<div>\n",
       "<style scoped>\n",
       "    .dataframe tbody tr th:only-of-type {\n",
       "        vertical-align: middle;\n",
       "    }\n",
       "\n",
       "    .dataframe tbody tr th {\n",
       "        vertical-align: top;\n",
       "    }\n",
       "\n",
       "    .dataframe thead th {\n",
       "        text-align: right;\n",
       "    }\n",
       "</style>\n",
       "<table border=\"1\" class=\"dataframe\">\n",
       "  <thead>\n",
       "    <tr style=\"text-align: right;\">\n",
       "      <th></th>\n",
       "      <th>date</th>\n",
       "      <th>home_team</th>\n",
       "      <th>away_team</th>\n",
       "      <th>home_score</th>\n",
       "      <th>away_score</th>\n",
       "      <th>tournament</th>\n",
       "      <th>city</th>\n",
       "      <th>country</th>\n",
       "      <th>neutral</th>\n",
       "    </tr>\n",
       "  </thead>\n",
       "  <tbody>\n",
       "    <tr>\n",
       "      <th>0</th>\n",
       "      <td>1872-11-30 00:00:00</td>\n",
       "      <td>Scotland</td>\n",
       "      <td>England</td>\n",
       "      <td>0</td>\n",
       "      <td>0</td>\n",
       "      <td>Friendly</td>\n",
       "      <td>Glasgow</td>\n",
       "      <td>Scotland</td>\n",
       "      <td>False</td>\n",
       "    </tr>\n",
       "    <tr>\n",
       "      <th>1</th>\n",
       "      <td>1873-03-08 00:00:00</td>\n",
       "      <td>England</td>\n",
       "      <td>Scotland</td>\n",
       "      <td>4</td>\n",
       "      <td>2</td>\n",
       "      <td>Friendly</td>\n",
       "      <td>London</td>\n",
       "      <td>England</td>\n",
       "      <td>False</td>\n",
       "    </tr>\n",
       "    <tr>\n",
       "      <th>2</th>\n",
       "      <td>1874-03-07 00:00:00</td>\n",
       "      <td>Scotland</td>\n",
       "      <td>England</td>\n",
       "      <td>2</td>\n",
       "      <td>1</td>\n",
       "      <td>Friendly</td>\n",
       "      <td>Glasgow</td>\n",
       "      <td>Scotland</td>\n",
       "      <td>False</td>\n",
       "    </tr>\n",
       "    <tr>\n",
       "      <th>3</th>\n",
       "      <td>1875-03-06 00:00:00</td>\n",
       "      <td>England</td>\n",
       "      <td>Scotland</td>\n",
       "      <td>2</td>\n",
       "      <td>2</td>\n",
       "      <td>Friendly</td>\n",
       "      <td>London</td>\n",
       "      <td>England</td>\n",
       "      <td>False</td>\n",
       "    </tr>\n",
       "    <tr>\n",
       "      <th>4</th>\n",
       "      <td>1876-03-04 00:00:00</td>\n",
       "      <td>Scotland</td>\n",
       "      <td>England</td>\n",
       "      <td>3</td>\n",
       "      <td>0</td>\n",
       "      <td>Friendly</td>\n",
       "      <td>Glasgow</td>\n",
       "      <td>Scotland</td>\n",
       "      <td>False</td>\n",
       "    </tr>\n",
       "  </tbody>\n",
       "</table>\n",
       "</div>"
      ],
      "text/plain": [
       "                  date home_team away_team  home_score  away_score tournament  \\\n",
       "0  1872-11-30 00:00:00  Scotland   England           0           0   Friendly   \n",
       "1  1873-03-08 00:00:00   England  Scotland           4           2   Friendly   \n",
       "2  1874-03-07 00:00:00  Scotland   England           2           1   Friendly   \n",
       "3  1875-03-06 00:00:00   England  Scotland           2           2   Friendly   \n",
       "4  1876-03-04 00:00:00  Scotland   England           3           0   Friendly   \n",
       "\n",
       "      city   country  neutral  \n",
       "0  Glasgow  Scotland    False  \n",
       "1   London   England    False  \n",
       "2  Glasgow  Scotland    False  \n",
       "3   London   England    False  \n",
       "4  Glasgow  Scotland    False  "
      ]
     },
     "execution_count": 6,
     "metadata": {},
     "output_type": "execute_result"
    }
   ],
   "source": [
    "df.head()"
   ]
  },
  {
   "cell_type": "code",
   "execution_count": 7,
   "metadata": {
    "collapsed": true
   },
   "outputs": [],
   "source": [
    "df.date = df.date.values.astype(\"datetime64\")\n",
    "df['year'] = pd.DatetimeIndex(df['date']).year"
   ]
  },
  {
   "cell_type": "code",
   "execution_count": 8,
   "metadata": {},
   "outputs": [
    {
     "data": {
      "image/png": "[encoded data removed]",
      "text/plain": [
       "<Figure size 720x360 with 1 Axes>"
      ]
     },
     "metadata": {},
     "output_type": "display_data"
    }
   ],
   "source": [
    "# create yearly bins for plotting\n",
    "year_bins = np.linspace(min(df.year),max(df.year), max(df.year) - min(df.year) + 1)\n",
    "\n",
    "fig, ax = plt.subplots(1,1,figsize = (10,5))\n",
    "ax.hist(df['year'], bins = year_bins, alpha = 0.2, label = 'All macthes')\n",
    "ax.hist(df[df['tournament'] == 'Friendly']['year'], bins = year_bins, alpha = 0.2, label = 'Friendly')\n",
    "ax.set_xlabel('Year')\n",
    "ax.set_ylabel('Frequency')\n",
    "ax.set_title('Number of Matches per Year')\n",
    "ax.legend()\n",
    "plt.show()"
   ]
  },
  {
   "cell_type": "code",
   "execution_count": 9,
   "metadata": {},
   "outputs": [],
   "source": [
    "# Find first available date after historical gap in dates\n",
    "#start_date = min(df[df['year'] >= 1940]['date'])\n",
    "#print('First date available after historical gap: {}'.format(start_date))"
   ]
  },
  {
   "cell_type": "markdown",
   "metadata": {},
   "source": [
    "Two observations:\n",
    " - REMOVE - It looks like history is not truly available all the back to 1872. For feature engineering purposes, we will opt to ignore soccer matches prior to 1/1/1968.\n",
    " - A high percentage of matches fall in the 'Friendly' category.  We will have to make a decision in terms of how to include these matches in our feature engineering process.  The decision will be made based on which approach (i.e. to include or not to include Friendlies) performs best.\n"
   ]
  },
  {
   "cell_type": "markdown",
   "metadata": {},
   "source": [
    "Let's remove the friendly matches from the dataset.  The friendly matches represent a high percentage of the data set, but friendly matches do not have the same stakes and therefore do not help us assess the true ability of teams."
   ]
  },
  {
   "cell_type": "code",
   "execution_count": 10,
   "metadata": {},
   "outputs": [],
   "source": [
    "# Exclude matches prior to 1/10/1968\n",
    "#df = df[df['date'] >= start_date]\n",
    "\n",
    "# Exclude Friendlies\n",
    "#df = df[df['tournament'] != 'Friendly']"
   ]
  },
  {
   "cell_type": "markdown",
   "metadata": {},
   "source": [
    "## 4 - Create Intermediary Features"
   ]
  },
  {
   "cell_type": "markdown",
   "metadata": {},
   "source": [
    "### 4.1 Result"
   ]
  },
  {
   "cell_type": "code",
   "execution_count": 11,
   "metadata": {
    "collapsed": true
   },
   "outputs": [],
   "source": [
    "# result variable\n",
    "# constructed as follows:\n",
    "# 1 for win\n",
    "# 0 for draw\n",
    "# -1 for loss\n",
    "df['result'] = np.sign(df.home_score - df.away_score)"
   ]
  },
  {
   "cell_type": "markdown",
   "metadata": {},
   "source": [
    "### 4.2 Result-Plus"
   ]
  },
  {
   "cell_type": "code",
   "execution_count": 12,
   "metadata": {
    "collapsed": true
   },
   "outputs": [],
   "source": [
    "# result adjusted for venue\n",
    "# -0.5 penalty if result obtained on home soil\n",
    "# +0.5 reward if result obtained on opponent soil \n",
    "# Note: no penalty if achieved on neutral field)\n",
    "df['result_plus'] = np.sign(df.home_score - df.away_score) - (0.50 * (df.neutral==False))"
   ]
  },
  {
   "cell_type": "markdown",
   "metadata": {},
   "source": [
    "### 4.3 Sorted Match-Up"
   ]
  },
  {
   "cell_type": "code",
   "execution_count": 13,
   "metadata": {
    "collapsed": true
   },
   "outputs": [],
   "source": [
    "# Create a lookup value for all unique historical match-ups\n",
    "\n",
    "df['sorted_matchup'] = np.where(df['home_team'] < df['away_team'], \n",
    "                                df['home_team'] + '|' + df['away_team'],\n",
    "                                df['away_team'] + '|' + df['home_team'])"
   ]
  },
  {
   "cell_type": "markdown",
   "metadata": {},
   "source": [
    "### 4.4 Sorted Match-Up Result"
   ]
  },
  {
   "cell_type": "code",
   "execution_count": 14,
   "metadata": {
    "collapsed": true
   },
   "outputs": [],
   "source": [
    "# Store result of the sorted match up\n",
    "df['sorted_result'] = np.where(df['home_team'] < df['away_team'], \n",
    "                               df['result'] ,\n",
    "                               df['result'] * -1)"
   ]
  },
  {
   "cell_type": "markdown",
   "metadata": {},
   "source": [
    "### 4.5 Sorted Match-Up Result-Plus"
   ]
  },
  {
   "cell_type": "code",
   "execution_count": 15,
   "metadata": {
    "collapsed": true
   },
   "outputs": [],
   "source": [
    "# Store \"result plus\" for the sorted match up\n",
    "df['sorted_result_plus'] = np.where(df['home_team'] < df['away_team'], \n",
    "                                    df['result_plus'] ,\n",
    "                                    df['result_plus'] * -1)"
   ]
  },
  {
   "cell_type": "markdown",
   "metadata": {},
   "source": [
    "## 5 - Create Model Features"
   ]
  },
  {
   "cell_type": "markdown",
   "metadata": {},
   "source": [
    "Now that the required intermediary fearures have been created, we will go on to split our data set into training and testing subsets."
   ]
  },
  {
   "cell_type": "code",
   "execution_count": 16,
   "metadata": {
    "collapsed": true
   },
   "outputs": [],
   "source": [
    "df = df.sort_values('date')"
   ]
  },
  {
   "cell_type": "code",
   "execution_count": 17,
   "metadata": {
    "collapsed": true
   },
   "outputs": [],
   "source": [
    "# split the data features generated on the training dataset \n",
    "# will be copied over to test dataset later on\n",
    "\n",
    "train_df = df[df['date'] <= '2018-06-13']\n",
    "test_df = df[df['date'] > '2018-06-13']\n"
   ]
  },
  {
   "cell_type": "code",
   "execution_count": 18,
   "metadata": {
    "scrolled": false
   },
   "outputs": [],
   "source": [
    "#train_df[train_df.neutral == False].head()"
   ]
  },
  {
   "cell_type": "code",
   "execution_count": 19,
   "metadata": {
    "collapsed": true
   },
   "outputs": [],
   "source": [
    "train_df.set_index('date',inplace=True,drop=True)"
   ]
  },
  {
   "cell_type": "code",
   "execution_count": 20,
   "metadata": {},
   "outputs": [
    {
     "data": {
      "text/html": [
       "<div>\n",
       "<style scoped>\n",
       "    .dataframe tbody tr th:only-of-type {\n",
       "        vertical-align: middle;\n",
       "    }\n",
       "\n",
       "    .dataframe tbody tr th {\n",
       "        vertical-align: top;\n",
       "    }\n",
       "\n",
       "    .dataframe thead th {\n",
       "        text-align: right;\n",
       "    }\n",
       "</style>\n",
       "<table border=\"1\" class=\"dataframe\">\n",
       "  <thead>\n",
       "    <tr style=\"text-align: right;\">\n",
       "      <th></th>\n",
       "      <th>home_team</th>\n",
       "      <th>away_team</th>\n",
       "      <th>home_score</th>\n",
       "      <th>away_score</th>\n",
       "      <th>tournament</th>\n",
       "      <th>city</th>\n",
       "      <th>country</th>\n",
       "      <th>neutral</th>\n",
       "      <th>year</th>\n",
       "      <th>result</th>\n",
       "      <th>result_plus</th>\n",
       "      <th>sorted_matchup</th>\n",
       "      <th>sorted_result</th>\n",
       "      <th>sorted_result_plus</th>\n",
       "    </tr>\n",
       "    <tr>\n",
       "      <th>date</th>\n",
       "      <th></th>\n",
       "      <th></th>\n",
       "      <th></th>\n",
       "      <th></th>\n",
       "      <th></th>\n",
       "      <th></th>\n",
       "      <th></th>\n",
       "      <th></th>\n",
       "      <th></th>\n",
       "      <th></th>\n",
       "      <th></th>\n",
       "      <th></th>\n",
       "      <th></th>\n",
       "      <th></th>\n",
       "    </tr>\n",
       "  </thead>\n",
       "  <tbody>\n",
       "    <tr>\n",
       "      <th>1930-08-01</th>\n",
       "      <td>Brazil</td>\n",
       "      <td>France</td>\n",
       "      <td>3</td>\n",
       "      <td>2</td>\n",
       "      <td>Friendly</td>\n",
       "      <td>Rio de Janeiro</td>\n",
       "      <td>Brazil</td>\n",
       "      <td>False</td>\n",
       "      <td>1930</td>\n",
       "      <td>1</td>\n",
       "      <td>0.5</td>\n",
       "      <td>Brazil|France</td>\n",
       "      <td>1</td>\n",
       "      <td>0.5</td>\n",
       "    </tr>\n",
       "    <tr>\n",
       "      <th>1958-06-24</th>\n",
       "      <td>Brazil</td>\n",
       "      <td>France</td>\n",
       "      <td>5</td>\n",
       "      <td>2</td>\n",
       "      <td>FIFA World Cup</td>\n",
       "      <td>Solna</td>\n",
       "      <td>Sweden</td>\n",
       "      <td>True</td>\n",
       "      <td>1958</td>\n",
       "      <td>1</td>\n",
       "      <td>1.0</td>\n",
       "      <td>Brazil|France</td>\n",
       "      <td>1</td>\n",
       "      <td>1.0</td>\n",
       "    </tr>\n",
       "    <tr>\n",
       "      <th>1963-04-28</th>\n",
       "      <td>France</td>\n",
       "      <td>Brazil</td>\n",
       "      <td>2</td>\n",
       "      <td>3</td>\n",
       "      <td>Friendly</td>\n",
       "      <td>Colombes</td>\n",
       "      <td>France</td>\n",
       "      <td>False</td>\n",
       "      <td>1963</td>\n",
       "      <td>-1</td>\n",
       "      <td>-1.5</td>\n",
       "      <td>Brazil|France</td>\n",
       "      <td>1</td>\n",
       "      <td>1.5</td>\n",
       "    </tr>\n",
       "    <tr>\n",
       "      <th>1977-06-30</th>\n",
       "      <td>Brazil</td>\n",
       "      <td>France</td>\n",
       "      <td>2</td>\n",
       "      <td>2</td>\n",
       "      <td>Friendly</td>\n",
       "      <td>Rio de Janeiro</td>\n",
       "      <td>Brazil</td>\n",
       "      <td>False</td>\n",
       "      <td>1977</td>\n",
       "      <td>0</td>\n",
       "      <td>-0.5</td>\n",
       "      <td>Brazil|France</td>\n",
       "      <td>0</td>\n",
       "      <td>-0.5</td>\n",
       "    </tr>\n",
       "    <tr>\n",
       "      <th>1978-04-01</th>\n",
       "      <td>France</td>\n",
       "      <td>Brazil</td>\n",
       "      <td>1</td>\n",
       "      <td>0</td>\n",
       "      <td>Friendly</td>\n",
       "      <td>Paris</td>\n",
       "      <td>France</td>\n",
       "      <td>False</td>\n",
       "      <td>1978</td>\n",
       "      <td>1</td>\n",
       "      <td>0.5</td>\n",
       "      <td>Brazil|France</td>\n",
       "      <td>-1</td>\n",
       "      <td>-0.5</td>\n",
       "    </tr>\n",
       "    <tr>\n",
       "      <th>1981-05-15</th>\n",
       "      <td>France</td>\n",
       "      <td>Brazil</td>\n",
       "      <td>1</td>\n",
       "      <td>3</td>\n",
       "      <td>Friendly</td>\n",
       "      <td>Paris</td>\n",
       "      <td>France</td>\n",
       "      <td>False</td>\n",
       "      <td>1981</td>\n",
       "      <td>-1</td>\n",
       "      <td>-1.5</td>\n",
       "      <td>Brazil|France</td>\n",
       "      <td>1</td>\n",
       "      <td>1.5</td>\n",
       "    </tr>\n",
       "    <tr>\n",
       "      <th>1986-06-21</th>\n",
       "      <td>Brazil</td>\n",
       "      <td>France</td>\n",
       "      <td>1</td>\n",
       "      <td>1</td>\n",
       "      <td>FIFA World Cup</td>\n",
       "      <td>Guadalajara</td>\n",
       "      <td>Mexico</td>\n",
       "      <td>True</td>\n",
       "      <td>1986</td>\n",
       "      <td>0</td>\n",
       "      <td>0.0</td>\n",
       "      <td>Brazil|France</td>\n",
       "      <td>0</td>\n",
       "      <td>0.0</td>\n",
       "    </tr>\n",
       "    <tr>\n",
       "      <th>1992-08-26</th>\n",
       "      <td>France</td>\n",
       "      <td>Brazil</td>\n",
       "      <td>0</td>\n",
       "      <td>2</td>\n",
       "      <td>Friendly</td>\n",
       "      <td>Paris</td>\n",
       "      <td>France</td>\n",
       "      <td>False</td>\n",
       "      <td>1992</td>\n",
       "      <td>-1</td>\n",
       "      <td>-1.5</td>\n",
       "      <td>Brazil|France</td>\n",
       "      <td>1</td>\n",
       "      <td>1.5</td>\n",
       "    </tr>\n",
       "    <tr>\n",
       "      <th>1997-06-03</th>\n",
       "      <td>France</td>\n",
       "      <td>Brazil</td>\n",
       "      <td>1</td>\n",
       "      <td>1</td>\n",
       "      <td>Tournoi de France</td>\n",
       "      <td>Lyon</td>\n",
       "      <td>France</td>\n",
       "      <td>False</td>\n",
       "      <td>1997</td>\n",
       "      <td>0</td>\n",
       "      <td>-0.5</td>\n",
       "      <td>Brazil|France</td>\n",
       "      <td>0</td>\n",
       "      <td>0.5</td>\n",
       "    </tr>\n",
       "    <tr>\n",
       "      <th>1998-07-12</th>\n",
       "      <td>France</td>\n",
       "      <td>Brazil</td>\n",
       "      <td>3</td>\n",
       "      <td>0</td>\n",
       "      <td>FIFA World Cup</td>\n",
       "      <td>Saint-Denis</td>\n",
       "      <td>France</td>\n",
       "      <td>False</td>\n",
       "      <td>1998</td>\n",
       "      <td>1</td>\n",
       "      <td>0.5</td>\n",
       "      <td>Brazil|France</td>\n",
       "      <td>-1</td>\n",
       "      <td>-0.5</td>\n",
       "    </tr>\n",
       "    <tr>\n",
       "      <th>2001-06-07</th>\n",
       "      <td>France</td>\n",
       "      <td>Brazil</td>\n",
       "      <td>2</td>\n",
       "      <td>1</td>\n",
       "      <td>Confederations Cup</td>\n",
       "      <td>Suwon</td>\n",
       "      <td>Korea Republic</td>\n",
       "      <td>True</td>\n",
       "      <td>2001</td>\n",
       "      <td>1</td>\n",
       "      <td>1.0</td>\n",
       "      <td>Brazil|France</td>\n",
       "      <td>-1</td>\n",
       "      <td>-1.0</td>\n",
       "    </tr>\n",
       "    <tr>\n",
       "      <th>2004-05-20</th>\n",
       "      <td>France</td>\n",
       "      <td>Brazil</td>\n",
       "      <td>0</td>\n",
       "      <td>0</td>\n",
       "      <td>Friendly</td>\n",
       "      <td>Saint-Denis</td>\n",
       "      <td>France</td>\n",
       "      <td>False</td>\n",
       "      <td>2004</td>\n",
       "      <td>0</td>\n",
       "      <td>-0.5</td>\n",
       "      <td>Brazil|France</td>\n",
       "      <td>0</td>\n",
       "      <td>0.5</td>\n",
       "    </tr>\n",
       "    <tr>\n",
       "      <th>2006-07-01</th>\n",
       "      <td>Brazil</td>\n",
       "      <td>France</td>\n",
       "      <td>0</td>\n",
       "      <td>1</td>\n",
       "      <td>FIFA World Cup</td>\n",
       "      <td>Frankfurt am Main</td>\n",
       "      <td>Germany</td>\n",
       "      <td>True</td>\n",
       "      <td>2006</td>\n",
       "      <td>-1</td>\n",
       "      <td>-1.0</td>\n",
       "      <td>Brazil|France</td>\n",
       "      <td>-1</td>\n",
       "      <td>-1.0</td>\n",
       "    </tr>\n",
       "    <tr>\n",
       "      <th>2011-02-09</th>\n",
       "      <td>France</td>\n",
       "      <td>Brazil</td>\n",
       "      <td>1</td>\n",
       "      <td>0</td>\n",
       "      <td>Friendly</td>\n",
       "      <td>Saint-Denis</td>\n",
       "      <td>France</td>\n",
       "      <td>False</td>\n",
       "      <td>2011</td>\n",
       "      <td>1</td>\n",
       "      <td>0.5</td>\n",
       "      <td>Brazil|France</td>\n",
       "      <td>-1</td>\n",
       "      <td>-0.5</td>\n",
       "    </tr>\n",
       "    <tr>\n",
       "      <th>2013-06-09</th>\n",
       "      <td>Brazil</td>\n",
       "      <td>France</td>\n",
       "      <td>3</td>\n",
       "      <td>0</td>\n",
       "      <td>Friendly</td>\n",
       "      <td>Porto Alegre</td>\n",
       "      <td>Brazil</td>\n",
       "      <td>False</td>\n",
       "      <td>2013</td>\n",
       "      <td>1</td>\n",
       "      <td>0.5</td>\n",
       "      <td>Brazil|France</td>\n",
       "      <td>1</td>\n",
       "      <td>0.5</td>\n",
       "    </tr>\n",
       "    <tr>\n",
       "      <th>2015-03-26</th>\n",
       "      <td>France</td>\n",
       "      <td>Brazil</td>\n",
       "      <td>1</td>\n",
       "      <td>3</td>\n",
       "      <td>Friendly</td>\n",
       "      <td>Saint-Denis</td>\n",
       "      <td>France</td>\n",
       "      <td>False</td>\n",
       "      <td>2015</td>\n",
       "      <td>-1</td>\n",
       "      <td>-1.5</td>\n",
       "      <td>Brazil|France</td>\n",
       "      <td>1</td>\n",
       "      <td>1.5</td>\n",
       "    </tr>\n",
       "  </tbody>\n",
       "</table>\n",
       "</div>"
      ],
      "text/plain": [
       "           home_team away_team  home_score  away_score          tournament  \\\n",
       "date                                                                         \n",
       "1930-08-01    Brazil    France           3           2            Friendly   \n",
       "1958-06-24    Brazil    France           5           2      FIFA World Cup   \n",
       "1963-04-28    France    Brazil           2           3            Friendly   \n",
       "1977-06-30    Brazil    France           2           2            Friendly   \n",
       "1978-04-01    France    Brazil           1           0            Friendly   \n",
       "1981-05-15    France    Brazil           1           3            Friendly   \n",
       "1986-06-21    Brazil    France           1           1      FIFA World Cup   \n",
       "1992-08-26    France    Brazil           0           2            Friendly   \n",
       "1997-06-03    France    Brazil           1           1   Tournoi de France   \n",
       "1998-07-12    France    Brazil           3           0      FIFA World Cup   \n",
       "2001-06-07    France    Brazil           2           1  Confederations Cup   \n",
       "2004-05-20    France    Brazil           0           0            Friendly   \n",
       "2006-07-01    Brazil    France           0           1      FIFA World Cup   \n",
       "2011-02-09    France    Brazil           1           0            Friendly   \n",
       "2013-06-09    Brazil    France           3           0            Friendly   \n",
       "2015-03-26    France    Brazil           1           3            Friendly   \n",
       "\n",
       "                         city         country  neutral  year  result  \\\n",
       "date                                                                   \n",
       "1930-08-01     Rio de Janeiro          Brazil    False  1930       1   \n",
       "1958-06-24              Solna          Sweden     True  1958       1   \n",
       "1963-04-28           Colombes          France    False  1963      -1   \n",
       "1977-06-30     Rio de Janeiro          Brazil    False  1977       0   \n",
       "1978-04-01              Paris          France    False  1978       1   \n",
       "1981-05-15              Paris          France    False  1981      -1   \n",
       "1986-06-21        Guadalajara          Mexico     True  1986       0   \n",
       "1992-08-26              Paris          France    False  1992      -1   \n",
       "1997-06-03               Lyon          France    False  1997       0   \n",
       "1998-07-12        Saint-Denis          France    False  1998       1   \n",
       "2001-06-07              Suwon  Korea Republic     True  2001       1   \n",
       "2004-05-20        Saint-Denis          France    False  2004       0   \n",
       "2006-07-01  Frankfurt am Main         Germany     True  2006      -1   \n",
       "2011-02-09        Saint-Denis          France    False  2011       1   \n",
       "2013-06-09       Porto Alegre          Brazil    False  2013       1   \n",
       "2015-03-26        Saint-Denis          France    False  2015      -1   \n",
       "\n",
       "            result_plus sorted_matchup  sorted_result  sorted_result_plus  \n",
       "date                                                                       \n",
       "1930-08-01          0.5  Brazil|France              1                 0.5  \n",
       "1958-06-24          1.0  Brazil|France              1                 1.0  \n",
       "1963-04-28         -1.5  Brazil|France              1                 1.5  \n",
       "1977-06-30         -0.5  Brazil|France              0                -0.5  \n",
       "1978-04-01          0.5  Brazil|France             -1                -0.5  \n",
       "1981-05-15         -1.5  Brazil|France              1                 1.5  \n",
       "1986-06-21          0.0  Brazil|France              0                 0.0  \n",
       "1992-08-26         -1.5  Brazil|France              1                 1.5  \n",
       "1997-06-03         -0.5  Brazil|France              0                 0.5  \n",
       "1998-07-12          0.5  Brazil|France             -1                -0.5  \n",
       "2001-06-07          1.0  Brazil|France             -1                -1.0  \n",
       "2004-05-20         -0.5  Brazil|France              0                 0.5  \n",
       "2006-07-01         -1.0  Brazil|France             -1                -1.0  \n",
       "2011-02-09          0.5  Brazil|France             -1                -0.5  \n",
       "2013-06-09          0.5  Brazil|France              1                 0.5  \n",
       "2015-03-26         -1.5  Brazil|France              1                 1.5  "
      ]
     },
     "execution_count": 20,
     "metadata": {},
     "output_type": "execute_result"
    }
   ],
   "source": [
    "# check output\n",
    "train_df[train_df['sorted_matchup'] == 'Brazil|France']"
   ]
  },
  {
   "cell_type": "markdown",
   "metadata": {},
   "source": [
    "### 5.1 - Historical Record vs Opponent"
   ]
  },
  {
   "cell_type": "markdown",
   "metadata": {},
   "source": [
    "Defintions:\n",
    " - **Historical Record vs Opponent:**\n",
    "     - **Variable Name**: hrvo_rwma\n",
    "     - **Description**: Lagging indicator of past performance vs opponent based on _results_ variable\n",
    "\n",
    "\n",
    "\n",
    " - **Historical Record vs Opponent \"Plus\":**\n",
    "     - **Variable Name**: hrvop_rwma\n",
    "     - **Description**: Lagging indicator of past performance vs opponent based on _results-plus_ variable"
   ]
  },
  {
   "cell_type": "markdown",
   "metadata": {},
   "source": [
    "### 5.1.1 - Generate Features"
   ]
  },
  {
   "cell_type": "code",
   "execution_count": 21,
   "metadata": {
    "collapsed": true
   },
   "outputs": [],
   "source": [
    "# create new dataframe (df_vs_oppo) to store rolling record vs opponent using custom rolling weighted average function (rwma)\n",
    "df_vs_oppo  = train_df.groupby('sorted_matchup')[['sorted_result','sorted_result_plus']].apply(rwma,0,5)\n",
    "\n",
    "train_df.reset_index(inplace=True)"
   ]
  },
  {
   "cell_type": "code",
   "execution_count": 22,
   "metadata": {},
   "outputs": [],
   "source": [
    "# rename columns, as group by generates undesirable column names\n",
    "df_vs_oppo = df_vs_oppo.rename(columns={'sorted_result':'hrvo_rwma', \n",
    "                                        'rwma':'hrvop_rwma' })\n",
    "\n",
    "df_vs_oppo.reset_index(inplace=True)\n",
    "\n",
    "df_vs_oppo = df_vs_oppo.drop(columns = 'level_1')\n",
    "\n",
    "# fill first match-up where values for sorted_result_rwma and sorted_result_plus_rwma will always be N/A with zeroes.\n",
    "df_vs_oppo['hrvo_rwma'] = df_vs_oppo['hrvo_rwma'].fillna(0)\n",
    "df_vs_oppo['hrvop_rwma'] = df_vs_oppo['hrvop_rwma'].fillna(0)"
   ]
  },
  {
   "cell_type": "markdown",
   "metadata": {},
   "source": [
    "### 5.1.2 - Examine Features"
   ]
  },
  {
   "cell_type": "markdown",
   "metadata": {},
   "source": [
    "Let's take a look at match results vs our newly engineered variables:"
   ]
  },
  {
   "cell_type": "code",
   "execution_count": 23,
   "metadata": {},
   "outputs": [
    {
     "data": {
      "image/png": "[encoded data removed]",
      "text/plain": [
       "<Figure size 1440x360 with 1 Axes>"
      ]
     },
     "metadata": {},
     "output_type": "display_data"
    }
   ],
   "source": [
    "temp_train_df = train_df[train_df['sorted_matchup'] == 'France|Spain']\n",
    "\n",
    "temp_df_vs_oppo = df_vs_oppo[df_vs_oppo['sorted_matchup'] == 'France|Spain']\n",
    "\n",
    "fig, ax = plt.subplots(1,1,figsize = (20,5))\n",
    "\n",
    "ax.plot(temp_train_df['date'] , temp_train_df['sorted_result'], 'o', label = 'sorted_result', alpha = 0.2, color = 'blue')\n",
    "ax.plot(temp_train_df['date'] , temp_train_df['sorted_result_plus'] , 'o', label = 'sorted_result_plus', alpha = 0.2, color = 'red')\n",
    "ax.plot(temp_df_vs_oppo['date'] , temp_df_vs_oppo['hrvo_rwma'] , '-', label = 'hrvo_rwma', alpha = 0.5, color = 'blue')\n",
    "ax.plot(temp_df_vs_oppo['date'] , temp_df_vs_oppo['hrvop_rwma'] , '-', label = 'hrvop_rwma', alpha = 0.5, color = 'red')\n",
    "ax.axhline(0, linestyle = '--', alpha = 0.2)\n",
    "\n",
    "ax.set_xlabel('Year')\n",
    "ax.set_ylabel('Match Results and Moving Averages')\n",
    "ax.set_title('Illustration of \"Historical Record vs Opponent\" Feature: Argentina vs. Brazil')\n",
    "\n",
    "ax.legend()\n",
    "plt.show()"
   ]
  },
  {
   "cell_type": "code",
   "execution_count": 24,
   "metadata": {
    "collapsed": true
   },
   "outputs": [],
   "source": [
    "pair_plot_df = train_df[['sorted_matchup', 'date','sorted_result','sorted_result_plus']].merge(df_vs_oppo[['sorted_matchup','date','hrvo_rwma','hrvop_rwma']], \n",
    "                  how = 'inner',\n",
    "                  left_on=['sorted_matchup','date'], \n",
    "                  right_on=['sorted_matchup','date'])"
   ]
  },
  {
   "cell_type": "code",
   "execution_count": 25,
   "metadata": {
    "scrolled": false
   },
   "outputs": [
    {
     "data": {
      "text/plain": [
       "<seaborn.axisgrid.PairGrid at 0x1a1551ec18>"
      ]
     },
     "execution_count": 25,
     "metadata": {},
     "output_type": "execute_result"
    },
    {
     "data": {
      "image/png": "[encoded data removed]",
      "text/plain": [
       "<Figure size 433.375x360 with 6 Axes>"
      ]
     },
     "metadata": {},
     "output_type": "display_data"
    }
   ],
   "source": [
    "# Look at Argentina vs Brazil\n",
    "temp_pair_plot_df = pair_plot_df[pair_plot_df['sorted_matchup'] == 'Argentina|Brazil']\n",
    "sns.pairplot(temp_pair_plot_df, vars = ['hrvo_rwma' , 'hrvop_rwma'] , hue=\"sorted_result\")"
   ]
  },
  {
   "cell_type": "code",
   "execution_count": 26,
   "metadata": {},
   "outputs": [
    {
     "data": {
      "text/plain": [
       "<seaborn.axisgrid.PairGrid at 0x1a23504b70>"
      ]
     },
     "execution_count": 26,
     "metadata": {},
     "output_type": "execute_result"
    },
    {
     "data": {
      "image/png": "[encoded data removed]",
      "text/plain": [
       "<Figure size 433.375x360 with 6 Axes>"
      ]
     },
     "metadata": {},
     "output_type": "display_data"
    }
   ],
   "source": [
    "# Look at France vs Spain\n",
    "temp_pair_plot_df = pair_plot_df[pair_plot_df['sorted_matchup'] == 'France|Spain']\n",
    "sns.pairplot(temp_pair_plot_df, vars = ['hrvo_rwma' , 'hrvop_rwma'] , hue=\"sorted_result\")"
   ]
  },
  {
   "cell_type": "code",
   "execution_count": 27,
   "metadata": {},
   "outputs": [
    {
     "data": {
      "text/plain": [
       "<seaborn.axisgrid.PairGrid at 0x1a22e08630>"
      ]
     },
     "execution_count": 27,
     "metadata": {},
     "output_type": "execute_result"
    },
    {
     "data": {
      "image/png": "[encoded data removed]",
      "text/plain": [
       "<Figure size 433.375x360 with 6 Axes>"
      ]
     },
     "metadata": {},
     "output_type": "display_data"
    }
   ],
   "source": [
    "# Look at France vs Spain\n",
    "temp_pair_plot_df = pair_plot_df[pair_plot_df['sorted_matchup'] == 'Mexico|USA']\n",
    "sns.pairplot(temp_pair_plot_df, vars = ['hrvo_rwma' , 'hrvop_rwma'] , hue=\"sorted_result\")"
   ]
  },
  {
   "cell_type": "markdown",
   "metadata": {},
   "source": [
    "Based on the above, it would appear that neither variable is highly related to match results, but it seems that hrvop_rwma might be a little bit better than hrvo_rwma."
   ]
  },
  {
   "cell_type": "code",
   "execution_count": 28,
   "metadata": {},
   "outputs": [
    {
     "data": {
      "image/png": "[encoded data removed]",
      "text/plain": [
       "<Figure size 720x360 with 1 Axes>"
      ]
     },
     "metadata": {},
     "output_type": "display_data"
    }
   ],
   "source": [
    "# Check how many matches have taken place for all the matchups in our data set.\n",
    "matchup_bins = np.linspace(4,99,20)\n",
    "matchup_bins = np.linspace(1,70,70)\n",
    "fig, ax = plt.subplots(1,1,figsize = (10,5))\n",
    "ax.hist(df_vs_oppo.groupby('sorted_matchup').size(), bins = matchup_bins, alpha = .5)\n",
    "ax.set_ylabel('Frequency')\n",
    "ax.set_xlabel('Number of Historical Matchups')\n",
    "plt.show()"
   ]
  },
  {
   "cell_type": "markdown",
   "metadata": {},
   "source": [
    "Based on the histogram above, it becomes apparent that most many teams have only played each other only once or twice. \n",
    "The Historical Record vs Opponent features may therefore not be all that useful because many teams have only played each other on one or two occasions.\n",
    "This feature may become more useful once the dataset shrinks to teams that are available in our other data sets (sofifa.com, etc.), but this remains to be seen."
   ]
  },
  {
   "cell_type": "markdown",
   "metadata": {},
   "source": [
    "### 5.2 - Historical Record vs All Opponents"
   ]
  },
  {
   "cell_type": "markdown",
   "metadata": {},
   "source": [
    "Defintions:\n",
    " - **Historical Record vs All:**\n",
    "     - **Variable Name**: hrva_rwma\n",
    "     - **Description**: Lagging indicator of past performance vs all opponents based on _results_ variable\n",
    "\n",
    "\n",
    "\n",
    " - **Historical Record vs All \"Plus\":**\n",
    "     - **Variable Name**: hrvap_rwma\n",
    "     - **Description**: Lagging indicator of past performance vs all opponents based on _results-plus_ variable"
   ]
  },
  {
   "cell_type": "markdown",
   "metadata": {},
   "source": [
    "### 5.2.1 - Generate Features"
   ]
  },
  {
   "cell_type": "code",
   "execution_count": 29,
   "metadata": {},
   "outputs": [],
   "source": [
    "# Manipulate international results to get a dataframe that looks as follows:\n",
    "\n",
    "# Date | home | team | tournament | result \n",
    "\n",
    "#df_home\n",
    "df_home = pd.DataFrame(train_df, \n",
    "                       columns = ['date','home_team','tournament','result','result_plus'], \n",
    "                       copy = True)\n",
    "df_home = df_home.rename(columns = {\"home_team\" : \"team\"})\n",
    "df_home['home'] = 1"
   ]
  },
  {
   "cell_type": "code",
   "execution_count": 30,
   "metadata": {},
   "outputs": [],
   "source": [
    "#df_away\n",
    "df_away = pd.DataFrame(train_df, columns = ['date','away_team','tournament'], \n",
    "                       copy = True)\n",
    "df_away = df_away.rename(columns = {\"away_team\" : \"team\"})\n",
    "df_away['result'] = train_df['result'] * - 1\n",
    "df_away['result_plus'] = train_df['result_plus'] * - 1\n",
    "df_away['home'] = 0"
   ]
  },
  {
   "cell_type": "code",
   "execution_count": 31,
   "metadata": {},
   "outputs": [
    {
     "data": {
      "text/html": [
       "<div>\n",
       "<style scoped>\n",
       "    .dataframe tbody tr th:only-of-type {\n",
       "        vertical-align: middle;\n",
       "    }\n",
       "\n",
       "    .dataframe tbody tr th {\n",
       "        vertical-align: top;\n",
       "    }\n",
       "\n",
       "    .dataframe thead th {\n",
       "        text-align: right;\n",
       "    }\n",
       "</style>\n",
       "<table border=\"1\" class=\"dataframe\">\n",
       "  <thead>\n",
       "    <tr style=\"text-align: right;\">\n",
       "      <th></th>\n",
       "      <th>home</th>\n",
       "      <th>result</th>\n",
       "      <th>result_plus</th>\n",
       "      <th>team</th>\n",
       "      <th>tournament</th>\n",
       "    </tr>\n",
       "    <tr>\n",
       "      <th>date</th>\n",
       "      <th></th>\n",
       "      <th></th>\n",
       "      <th></th>\n",
       "      <th></th>\n",
       "      <th></th>\n",
       "    </tr>\n",
       "  </thead>\n",
       "  <tbody>\n",
       "    <tr>\n",
       "      <th>1872-11-30</th>\n",
       "      <td>1</td>\n",
       "      <td>0</td>\n",
       "      <td>-0.5</td>\n",
       "      <td>Scotland</td>\n",
       "      <td>Friendly</td>\n",
       "    </tr>\n",
       "    <tr>\n",
       "      <th>1872-11-30</th>\n",
       "      <td>0</td>\n",
       "      <td>0</td>\n",
       "      <td>0.5</td>\n",
       "      <td>England</td>\n",
       "      <td>Friendly</td>\n",
       "    </tr>\n",
       "    <tr>\n",
       "      <th>1873-03-08</th>\n",
       "      <td>1</td>\n",
       "      <td>1</td>\n",
       "      <td>0.5</td>\n",
       "      <td>England</td>\n",
       "      <td>Friendly</td>\n",
       "    </tr>\n",
       "    <tr>\n",
       "      <th>1873-03-08</th>\n",
       "      <td>0</td>\n",
       "      <td>-1</td>\n",
       "      <td>-0.5</td>\n",
       "      <td>Scotland</td>\n",
       "      <td>Friendly</td>\n",
       "    </tr>\n",
       "    <tr>\n",
       "      <th>1874-03-07</th>\n",
       "      <td>1</td>\n",
       "      <td>1</td>\n",
       "      <td>0.5</td>\n",
       "      <td>Scotland</td>\n",
       "      <td>Friendly</td>\n",
       "    </tr>\n",
       "  </tbody>\n",
       "</table>\n",
       "</div>"
      ],
      "text/plain": [
       "            home  result  result_plus      team tournament\n",
       "date                                                      \n",
       "1872-11-30     1       0         -0.5  Scotland   Friendly\n",
       "1872-11-30     0       0          0.5   England   Friendly\n",
       "1873-03-08     1       1          0.5   England   Friendly\n",
       "1873-03-08     0      -1         -0.5  Scotland   Friendly\n",
       "1874-03-07     1       1          0.5  Scotland   Friendly"
      ]
     },
     "execution_count": 31,
     "metadata": {},
     "output_type": "execute_result"
    }
   ],
   "source": [
    "#df_tall (combo of df_home and df_away)\n",
    "df_tall = df_home.append(df_away, sort = True)\n",
    "\n",
    "df_tall = df_tall.sort_values('date')\n",
    "\n",
    "df_tall.set_index('date',inplace=True,drop=True)\n",
    "\n",
    "#print(len(train_df))\n",
    "#print(len(df_tall))\n",
    "df_tall.head()"
   ]
  },
  {
   "cell_type": "markdown",
   "metadata": {},
   "source": [
    "### 5.2.2 - Examine Features"
   ]
  },
  {
   "cell_type": "code",
   "execution_count": 32,
   "metadata": {
    "collapsed": true
   },
   "outputs": [],
   "source": [
    "overall_record_rwma_df = df_tall.groupby('team')['result'].apply(rwma,0,40)\n",
    "overall_record_rwmap_df = df_tall.groupby('team')['result_plus'].apply(rwma,0,40)\n",
    "\n",
    "overall_record_rmean_df = df_tall.groupby('team')['result'].apply(rmean,0)\n",
    "overall_record_rmeanp_df = df_tall.groupby('team')['result_plus'].apply(rmean,0)\n",
    "\n",
    "overall_record_df = overall_record_rwma_df.copy()"
   ]
  },
  {
   "cell_type": "code",
   "execution_count": 33,
   "metadata": {},
   "outputs": [],
   "source": [
    "overall_record_df = overall_record_df.rename(columns = {'rwma':'hrva_rwma'})\n",
    "\n",
    "overall_record_df['hrvap_rwma'] = overall_record_rwmap_df['rwma']\n",
    "\n",
    "overall_record_df['hrva_rmean'] = overall_record_rmean_df['rmean']\n",
    "\n",
    "overall_record_df['hrvap_rmean'] = overall_record_rmeanp_df['rmean']"
   ]
  },
  {
   "cell_type": "code",
   "execution_count": 34,
   "metadata": {},
   "outputs": [
    {
     "data": {
      "text/html": [
       "<div>\n",
       "<style scoped>\n",
       "    .dataframe tbody tr th:only-of-type {\n",
       "        vertical-align: middle;\n",
       "    }\n",
       "\n",
       "    .dataframe tbody tr th {\n",
       "        vertical-align: top;\n",
       "    }\n",
       "\n",
       "    .dataframe thead th {\n",
       "        text-align: right;\n",
       "    }\n",
       "</style>\n",
       "<table border=\"1\" class=\"dataframe\">\n",
       "  <thead>\n",
       "    <tr style=\"text-align: right;\">\n",
       "      <th></th>\n",
       "      <th></th>\n",
       "      <th>date</th>\n",
       "      <th>hrva_rwma</th>\n",
       "      <th>hrvap_rwma</th>\n",
       "      <th>hrva_rmean</th>\n",
       "      <th>hrvap_rmean</th>\n",
       "    </tr>\n",
       "    <tr>\n",
       "      <th>team</th>\n",
       "      <th></th>\n",
       "      <th></th>\n",
       "      <th></th>\n",
       "      <th></th>\n",
       "      <th></th>\n",
       "      <th></th>\n",
       "    </tr>\n",
       "  </thead>\n",
       "  <tbody>\n",
       "    <tr>\n",
       "      <th rowspan=\"5\" valign=\"top\">Abkhazia</th>\n",
       "      <th>0</th>\n",
       "      <td>2014-06-01</td>\n",
       "      <td>NaN</td>\n",
       "      <td>NaN</td>\n",
       "      <td>NaN</td>\n",
       "      <td>NaN</td>\n",
       "    </tr>\n",
       "    <tr>\n",
       "      <th>1</th>\n",
       "      <td>2014-06-02</td>\n",
       "      <td>0.000000</td>\n",
       "      <td>0.000000</td>\n",
       "      <td>0.000000</td>\n",
       "      <td>0.000</td>\n",
       "    </tr>\n",
       "    <tr>\n",
       "      <th>2</th>\n",
       "      <td>2014-06-04</td>\n",
       "      <td>0.512500</td>\n",
       "      <td>0.768750</td>\n",
       "      <td>0.500000</td>\n",
       "      <td>0.750</td>\n",
       "    </tr>\n",
       "    <tr>\n",
       "      <th>3</th>\n",
       "      <td>2014-06-05</td>\n",
       "      <td>0.333056</td>\n",
       "      <td>0.499583</td>\n",
       "      <td>0.333333</td>\n",
       "      <td>0.500</td>\n",
       "    </tr>\n",
       "    <tr>\n",
       "      <th>4</th>\n",
       "      <td>2014-06-07</td>\n",
       "      <td>0.243446</td>\n",
       "      <td>0.365168</td>\n",
       "      <td>0.250000</td>\n",
       "      <td>0.375</td>\n",
       "    </tr>\n",
       "  </tbody>\n",
       "</table>\n",
       "</div>"
      ],
      "text/plain": [
       "                 date  hrva_rwma  hrvap_rwma  hrva_rmean  hrvap_rmean\n",
       "team                                                                 \n",
       "Abkhazia 0 2014-06-01        NaN         NaN         NaN          NaN\n",
       "         1 2014-06-02   0.000000    0.000000    0.000000        0.000\n",
       "         2 2014-06-04   0.512500    0.768750    0.500000        0.750\n",
       "         3 2014-06-05   0.333056    0.499583    0.333333        0.500\n",
       "         4 2014-06-07   0.243446    0.365168    0.250000        0.375"
      ]
     },
     "execution_count": 34,
     "metadata": {},
     "output_type": "execute_result"
    }
   ],
   "source": [
    "overall_record_df.head()"
   ]
  },
  {
   "cell_type": "code",
   "execution_count": 35,
   "metadata": {},
   "outputs": [],
   "source": [
    "overall_record_df.reset_index(inplace=True)\n",
    "\n",
    "overall_record_df.drop(columns='level_1', inplace= True)\n",
    "\n",
    "overall_record_df.hrva_rwma = overall_record_df.hrva_rwma.fillna(0)\n",
    "\n",
    "overall_record_df.hrvap_rwma = overall_record_df.hrvap_rwma.fillna(0)\n",
    "\n",
    "overall_record_df.hrva_rmean = overall_record_df.hrva_rmean.fillna(0)\n",
    "\n",
    "overall_record_df.hrvap_rmean = overall_record_df.hrvap_rmean.fillna(0)\n",
    "\n"
   ]
  },
  {
   "cell_type": "code",
   "execution_count": 36,
   "metadata": {},
   "outputs": [
    {
     "data": {
      "text/html": [
       "<div>\n",
       "<style scoped>\n",
       "    .dataframe tbody tr th:only-of-type {\n",
       "        vertical-align: middle;\n",
       "    }\n",
       "\n",
       "    .dataframe tbody tr th {\n",
       "        vertical-align: top;\n",
       "    }\n",
       "\n",
       "    .dataframe thead th {\n",
       "        text-align: right;\n",
       "    }\n",
       "</style>\n",
       "<table border=\"1\" class=\"dataframe\">\n",
       "  <thead>\n",
       "    <tr style=\"text-align: right;\">\n",
       "      <th></th>\n",
       "      <th>team</th>\n",
       "      <th>date</th>\n",
       "      <th>hrva_rwma</th>\n",
       "      <th>hrvap_rwma</th>\n",
       "      <th>hrva_rmean</th>\n",
       "      <th>hrvap_rmean</th>\n",
       "    </tr>\n",
       "  </thead>\n",
       "  <tbody>\n",
       "    <tr>\n",
       "      <th>23261</th>\n",
       "      <td>France</td>\n",
       "      <td>1904-05-01</td>\n",
       "      <td>0.000000</td>\n",
       "      <td>0.000000</td>\n",
       "      <td>0.000000</td>\n",
       "      <td>0.000000</td>\n",
       "    </tr>\n",
       "    <tr>\n",
       "      <th>23262</th>\n",
       "      <td>France</td>\n",
       "      <td>1905-02-12</td>\n",
       "      <td>0.000000</td>\n",
       "      <td>0.500000</td>\n",
       "      <td>0.000000</td>\n",
       "      <td>0.500000</td>\n",
       "    </tr>\n",
       "    <tr>\n",
       "      <th>23263</th>\n",
       "      <td>France</td>\n",
       "      <td>1905-05-07</td>\n",
       "      <td>0.512500</td>\n",
       "      <td>0.500000</td>\n",
       "      <td>0.500000</td>\n",
       "      <td>0.500000</td>\n",
       "    </tr>\n",
       "    <tr>\n",
       "      <th>23264</th>\n",
       "      <td>France</td>\n",
       "      <td>1906-04-22</td>\n",
       "      <td>-0.017080</td>\n",
       "      <td>0.149865</td>\n",
       "      <td>0.000000</td>\n",
       "      <td>0.166667</td>\n",
       "    </tr>\n",
       "    <tr>\n",
       "      <th>23265</th>\n",
       "      <td>France</td>\n",
       "      <td>1907-04-21</td>\n",
       "      <td>-0.281539</td>\n",
       "      <td>-0.294039</td>\n",
       "      <td>-0.250000</td>\n",
       "      <td>-0.250000</td>\n",
       "    </tr>\n",
       "    <tr>\n",
       "      <th>23266</th>\n",
       "      <td>France</td>\n",
       "      <td>1908-03-08</td>\n",
       "      <td>0.001024</td>\n",
       "      <td>0.101523</td>\n",
       "      <td>0.000000</td>\n",
       "      <td>0.100000</td>\n",
       "    </tr>\n",
       "    <tr>\n",
       "      <th>23267</th>\n",
       "      <td>France</td>\n",
       "      <td>1908-04-12</td>\n",
       "      <td>0.189007</td>\n",
       "      <td>0.364683</td>\n",
       "      <td>0.166667</td>\n",
       "      <td>0.333333</td>\n",
       "    </tr>\n",
       "    <tr>\n",
       "      <th>23268</th>\n",
       "      <td>France</td>\n",
       "      <td>1908-05-10</td>\n",
       "      <td>-0.007362</td>\n",
       "      <td>0.056723</td>\n",
       "      <td>0.000000</td>\n",
       "      <td>0.071429</td>\n",
       "    </tr>\n",
       "    <tr>\n",
       "      <th>23269</th>\n",
       "      <td>France</td>\n",
       "      <td>1909-05-09</td>\n",
       "      <td>-0.154211</td>\n",
       "      <td>-0.025638</td>\n",
       "      <td>-0.125000</td>\n",
       "      <td>0.000000</td>\n",
       "    </tr>\n",
       "    <tr>\n",
       "      <th>23270</th>\n",
       "      <td>France</td>\n",
       "      <td>1910-04-03</td>\n",
       "      <td>-0.268048</td>\n",
       "      <td>-0.089483</td>\n",
       "      <td>-0.222222</td>\n",
       "      <td>-0.055556</td>\n",
       "    </tr>\n",
       "  </tbody>\n",
       "</table>\n",
       "</div>"
      ],
      "text/plain": [
       "         team       date  hrva_rwma  hrvap_rwma  hrva_rmean  hrvap_rmean\n",
       "23261  France 1904-05-01   0.000000    0.000000    0.000000     0.000000\n",
       "23262  France 1905-02-12   0.000000    0.500000    0.000000     0.500000\n",
       "23263  France 1905-05-07   0.512500    0.500000    0.500000     0.500000\n",
       "23264  France 1906-04-22  -0.017080    0.149865    0.000000     0.166667\n",
       "23265  France 1907-04-21  -0.281539   -0.294039   -0.250000    -0.250000\n",
       "23266  France 1908-03-08   0.001024    0.101523    0.000000     0.100000\n",
       "23267  France 1908-04-12   0.189007    0.364683    0.166667     0.333333\n",
       "23268  France 1908-05-10  -0.007362    0.056723    0.000000     0.071429\n",
       "23269  France 1909-05-09  -0.154211   -0.025638   -0.125000     0.000000\n",
       "23270  France 1910-04-03  -0.268048   -0.089483   -0.222222    -0.055556"
      ]
     },
     "execution_count": 36,
     "metadata": {},
     "output_type": "execute_result"
    }
   ],
   "source": [
    "overall_record_df[overall_record_df['team'] == 'France'].head(10)"
   ]
  },
  {
   "cell_type": "code",
   "execution_count": 37,
   "metadata": {},
   "outputs": [
    {
     "data": {
      "text/html": [
       "<div>\n",
       "<style scoped>\n",
       "    .dataframe tbody tr th:only-of-type {\n",
       "        vertical-align: middle;\n",
       "    }\n",
       "\n",
       "    .dataframe tbody tr th {\n",
       "        vertical-align: top;\n",
       "    }\n",
       "\n",
       "    .dataframe thead th {\n",
       "        text-align: right;\n",
       "    }\n",
       "</style>\n",
       "<table border=\"1\" class=\"dataframe\">\n",
       "  <thead>\n",
       "    <tr style=\"text-align: right;\">\n",
       "      <th></th>\n",
       "      <th>team</th>\n",
       "      <th>date</th>\n",
       "      <th>hrva_rwma</th>\n",
       "      <th>hrvap_rwma</th>\n",
       "      <th>hrva_rmean</th>\n",
       "      <th>hrvap_rmean</th>\n",
       "    </tr>\n",
       "  </thead>\n",
       "  <tbody>\n",
       "    <tr>\n",
       "      <th>24064</th>\n",
       "      <td>France</td>\n",
       "      <td>2017-09-03</td>\n",
       "      <td>0.482441</td>\n",
       "      <td>0.299438</td>\n",
       "      <td>0.333333</td>\n",
       "      <td>0.227273</td>\n",
       "    </tr>\n",
       "    <tr>\n",
       "      <th>24065</th>\n",
       "      <td>France</td>\n",
       "      <td>2017-10-07</td>\n",
       "      <td>0.458907</td>\n",
       "      <td>0.260441</td>\n",
       "      <td>0.330827</td>\n",
       "      <td>0.221805</td>\n",
       "    </tr>\n",
       "    <tr>\n",
       "      <th>24066</th>\n",
       "      <td>France</td>\n",
       "      <td>2017-10-10</td>\n",
       "      <td>0.485302</td>\n",
       "      <td>0.320907</td>\n",
       "      <td>0.348485</td>\n",
       "      <td>0.242424</td>\n",
       "    </tr>\n",
       "    <tr>\n",
       "      <th>24067</th>\n",
       "      <td>France</td>\n",
       "      <td>2017-11-10</td>\n",
       "      <td>0.510409</td>\n",
       "      <td>0.329643</td>\n",
       "      <td>0.348485</td>\n",
       "      <td>0.234848</td>\n",
       "    </tr>\n",
       "    <tr>\n",
       "      <th>24068</th>\n",
       "      <td>France</td>\n",
       "      <td>2017-11-14</td>\n",
       "      <td>0.534292</td>\n",
       "      <td>0.337953</td>\n",
       "      <td>0.348485</td>\n",
       "      <td>0.234848</td>\n",
       "    </tr>\n",
       "    <tr>\n",
       "      <th>24069</th>\n",
       "      <td>France</td>\n",
       "      <td>2018-03-23</td>\n",
       "      <td>0.508229</td>\n",
       "      <td>0.345858</td>\n",
       "      <td>0.348485</td>\n",
       "      <td>0.242424</td>\n",
       "    </tr>\n",
       "    <tr>\n",
       "      <th>24070</th>\n",
       "      <td>France</td>\n",
       "      <td>2018-03-27</td>\n",
       "      <td>0.434657</td>\n",
       "      <td>0.255816</td>\n",
       "      <td>0.351145</td>\n",
       "      <td>0.232824</td>\n",
       "    </tr>\n",
       "    <tr>\n",
       "      <th>24071</th>\n",
       "      <td>France</td>\n",
       "      <td>2018-05-28</td>\n",
       "      <td>0.462234</td>\n",
       "      <td>0.316508</td>\n",
       "      <td>0.351145</td>\n",
       "      <td>0.240458</td>\n",
       "    </tr>\n",
       "    <tr>\n",
       "      <th>24072</th>\n",
       "      <td>France</td>\n",
       "      <td>2018-06-01</td>\n",
       "      <td>0.488467</td>\n",
       "      <td>0.325459</td>\n",
       "      <td>0.351145</td>\n",
       "      <td>0.240458</td>\n",
       "    </tr>\n",
       "    <tr>\n",
       "      <th>24073</th>\n",
       "      <td>France</td>\n",
       "      <td>2018-06-09</td>\n",
       "      <td>0.513420</td>\n",
       "      <td>0.333973</td>\n",
       "      <td>0.353846</td>\n",
       "      <td>0.246154</td>\n",
       "    </tr>\n",
       "  </tbody>\n",
       "</table>\n",
       "</div>"
      ],
      "text/plain": [
       "         team       date  hrva_rwma  hrvap_rwma  hrva_rmean  hrvap_rmean\n",
       "24064  France 2017-09-03   0.482441    0.299438    0.333333     0.227273\n",
       "24065  France 2017-10-07   0.458907    0.260441    0.330827     0.221805\n",
       "24066  France 2017-10-10   0.485302    0.320907    0.348485     0.242424\n",
       "24067  France 2017-11-10   0.510409    0.329643    0.348485     0.234848\n",
       "24068  France 2017-11-14   0.534292    0.337953    0.348485     0.234848\n",
       "24069  France 2018-03-23   0.508229    0.345858    0.348485     0.242424\n",
       "24070  France 2018-03-27   0.434657    0.255816    0.351145     0.232824\n",
       "24071  France 2018-05-28   0.462234    0.316508    0.351145     0.240458\n",
       "24072  France 2018-06-01   0.488467    0.325459    0.351145     0.240458\n",
       "24073  France 2018-06-09   0.513420    0.333973    0.353846     0.246154"
      ]
     },
     "execution_count": 37,
     "metadata": {},
     "output_type": "execute_result"
    }
   ],
   "source": [
    "overall_record_df[overall_record_df['team'] == 'France'].tail(10)"
   ]
  },
  {
   "cell_type": "code",
   "execution_count": 38,
   "metadata": {},
   "outputs": [],
   "source": [
    "temp_df1 = overall_record_df[overall_record_df['team'] == 'France']\n",
    "temp_df2 = overall_record_df[overall_record_df['team'] == 'Spain']\n",
    "temp_df3 = df_vs_oppo[df_vs_oppo['sorted_matchup'] == 'France|Spain']"
   ]
  },
  {
   "cell_type": "code",
   "execution_count": 39,
   "metadata": {},
   "outputs": [
    {
     "data": {
      "text/html": [
       "<div>\n",
       "<style scoped>\n",
       "    .dataframe tbody tr th:only-of-type {\n",
       "        vertical-align: middle;\n",
       "    }\n",
       "\n",
       "    .dataframe tbody tr th {\n",
       "        vertical-align: top;\n",
       "    }\n",
       "\n",
       "    .dataframe thead th {\n",
       "        text-align: right;\n",
       "    }\n",
       "</style>\n",
       "<table border=\"1\" class=\"dataframe\">\n",
       "  <thead>\n",
       "    <tr style=\"text-align: right;\">\n",
       "      <th></th>\n",
       "      <th>sorted_matchup</th>\n",
       "      <th>date</th>\n",
       "      <th>hrvo_rwma</th>\n",
       "      <th>hrvop_rwma</th>\n",
       "    </tr>\n",
       "  </thead>\n",
       "  <tbody>\n",
       "    <tr>\n",
       "      <th>20328</th>\n",
       "      <td>France|Spain</td>\n",
       "      <td>2012-06-23</td>\n",
       "      <td>-0.351197</td>\n",
       "      <td>-0.384497</td>\n",
       "    </tr>\n",
       "    <tr>\n",
       "      <th>20329</th>\n",
       "      <td>France|Spain</td>\n",
       "      <td>2012-10-16</td>\n",
       "      <td>-0.567465</td>\n",
       "      <td>-0.589665</td>\n",
       "    </tr>\n",
       "    <tr>\n",
       "      <th>20330</th>\n",
       "      <td>France|Spain</td>\n",
       "      <td>2013-03-26</td>\n",
       "      <td>-0.378310</td>\n",
       "      <td>-0.226443</td>\n",
       "    </tr>\n",
       "    <tr>\n",
       "      <th>20331</th>\n",
       "      <td>France|Spain</td>\n",
       "      <td>2014-09-04</td>\n",
       "      <td>-0.585540</td>\n",
       "      <td>-0.650962</td>\n",
       "    </tr>\n",
       "    <tr>\n",
       "      <th>20332</th>\n",
       "      <td>France|Spain</td>\n",
       "      <td>2017-03-28</td>\n",
       "      <td>-0.057026</td>\n",
       "      <td>-0.267308</td>\n",
       "    </tr>\n",
       "  </tbody>\n",
       "</table>\n",
       "</div>"
      ],
      "text/plain": [
       "      sorted_matchup       date  hrvo_rwma  hrvop_rwma\n",
       "20328   France|Spain 2012-06-23  -0.351197   -0.384497\n",
       "20329   France|Spain 2012-10-16  -0.567465   -0.589665\n",
       "20330   France|Spain 2013-03-26  -0.378310   -0.226443\n",
       "20331   France|Spain 2014-09-04  -0.585540   -0.650962\n",
       "20332   France|Spain 2017-03-28  -0.057026   -0.267308"
      ]
     },
     "execution_count": 39,
     "metadata": {},
     "output_type": "execute_result"
    }
   ],
   "source": [
    "temp_df3.tail()"
   ]
  },
  {
   "cell_type": "code",
   "execution_count": 40,
   "metadata": {},
   "outputs": [
    {
     "data": {
      "image/png": "[encoded data removed]",
      "text/plain": [
       "<Figure size 1440x720 with 1 Axes>"
      ]
     },
     "metadata": {},
     "output_type": "display_data"
    }
   ],
   "source": [
    "fig, ax = plt.subplots(1,1, figsize = (20,10))\n",
    "\n",
    "ax.plot(temp_df1['date'], temp_df1['hrva_rwma'], label = 'Argentina - hrva_rwma', color = 'blue', alpha = 1)\n",
    "ax.plot(temp_df1['date'], temp_df1['hrvap_rwma'], label = 'Argentina - hrvap_rwma', color = 'blue', alpha = 0.60)\n",
    "\n",
    "ax.plot(temp_df1['date'], temp_df1['hrva_rmean'], label = 'Argentina - hrva_rmean', color = 'blue', alpha = .40)\n",
    "ax.plot(temp_df1['date'], temp_df1['hrvap_rmean'], label = 'Argentina - hrvap_rmean', color = 'blue', alpha = .20)\n",
    "\n",
    "\n",
    "ax.plot(temp_df2['date'], temp_df2['hrva_rwma'], label = 'Brazil - hrva_rwma', color = 'red', alpha = 1)\n",
    "ax.plot(temp_df2['date'], temp_df2['hrvap_rwma'], label = 'Brazil - hrvap_rwma', color = 'red', alpha = 0.60)\n",
    "\n",
    "ax.plot(temp_df2['date'], temp_df2['hrva_rmean'], label = 'Brazil - hrva_rmean', color = 'red', alpha = .40)\n",
    "ax.plot(temp_df2['date'], temp_df2['hrvap_rmean'], label = 'Brazil - hrvap_rmean', color = 'red', alpha = .20)\n",
    "\n",
    "ax.set_xlabel('Moving Averages')\n",
    "ax.set_ylabel('Rolling Means')\n",
    "ax.set_title('Illustration of \"Historical Record vs All\" Features: Argentina vs. Brazil')\n",
    "\n",
    "plt.legend()\n",
    "plt.show()"
   ]
  },
  {
   "cell_type": "markdown",
   "metadata": {},
   "source": [
    "## 6  - Merge Features Back into Train and Test Datasets"
   ]
  },
  {
   "cell_type": "markdown",
   "metadata": {},
   "source": [
    "### 6.1  - Merge Features Back into Train Dataset"
   ]
  },
  {
   "cell_type": "code",
   "execution_count": 41,
   "metadata": {},
   "outputs": [
    {
     "data": {
      "text/html": [
       "<div>\n",
       "<style scoped>\n",
       "    .dataframe tbody tr th:only-of-type {\n",
       "        vertical-align: middle;\n",
       "    }\n",
       "\n",
       "    .dataframe tbody tr th {\n",
       "        vertical-align: top;\n",
       "    }\n",
       "\n",
       "    .dataframe thead th {\n",
       "        text-align: right;\n",
       "    }\n",
       "</style>\n",
       "<table border=\"1\" class=\"dataframe\">\n",
       "  <thead>\n",
       "    <tr style=\"text-align: right;\">\n",
       "      <th></th>\n",
       "      <th>team</th>\n",
       "      <th>date</th>\n",
       "      <th>hrva_rwma</th>\n",
       "      <th>hrvap_rwma</th>\n",
       "      <th>hrva_rmean</th>\n",
       "      <th>hrvap_rmean</th>\n",
       "    </tr>\n",
       "  </thead>\n",
       "  <tbody>\n",
       "    <tr>\n",
       "      <th>0</th>\n",
       "      <td>Abkhazia</td>\n",
       "      <td>2014-06-01</td>\n",
       "      <td>0.000000</td>\n",
       "      <td>0.000000</td>\n",
       "      <td>0.000000</td>\n",
       "      <td>0.000</td>\n",
       "    </tr>\n",
       "    <tr>\n",
       "      <th>1</th>\n",
       "      <td>Abkhazia</td>\n",
       "      <td>2014-06-02</td>\n",
       "      <td>0.000000</td>\n",
       "      <td>0.000000</td>\n",
       "      <td>0.000000</td>\n",
       "      <td>0.000</td>\n",
       "    </tr>\n",
       "    <tr>\n",
       "      <th>2</th>\n",
       "      <td>Abkhazia</td>\n",
       "      <td>2014-06-04</td>\n",
       "      <td>0.512500</td>\n",
       "      <td>0.768750</td>\n",
       "      <td>0.500000</td>\n",
       "      <td>0.750</td>\n",
       "    </tr>\n",
       "    <tr>\n",
       "      <th>3</th>\n",
       "      <td>Abkhazia</td>\n",
       "      <td>2014-06-05</td>\n",
       "      <td>0.333056</td>\n",
       "      <td>0.499583</td>\n",
       "      <td>0.333333</td>\n",
       "      <td>0.500</td>\n",
       "    </tr>\n",
       "    <tr>\n",
       "      <th>4</th>\n",
       "      <td>Abkhazia</td>\n",
       "      <td>2014-06-07</td>\n",
       "      <td>0.243446</td>\n",
       "      <td>0.365168</td>\n",
       "      <td>0.250000</td>\n",
       "      <td>0.375</td>\n",
       "    </tr>\n",
       "  </tbody>\n",
       "</table>\n",
       "</div>"
      ],
      "text/plain": [
       "       team       date  hrva_rwma  hrvap_rwma  hrva_rmean  hrvap_rmean\n",
       "0  Abkhazia 2014-06-01   0.000000    0.000000    0.000000        0.000\n",
       "1  Abkhazia 2014-06-02   0.000000    0.000000    0.000000        0.000\n",
       "2  Abkhazia 2014-06-04   0.512500    0.768750    0.500000        0.750\n",
       "3  Abkhazia 2014-06-05   0.333056    0.499583    0.333333        0.500\n",
       "4  Abkhazia 2014-06-07   0.243446    0.365168    0.250000        0.375"
      ]
     },
     "execution_count": 41,
     "metadata": {},
     "output_type": "execute_result"
    }
   ],
   "source": [
    "overall_record_df.head()"
   ]
  },
  {
   "cell_type": "code",
   "execution_count": 42,
   "metadata": {},
   "outputs": [],
   "source": [
    "# apply mean to new features to account for the fact that some teams played twice on the same date\n",
    "overall_record_df = overall_record_df.groupby(['team','date']).mean()\n",
    "overall_record_df = overall_record_df.reset_index()"
   ]
  },
  {
   "cell_type": "code",
   "execution_count": 43,
   "metadata": {},
   "outputs": [
    {
     "data": {
      "text/html": [
       "<div>\n",
       "<style scoped>\n",
       "    .dataframe tbody tr th:only-of-type {\n",
       "        vertical-align: middle;\n",
       "    }\n",
       "\n",
       "    .dataframe tbody tr th {\n",
       "        vertical-align: top;\n",
       "    }\n",
       "\n",
       "    .dataframe thead th {\n",
       "        text-align: right;\n",
       "    }\n",
       "</style>\n",
       "<table border=\"1\" class=\"dataframe\">\n",
       "  <thead>\n",
       "    <tr style=\"text-align: right;\">\n",
       "      <th></th>\n",
       "      <th>date</th>\n",
       "      <th>team</th>\n",
       "      <th>count</th>\n",
       "    </tr>\n",
       "  </thead>\n",
       "  <tbody>\n",
       "  </tbody>\n",
       "</table>\n",
       "</div>"
      ],
      "text/plain": [
       "Empty DataFrame\n",
       "Columns: [date, team, count]\n",
       "Index: []"
      ]
     },
     "execution_count": 43,
     "metadata": {},
     "output_type": "execute_result"
    }
   ],
   "source": [
    "cnt = pd.DataFrame(overall_record_df.groupby(['date','team']).size())\n",
    "cnt = cnt.reset_index()\n",
    "cnt.head()\n",
    "\n",
    "cnt = cnt.rename(columns = {0:'count'})\n",
    "\n",
    "cnt[cnt['count'] != 1]"
   ]
  },
  {
   "cell_type": "code",
   "execution_count": 44,
   "metadata": {},
   "outputs": [
    {
     "data": {
      "text/html": [
       "<div>\n",
       "<style scoped>\n",
       "    .dataframe tbody tr th:only-of-type {\n",
       "        vertical-align: middle;\n",
       "    }\n",
       "\n",
       "    .dataframe tbody tr th {\n",
       "        vertical-align: top;\n",
       "    }\n",
       "\n",
       "    .dataframe thead th {\n",
       "        text-align: right;\n",
       "    }\n",
       "</style>\n",
       "<table border=\"1\" class=\"dataframe\">\n",
       "  <thead>\n",
       "    <tr style=\"text-align: right;\">\n",
       "      <th></th>\n",
       "      <th>date</th>\n",
       "      <th>team</th>\n",
       "      <th>count</th>\n",
       "    </tr>\n",
       "  </thead>\n",
       "  <tbody>\n",
       "  </tbody>\n",
       "</table>\n",
       "</div>"
      ],
      "text/plain": [
       "Empty DataFrame\n",
       "Columns: [date, team, count]\n",
       "Index: []"
      ]
     },
     "execution_count": 44,
     "metadata": {},
     "output_type": "execute_result"
    }
   ],
   "source": [
    "cnt = pd.DataFrame(overall_record_df.groupby(['date','team']).size())\n",
    "cnt = cnt.reset_index()\n",
    "cnt.head()\n",
    "\n",
    "cnt = cnt.rename(columns = {0:'count'})\n",
    "\n",
    "cnt[cnt['count'] != 1]"
   ]
  },
  {
   "cell_type": "code",
   "execution_count": 45,
   "metadata": {},
   "outputs": [
    {
     "name": "stdout",
     "output_type": "stream",
     "text": [
      "39606\n",
      "39606\n"
     ]
    },
    {
     "data": {
      "text/html": [
       "<div>\n",
       "<style scoped>\n",
       "    .dataframe tbody tr th:only-of-type {\n",
       "        vertical-align: middle;\n",
       "    }\n",
       "\n",
       "    .dataframe tbody tr th {\n",
       "        vertical-align: top;\n",
       "    }\n",
       "\n",
       "    .dataframe thead th {\n",
       "        text-align: right;\n",
       "    }\n",
       "</style>\n",
       "<table border=\"1\" class=\"dataframe\">\n",
       "  <thead>\n",
       "    <tr style=\"text-align: right;\">\n",
       "      <th></th>\n",
       "      <th>date</th>\n",
       "      <th>home_team</th>\n",
       "      <th>away_team</th>\n",
       "      <th>home_score</th>\n",
       "      <th>away_score</th>\n",
       "      <th>tournament</th>\n",
       "      <th>city</th>\n",
       "      <th>country</th>\n",
       "      <th>neutral</th>\n",
       "      <th>year</th>\n",
       "      <th>result</th>\n",
       "      <th>result_plus</th>\n",
       "      <th>sorted_matchup</th>\n",
       "      <th>sorted_result</th>\n",
       "      <th>sorted_result_plus</th>\n",
       "      <th>home_hrva_rwma</th>\n",
       "      <th>home_hrvap_rwma</th>\n",
       "      <th>home_hrva_rmean</th>\n",
       "      <th>home_hrvap_rmean</th>\n",
       "    </tr>\n",
       "  </thead>\n",
       "  <tbody>\n",
       "    <tr>\n",
       "      <th>0</th>\n",
       "      <td>1872-11-30</td>\n",
       "      <td>Scotland</td>\n",
       "      <td>England</td>\n",
       "      <td>0</td>\n",
       "      <td>0</td>\n",
       "      <td>Friendly</td>\n",
       "      <td>Glasgow</td>\n",
       "      <td>Scotland</td>\n",
       "      <td>False</td>\n",
       "      <td>1872</td>\n",
       "      <td>0</td>\n",
       "      <td>-0.5</td>\n",
       "      <td>England|Scotland</td>\n",
       "      <td>0</td>\n",
       "      <td>0.5</td>\n",
       "      <td>0.000000</td>\n",
       "      <td>0.000000</td>\n",
       "      <td>0.0</td>\n",
       "      <td>0.000000</td>\n",
       "    </tr>\n",
       "    <tr>\n",
       "      <th>1</th>\n",
       "      <td>1873-03-08</td>\n",
       "      <td>England</td>\n",
       "      <td>Scotland</td>\n",
       "      <td>4</td>\n",
       "      <td>2</td>\n",
       "      <td>Friendly</td>\n",
       "      <td>London</td>\n",
       "      <td>England</td>\n",
       "      <td>False</td>\n",
       "      <td>1873</td>\n",
       "      <td>1</td>\n",
       "      <td>0.5</td>\n",
       "      <td>England|Scotland</td>\n",
       "      <td>1</td>\n",
       "      <td>0.5</td>\n",
       "      <td>0.000000</td>\n",
       "      <td>0.500000</td>\n",
       "      <td>0.0</td>\n",
       "      <td>0.500000</td>\n",
       "    </tr>\n",
       "    <tr>\n",
       "      <th>2</th>\n",
       "      <td>1874-03-07</td>\n",
       "      <td>Scotland</td>\n",
       "      <td>England</td>\n",
       "      <td>2</td>\n",
       "      <td>1</td>\n",
       "      <td>Friendly</td>\n",
       "      <td>Glasgow</td>\n",
       "      <td>Scotland</td>\n",
       "      <td>False</td>\n",
       "      <td>1874</td>\n",
       "      <td>1</td>\n",
       "      <td>0.5</td>\n",
       "      <td>England|Scotland</td>\n",
       "      <td>-1</td>\n",
       "      <td>-0.5</td>\n",
       "      <td>-0.512500</td>\n",
       "      <td>-0.500000</td>\n",
       "      <td>-0.5</td>\n",
       "      <td>-0.500000</td>\n",
       "    </tr>\n",
       "    <tr>\n",
       "      <th>3</th>\n",
       "      <td>1875-03-06</td>\n",
       "      <td>England</td>\n",
       "      <td>Scotland</td>\n",
       "      <td>2</td>\n",
       "      <td>2</td>\n",
       "      <td>Friendly</td>\n",
       "      <td>London</td>\n",
       "      <td>England</td>\n",
       "      <td>False</td>\n",
       "      <td>1875</td>\n",
       "      <td>0</td>\n",
       "      <td>-0.5</td>\n",
       "      <td>England|Scotland</td>\n",
       "      <td>0</td>\n",
       "      <td>-0.5</td>\n",
       "      <td>-0.017080</td>\n",
       "      <td>0.149865</td>\n",
       "      <td>0.0</td>\n",
       "      <td>0.166667</td>\n",
       "    </tr>\n",
       "    <tr>\n",
       "      <th>4</th>\n",
       "      <td>1876-03-04</td>\n",
       "      <td>Scotland</td>\n",
       "      <td>England</td>\n",
       "      <td>3</td>\n",
       "      <td>0</td>\n",
       "      <td>Friendly</td>\n",
       "      <td>Glasgow</td>\n",
       "      <td>Scotland</td>\n",
       "      <td>False</td>\n",
       "      <td>1876</td>\n",
       "      <td>1</td>\n",
       "      <td>0.5</td>\n",
       "      <td>England|Scotland</td>\n",
       "      <td>-1</td>\n",
       "      <td>-0.5</td>\n",
       "      <td>0.012484</td>\n",
       "      <td>0.024984</td>\n",
       "      <td>0.0</td>\n",
       "      <td>0.000000</td>\n",
       "    </tr>\n",
       "  </tbody>\n",
       "</table>\n",
       "</div>"
      ],
      "text/plain": [
       "        date home_team away_team  home_score  away_score tournament     city  \\\n",
       "0 1872-11-30  Scotland   England           0           0   Friendly  Glasgow   \n",
       "1 1873-03-08   England  Scotland           4           2   Friendly   London   \n",
       "2 1874-03-07  Scotland   England           2           1   Friendly  Glasgow   \n",
       "3 1875-03-06   England  Scotland           2           2   Friendly   London   \n",
       "4 1876-03-04  Scotland   England           3           0   Friendly  Glasgow   \n",
       "\n",
       "    country  neutral  year  result  result_plus    sorted_matchup  \\\n",
       "0  Scotland    False  1872       0         -0.5  England|Scotland   \n",
       "1   England    False  1873       1          0.5  England|Scotland   \n",
       "2  Scotland    False  1874       1          0.5  England|Scotland   \n",
       "3   England    False  1875       0         -0.5  England|Scotland   \n",
       "4  Scotland    False  1876       1          0.5  England|Scotland   \n",
       "\n",
       "   sorted_result  sorted_result_plus  home_hrva_rwma  home_hrvap_rwma  \\\n",
       "0              0                 0.5        0.000000         0.000000   \n",
       "1              1                 0.5        0.000000         0.500000   \n",
       "2             -1                -0.5       -0.512500        -0.500000   \n",
       "3              0                -0.5       -0.017080         0.149865   \n",
       "4             -1                -0.5        0.012484         0.024984   \n",
       "\n",
       "   home_hrva_rmean  home_hrvap_rmean  \n",
       "0              0.0          0.000000  \n",
       "1              0.0          0.500000  \n",
       "2             -0.5         -0.500000  \n",
       "3              0.0          0.166667  \n",
       "4              0.0          0.000000  "
      ]
     },
     "execution_count": 45,
     "metadata": {},
     "output_type": "execute_result"
    }
   ],
   "source": [
    "print(len(train_df))\n",
    "\n",
    "train_df = train_df.merge(overall_record_df[['team','date','hrva_rwma','hrvap_rwma','hrva_rmean','hrvap_rmean']], \n",
    "                  how = 'inner',\n",
    "                  left_on=['home_team','date'], \n",
    "                  right_on=['team','date'])\n",
    "print(len(train_df))\n",
    "\n",
    "\n",
    "train_df = train_df.drop(columns = 'team')\n",
    "\n",
    "#train_df.head()\n",
    "\n",
    "train_df = train_df.rename(columns={'hrva_rwma':'home_hrva_rwma', \n",
    "                                    'hrvap_rwma':'home_hrvap_rwma',\n",
    "                                    'hrva_rmean':'home_hrva_rmean',\n",
    "                                    'hrvap_rmean': 'home_hrvap_rmean'\n",
    "                                    })\n",
    "\n",
    "train_df.head()"
   ]
  },
  {
   "cell_type": "code",
   "execution_count": 46,
   "metadata": {},
   "outputs": [
    {
     "data": {
      "text/html": [
       "<div>\n",
       "<style scoped>\n",
       "    .dataframe tbody tr th:only-of-type {\n",
       "        vertical-align: middle;\n",
       "    }\n",
       "\n",
       "    .dataframe tbody tr th {\n",
       "        vertical-align: top;\n",
       "    }\n",
       "\n",
       "    .dataframe thead th {\n",
       "        text-align: right;\n",
       "    }\n",
       "</style>\n",
       "<table border=\"1\" class=\"dataframe\">\n",
       "  <thead>\n",
       "    <tr style=\"text-align: right;\">\n",
       "      <th></th>\n",
       "      <th>date</th>\n",
       "      <th>home_team</th>\n",
       "      <th>away_team</th>\n",
       "      <th>home_score</th>\n",
       "      <th>away_score</th>\n",
       "      <th>tournament</th>\n",
       "      <th>city</th>\n",
       "      <th>country</th>\n",
       "      <th>neutral</th>\n",
       "      <th>year</th>\n",
       "      <th>...</th>\n",
       "      <th>sorted_result</th>\n",
       "      <th>sorted_result_plus</th>\n",
       "      <th>home_hrva_rwma</th>\n",
       "      <th>home_hrvap_rwma</th>\n",
       "      <th>home_hrva_rmean</th>\n",
       "      <th>home_hrvap_rmean</th>\n",
       "      <th>away_hrva_rwma</th>\n",
       "      <th>away_hrvap_rwma</th>\n",
       "      <th>away_hrva_rmean</th>\n",
       "      <th>away_hrvap_rmean</th>\n",
       "    </tr>\n",
       "  </thead>\n",
       "  <tbody>\n",
       "    <tr>\n",
       "      <th>0</th>\n",
       "      <td>1872-11-30</td>\n",
       "      <td>Scotland</td>\n",
       "      <td>England</td>\n",
       "      <td>0</td>\n",
       "      <td>0</td>\n",
       "      <td>Friendly</td>\n",
       "      <td>Glasgow</td>\n",
       "      <td>Scotland</td>\n",
       "      <td>False</td>\n",
       "      <td>1872</td>\n",
       "      <td>...</td>\n",
       "      <td>0</td>\n",
       "      <td>0.5</td>\n",
       "      <td>0.000000</td>\n",
       "      <td>0.000000</td>\n",
       "      <td>0.0</td>\n",
       "      <td>0.000000</td>\n",
       "      <td>0.000000</td>\n",
       "      <td>0.000000</td>\n",
       "      <td>0.0</td>\n",
       "      <td>0.000000</td>\n",
       "    </tr>\n",
       "    <tr>\n",
       "      <th>1</th>\n",
       "      <td>1873-03-08</td>\n",
       "      <td>England</td>\n",
       "      <td>Scotland</td>\n",
       "      <td>4</td>\n",
       "      <td>2</td>\n",
       "      <td>Friendly</td>\n",
       "      <td>London</td>\n",
       "      <td>England</td>\n",
       "      <td>False</td>\n",
       "      <td>1873</td>\n",
       "      <td>...</td>\n",
       "      <td>1</td>\n",
       "      <td>0.5</td>\n",
       "      <td>0.000000</td>\n",
       "      <td>0.500000</td>\n",
       "      <td>0.0</td>\n",
       "      <td>0.500000</td>\n",
       "      <td>0.000000</td>\n",
       "      <td>-0.500000</td>\n",
       "      <td>0.0</td>\n",
       "      <td>-0.500000</td>\n",
       "    </tr>\n",
       "    <tr>\n",
       "      <th>2</th>\n",
       "      <td>1874-03-07</td>\n",
       "      <td>Scotland</td>\n",
       "      <td>England</td>\n",
       "      <td>2</td>\n",
       "      <td>1</td>\n",
       "      <td>Friendly</td>\n",
       "      <td>Glasgow</td>\n",
       "      <td>Scotland</td>\n",
       "      <td>False</td>\n",
       "      <td>1874</td>\n",
       "      <td>...</td>\n",
       "      <td>-1</td>\n",
       "      <td>-0.5</td>\n",
       "      <td>-0.512500</td>\n",
       "      <td>-0.500000</td>\n",
       "      <td>-0.5</td>\n",
       "      <td>-0.500000</td>\n",
       "      <td>0.512500</td>\n",
       "      <td>0.500000</td>\n",
       "      <td>0.5</td>\n",
       "      <td>0.500000</td>\n",
       "    </tr>\n",
       "    <tr>\n",
       "      <th>3</th>\n",
       "      <td>1875-03-06</td>\n",
       "      <td>England</td>\n",
       "      <td>Scotland</td>\n",
       "      <td>2</td>\n",
       "      <td>2</td>\n",
       "      <td>Friendly</td>\n",
       "      <td>London</td>\n",
       "      <td>England</td>\n",
       "      <td>False</td>\n",
       "      <td>1875</td>\n",
       "      <td>...</td>\n",
       "      <td>0</td>\n",
       "      <td>-0.5</td>\n",
       "      <td>-0.017080</td>\n",
       "      <td>0.149865</td>\n",
       "      <td>0.0</td>\n",
       "      <td>0.166667</td>\n",
       "      <td>0.017080</td>\n",
       "      <td>-0.149865</td>\n",
       "      <td>0.0</td>\n",
       "      <td>-0.166667</td>\n",
       "    </tr>\n",
       "    <tr>\n",
       "      <th>4</th>\n",
       "      <td>1876-03-04</td>\n",
       "      <td>Scotland</td>\n",
       "      <td>England</td>\n",
       "      <td>3</td>\n",
       "      <td>0</td>\n",
       "      <td>Friendly</td>\n",
       "      <td>Glasgow</td>\n",
       "      <td>Scotland</td>\n",
       "      <td>False</td>\n",
       "      <td>1876</td>\n",
       "      <td>...</td>\n",
       "      <td>-1</td>\n",
       "      <td>-0.5</td>\n",
       "      <td>0.012484</td>\n",
       "      <td>0.024984</td>\n",
       "      <td>0.0</td>\n",
       "      <td>0.000000</td>\n",
       "      <td>-0.012484</td>\n",
       "      <td>-0.024984</td>\n",
       "      <td>0.0</td>\n",
       "      <td>0.000000</td>\n",
       "    </tr>\n",
       "  </tbody>\n",
       "</table>\n",
       "<p>5 rows × 23 columns</p>\n",
       "</div>"
      ],
      "text/plain": [
       "        date home_team away_team  home_score  away_score tournament     city  \\\n",
       "0 1872-11-30  Scotland   England           0           0   Friendly  Glasgow   \n",
       "1 1873-03-08   England  Scotland           4           2   Friendly   London   \n",
       "2 1874-03-07  Scotland   England           2           1   Friendly  Glasgow   \n",
       "3 1875-03-06   England  Scotland           2           2   Friendly   London   \n",
       "4 1876-03-04  Scotland   England           3           0   Friendly  Glasgow   \n",
       "\n",
       "    country  neutral  year        ...         sorted_result  \\\n",
       "0  Scotland    False  1872        ...                     0   \n",
       "1   England    False  1873        ...                     1   \n",
       "2  Scotland    False  1874        ...                    -1   \n",
       "3   England    False  1875        ...                     0   \n",
       "4  Scotland    False  1876        ...                    -1   \n",
       "\n",
       "   sorted_result_plus home_hrva_rwma  home_hrvap_rwma  home_hrva_rmean  \\\n",
       "0                 0.5       0.000000         0.000000              0.0   \n",
       "1                 0.5       0.000000         0.500000              0.0   \n",
       "2                -0.5      -0.512500        -0.500000             -0.5   \n",
       "3                -0.5      -0.017080         0.149865              0.0   \n",
       "4                -0.5       0.012484         0.024984              0.0   \n",
       "\n",
       "   home_hrvap_rmean  away_hrva_rwma  away_hrvap_rwma  away_hrva_rmean  \\\n",
       "0          0.000000        0.000000         0.000000              0.0   \n",
       "1          0.500000        0.000000        -0.500000              0.0   \n",
       "2         -0.500000        0.512500         0.500000              0.5   \n",
       "3          0.166667        0.017080        -0.149865              0.0   \n",
       "4          0.000000       -0.012484        -0.024984              0.0   \n",
       "\n",
       "   away_hrvap_rmean  \n",
       "0          0.000000  \n",
       "1         -0.500000  \n",
       "2          0.500000  \n",
       "3         -0.166667  \n",
       "4          0.000000  \n",
       "\n",
       "[5 rows x 23 columns]"
      ]
     },
     "execution_count": 46,
     "metadata": {},
     "output_type": "execute_result"
    }
   ],
   "source": [
    "train_df = train_df.merge(overall_record_df[['team','date','hrva_rwma','hrvap_rwma','hrva_rmean','hrvap_rmean']], \n",
    "                  how = 'inner',\n",
    "                  left_on=['away_team','date'], \n",
    "                  right_on=['team','date'])\n",
    "\n",
    "train_df = train_df.drop(columns = 'team')\n",
    "\n",
    "#train_df.head()\n",
    "\n",
    "train_df = train_df.rename(columns={'hrva_rwma':'away_hrva_rwma', \n",
    "                                    'hrvap_rwma':'away_hrvap_rwma',\n",
    "                                    'hrva_rmean':'away_hrva_rmean',\n",
    "                                    'hrvap_rmean':'away_hrvap_rmean'\n",
    "                                    })\n",
    "\n",
    "train_df.head()"
   ]
  },
  {
   "cell_type": "code",
   "execution_count": 47,
   "metadata": {},
   "outputs": [],
   "source": [
    "train_df['diff_hrva_rwma']   = train_df['home_hrva_rwma']   - train_df['away_hrva_rwma']\n",
    "train_df['diff_hrvap_rwma']  = train_df['home_hrvap_rwma']  - train_df['away_hrvap_rwma']\n",
    "train_df['diff_hrva_rmean']  = train_df['home_hrva_rmean']  - train_df['away_hrva_rmean']\n",
    "train_df['diff_hrvap_rmean'] = train_df['home_hrvap_rmean'] - train_df['away_hrvap_rmean']"
   ]
  },
  {
   "cell_type": "code",
   "execution_count": 48,
   "metadata": {},
   "outputs": [
    {
     "data": {
      "text/html": [
       "<div>\n",
       "<style scoped>\n",
       "    .dataframe tbody tr th:only-of-type {\n",
       "        vertical-align: middle;\n",
       "    }\n",
       "\n",
       "    .dataframe tbody tr th {\n",
       "        vertical-align: top;\n",
       "    }\n",
       "\n",
       "    .dataframe thead th {\n",
       "        text-align: right;\n",
       "    }\n",
       "</style>\n",
       "<table border=\"1\" class=\"dataframe\">\n",
       "  <thead>\n",
       "    <tr style=\"text-align: right;\">\n",
       "      <th></th>\n",
       "      <th>date</th>\n",
       "      <th>home_team</th>\n",
       "      <th>away_team</th>\n",
       "      <th>home_score</th>\n",
       "      <th>away_score</th>\n",
       "      <th>tournament</th>\n",
       "      <th>city</th>\n",
       "      <th>country</th>\n",
       "      <th>neutral</th>\n",
       "      <th>year</th>\n",
       "      <th>...</th>\n",
       "      <th>home_hrva_rmean</th>\n",
       "      <th>home_hrvap_rmean</th>\n",
       "      <th>away_hrva_rwma</th>\n",
       "      <th>away_hrvap_rwma</th>\n",
       "      <th>away_hrva_rmean</th>\n",
       "      <th>away_hrvap_rmean</th>\n",
       "      <th>diff_hrva_rwma</th>\n",
       "      <th>diff_hrvap_rwma</th>\n",
       "      <th>diff_hrva_rmean</th>\n",
       "      <th>diff_hrvap_rmean</th>\n",
       "    </tr>\n",
       "  </thead>\n",
       "  <tbody>\n",
       "    <tr>\n",
       "      <th>39601</th>\n",
       "      <td>2018-06-10</td>\n",
       "      <td>Austria</td>\n",
       "      <td>Brazil</td>\n",
       "      <td>0</td>\n",
       "      <td>3</td>\n",
       "      <td>Friendly</td>\n",
       "      <td>Vienna</td>\n",
       "      <td>Austria</td>\n",
       "      <td>False</td>\n",
       "      <td>2018</td>\n",
       "      <td>...</td>\n",
       "      <td>0.042553</td>\n",
       "      <td>-0.117021</td>\n",
       "      <td>0.615527</td>\n",
       "      <td>0.662309</td>\n",
       "      <td>0.560606</td>\n",
       "      <td>0.560606</td>\n",
       "      <td>-0.313153</td>\n",
       "      <td>-0.522712</td>\n",
       "      <td>-0.518053</td>\n",
       "      <td>-0.677627</td>\n",
       "    </tr>\n",
       "    <tr>\n",
       "      <th>39602</th>\n",
       "      <td>2018-06-11</td>\n",
       "      <td>Korea Republic</td>\n",
       "      <td>Senegal</td>\n",
       "      <td>0</td>\n",
       "      <td>2</td>\n",
       "      <td>Friendly</td>\n",
       "      <td>Grödig</td>\n",
       "      <td>Austria</td>\n",
       "      <td>True</td>\n",
       "      <td>2018</td>\n",
       "      <td>...</td>\n",
       "      <td>0.260274</td>\n",
       "      <td>0.181507</td>\n",
       "      <td>0.366698</td>\n",
       "      <td>0.403727</td>\n",
       "      <td>0.244681</td>\n",
       "      <td>0.313830</td>\n",
       "      <td>-0.193559</td>\n",
       "      <td>-0.247102</td>\n",
       "      <td>0.015593</td>\n",
       "      <td>-0.132323</td>\n",
       "    </tr>\n",
       "    <tr>\n",
       "      <th>39603</th>\n",
       "      <td>2018-06-11</td>\n",
       "      <td>Belgium</td>\n",
       "      <td>Costa Rica</td>\n",
       "      <td>4</td>\n",
       "      <td>1</td>\n",
       "      <td>Friendly</td>\n",
       "      <td>Brussels</td>\n",
       "      <td>Belgium</td>\n",
       "      <td>False</td>\n",
       "      <td>2018</td>\n",
       "      <td>...</td>\n",
       "      <td>0.342593</td>\n",
       "      <td>0.291667</td>\n",
       "      <td>0.047870</td>\n",
       "      <td>0.150623</td>\n",
       "      <td>0.111842</td>\n",
       "      <td>0.184211</td>\n",
       "      <td>0.529832</td>\n",
       "      <td>0.290100</td>\n",
       "      <td>0.230750</td>\n",
       "      <td>0.107456</td>\n",
       "    </tr>\n",
       "    <tr>\n",
       "      <th>39604</th>\n",
       "      <td>2018-06-12</td>\n",
       "      <td>Japan</td>\n",
       "      <td>Paraguay</td>\n",
       "      <td>4</td>\n",
       "      <td>2</td>\n",
       "      <td>Friendly</td>\n",
       "      <td>Innsbruck</td>\n",
       "      <td>Austria</td>\n",
       "      <td>True</td>\n",
       "      <td>2018</td>\n",
       "      <td>...</td>\n",
       "      <td>0.308219</td>\n",
       "      <td>0.171233</td>\n",
       "      <td>-0.316228</td>\n",
       "      <td>-0.231144</td>\n",
       "      <td>-0.084746</td>\n",
       "      <td>-0.004237</td>\n",
       "      <td>0.411938</td>\n",
       "      <td>0.183703</td>\n",
       "      <td>0.392965</td>\n",
       "      <td>0.175470</td>\n",
       "    </tr>\n",
       "    <tr>\n",
       "      <th>39605</th>\n",
       "      <td>2018-06-12</td>\n",
       "      <td>Poland</td>\n",
       "      <td>Lithuania</td>\n",
       "      <td>4</td>\n",
       "      <td>0</td>\n",
       "      <td>Friendly</td>\n",
       "      <td>Warsaw</td>\n",
       "      <td>Poland</td>\n",
       "      <td>False</td>\n",
       "      <td>2018</td>\n",
       "      <td>...</td>\n",
       "      <td>0.203390</td>\n",
       "      <td>0.076271</td>\n",
       "      <td>-0.448611</td>\n",
       "      <td>-0.326704</td>\n",
       "      <td>-0.311111</td>\n",
       "      <td>-0.216667</td>\n",
       "      <td>0.768274</td>\n",
       "      <td>0.444753</td>\n",
       "      <td>0.514501</td>\n",
       "      <td>0.292938</td>\n",
       "    </tr>\n",
       "  </tbody>\n",
       "</table>\n",
       "<p>5 rows × 27 columns</p>\n",
       "</div>"
      ],
      "text/plain": [
       "            date       home_team   away_team  home_score  away_score  \\\n",
       "39601 2018-06-10         Austria      Brazil           0           3   \n",
       "39602 2018-06-11  Korea Republic     Senegal           0           2   \n",
       "39603 2018-06-11         Belgium  Costa Rica           4           1   \n",
       "39604 2018-06-12           Japan    Paraguay           4           2   \n",
       "39605 2018-06-12          Poland   Lithuania           4           0   \n",
       "\n",
       "      tournament       city  country  neutral  year        ...         \\\n",
       "39601   Friendly     Vienna  Austria    False  2018        ...          \n",
       "39602   Friendly     Grödig  Austria     True  2018        ...          \n",
       "39603   Friendly   Brussels  Belgium    False  2018        ...          \n",
       "39604   Friendly  Innsbruck  Austria     True  2018        ...          \n",
       "39605   Friendly     Warsaw   Poland    False  2018        ...          \n",
       "\n",
       "       home_hrva_rmean  home_hrvap_rmean away_hrva_rwma  away_hrvap_rwma  \\\n",
       "39601         0.042553         -0.117021       0.615527         0.662309   \n",
       "39602         0.260274          0.181507       0.366698         0.403727   \n",
       "39603         0.342593          0.291667       0.047870         0.150623   \n",
       "39604         0.308219          0.171233      -0.316228        -0.231144   \n",
       "39605         0.203390          0.076271      -0.448611        -0.326704   \n",
       "\n",
       "       away_hrva_rmean  away_hrvap_rmean  diff_hrva_rwma  diff_hrvap_rwma  \\\n",
       "39601         0.560606          0.560606       -0.313153        -0.522712   \n",
       "39602         0.244681          0.313830       -0.193559        -0.247102   \n",
       "39603         0.111842          0.184211        0.529832         0.290100   \n",
       "39604        -0.084746         -0.004237        0.411938         0.183703   \n",
       "39605        -0.311111         -0.216667        0.768274         0.444753   \n",
       "\n",
       "       diff_hrva_rmean  diff_hrvap_rmean  \n",
       "39601        -0.518053         -0.677627  \n",
       "39602         0.015593         -0.132323  \n",
       "39603         0.230750          0.107456  \n",
       "39604         0.392965          0.175470  \n",
       "39605         0.514501          0.292938  \n",
       "\n",
       "[5 rows x 27 columns]"
      ]
     },
     "execution_count": 48,
     "metadata": {},
     "output_type": "execute_result"
    }
   ],
   "source": [
    "train_df.tail()"
   ]
  },
  {
   "cell_type": "code",
   "execution_count": 49,
   "metadata": {
    "scrolled": false
   },
   "outputs": [
    {
     "data": {
      "text/plain": [
       "<seaborn.axisgrid.PairGrid at 0x1a233ea4e0>"
      ]
     },
     "execution_count": 49,
     "metadata": {},
     "output_type": "execute_result"
    },
    {
     "data": {
      "image/png": "[encoded data removed]",
      "text/plain": [
       "<Figure size 793.375x720 with 20 Axes>"
      ]
     },
     "metadata": {},
     "output_type": "display_data"
    }
   ],
   "source": [
    "# Look at France vs Italy\n",
    "temp_pair_plot_df = train_df[train_df['sorted_matchup'] == 'France|Italy']\n",
    "sns.pairplot(temp_pair_plot_df, \n",
    "             vars = ['diff_hrva_rwma' , 'diff_hrvap_rwma' , 'diff_hrva_rmean' , 'diff_hrvap_rmean'] , \n",
    "             hue=\"sorted_result\")"
   ]
  },
  {
   "cell_type": "markdown",
   "metadata": {},
   "source": [
    "### 6.2  - Merge Features Back into Test Dataset (World Cup Matches)"
   ]
  },
  {
   "cell_type": "code",
   "execution_count": 50,
   "metadata": {
    "collapsed": true
   },
   "outputs": [],
   "source": [
    "# prep wc data\n",
    "\n",
    "# get final records from overall_record_df\n",
    "ovr_rec_pre_wc_df = overall_record_df.loc[overall_record_df.groupby('team').date.idxmax()]\n",
    "\n",
    "test_df = test_df.merge(ovr_rec_pre_wc_df[['team','date','hrva_rwma','hrvap_rwma','hrva_rmean','hrvap_rmean']], \n",
    "                  how = 'inner',\n",
    "                  left_on=['home_team'], \n",
    "                  right_on=['team'])\n",
    "\n",
    "test_df = test_df.drop(columns = 'team')\n",
    "\n",
    "test_df = test_df.rename(columns={'hrva_rwma':'home_hrva_rwma', \n",
    "                                  'hrvap_rwma':'home_hrvap_rwma',\n",
    "                                  'hrva_rmean':'home_hrva_rmean',\n",
    "                                  'hrvap_rmean':'home_hrvap_rmean'})\n",
    "#test_df.head()\n",
    "\n",
    "test_df = test_df.merge(ovr_rec_pre_wc_df[['team','date','hrva_rwma','hrvap_rwma','hrva_rmean','hrvap_rmean']], \n",
    "                  how = 'inner',\n",
    "                  left_on=['away_team'], \n",
    "                  right_on=['team'])\n",
    "\n",
    "test_df = test_df.drop(columns = 'team')\n",
    "\n",
    "test_df = test_df.rename(columns={'hrva_rwma':'away_hrva_rwma', \n",
    "                                  'hrvap_rwma':'away_hrvap_rwma',\n",
    "                                  'hrva_rmean':'away_hrva_rmean',\n",
    "                                  'hrvap_rmean':'away_hrvap_rmean'})"
   ]
  },
  {
   "cell_type": "code",
   "execution_count": 51,
   "metadata": {},
   "outputs": [
    {
     "data": {
      "text/html": [
       "<div>\n",
       "<style scoped>\n",
       "    .dataframe tbody tr th:only-of-type {\n",
       "        vertical-align: middle;\n",
       "    }\n",
       "\n",
       "    .dataframe tbody tr th {\n",
       "        vertical-align: top;\n",
       "    }\n",
       "\n",
       "    .dataframe thead th {\n",
       "        text-align: right;\n",
       "    }\n",
       "</style>\n",
       "<table border=\"1\" class=\"dataframe\">\n",
       "  <thead>\n",
       "    <tr style=\"text-align: right;\">\n",
       "      <th></th>\n",
       "      <th>date_x</th>\n",
       "      <th>home_team</th>\n",
       "      <th>away_team</th>\n",
       "      <th>home_score</th>\n",
       "      <th>away_score</th>\n",
       "      <th>tournament</th>\n",
       "      <th>city</th>\n",
       "      <th>country</th>\n",
       "      <th>neutral</th>\n",
       "      <th>year</th>\n",
       "      <th>...</th>\n",
       "      <th>home_hrvap_rmean</th>\n",
       "      <th>date</th>\n",
       "      <th>away_hrva_rwma</th>\n",
       "      <th>away_hrvap_rwma</th>\n",
       "      <th>away_hrva_rmean</th>\n",
       "      <th>away_hrvap_rmean</th>\n",
       "      <th>diff_hrva_rwma</th>\n",
       "      <th>diff_hrvap_rwma</th>\n",
       "      <th>diff_hrva_rmean</th>\n",
       "      <th>diff_hrvap_rmean</th>\n",
       "    </tr>\n",
       "  </thead>\n",
       "  <tbody>\n",
       "    <tr>\n",
       "      <th>0</th>\n",
       "      <td>2018-06-14</td>\n",
       "      <td>Russia</td>\n",
       "      <td>Saudi Arabia</td>\n",
       "      <td>5</td>\n",
       "      <td>0</td>\n",
       "      <td>FIFA World Cup</td>\n",
       "      <td>Moscow</td>\n",
       "      <td>Russia</td>\n",
       "      <td>False</td>\n",
       "      <td>2018</td>\n",
       "      <td>...</td>\n",
       "      <td>0.118182</td>\n",
       "      <td>2018-06-08</td>\n",
       "      <td>0.024896</td>\n",
       "      <td>0.009860</td>\n",
       "      <td>0.121429</td>\n",
       "      <td>0.046429</td>\n",
       "      <td>-0.148500</td>\n",
       "      <td>-0.347012</td>\n",
       "      <td>0.087662</td>\n",
       "      <td>0.071753</td>\n",
       "    </tr>\n",
       "    <tr>\n",
       "      <th>1</th>\n",
       "      <td>2018-06-20</td>\n",
       "      <td>Uruguay</td>\n",
       "      <td>Saudi Arabia</td>\n",
       "      <td>1</td>\n",
       "      <td>0</td>\n",
       "      <td>FIFA World Cup</td>\n",
       "      <td>Rostov-On-Don</td>\n",
       "      <td>Russia</td>\n",
       "      <td>True</td>\n",
       "      <td>2018</td>\n",
       "      <td>...</td>\n",
       "      <td>0.312500</td>\n",
       "      <td>2018-06-08</td>\n",
       "      <td>0.024896</td>\n",
       "      <td>0.009860</td>\n",
       "      <td>0.121429</td>\n",
       "      <td>0.046429</td>\n",
       "      <td>0.089138</td>\n",
       "      <td>0.195797</td>\n",
       "      <td>0.078571</td>\n",
       "      <td>0.266071</td>\n",
       "    </tr>\n",
       "    <tr>\n",
       "      <th>2</th>\n",
       "      <td>2018-06-19</td>\n",
       "      <td>Russia</td>\n",
       "      <td>Egypt</td>\n",
       "      <td>3</td>\n",
       "      <td>1</td>\n",
       "      <td>FIFA World Cup</td>\n",
       "      <td>St. Petersburg</td>\n",
       "      <td>Russia</td>\n",
       "      <td>False</td>\n",
       "      <td>2018</td>\n",
       "      <td>...</td>\n",
       "      <td>0.118182</td>\n",
       "      <td>2018-06-06</td>\n",
       "      <td>0.269971</td>\n",
       "      <td>0.204091</td>\n",
       "      <td>0.373984</td>\n",
       "      <td>0.300813</td>\n",
       "      <td>-0.393574</td>\n",
       "      <td>-0.541243</td>\n",
       "      <td>-0.164893</td>\n",
       "      <td>-0.182631</td>\n",
       "    </tr>\n",
       "    <tr>\n",
       "      <th>3</th>\n",
       "      <td>2018-06-25</td>\n",
       "      <td>Saudi Arabia</td>\n",
       "      <td>Egypt</td>\n",
       "      <td>2</td>\n",
       "      <td>1</td>\n",
       "      <td>FIFA World Cup</td>\n",
       "      <td>Volgograd</td>\n",
       "      <td>Russia</td>\n",
       "      <td>True</td>\n",
       "      <td>2018</td>\n",
       "      <td>...</td>\n",
       "      <td>0.046429</td>\n",
       "      <td>2018-06-06</td>\n",
       "      <td>0.269971</td>\n",
       "      <td>0.204091</td>\n",
       "      <td>0.373984</td>\n",
       "      <td>0.300813</td>\n",
       "      <td>-0.245075</td>\n",
       "      <td>-0.194231</td>\n",
       "      <td>-0.252555</td>\n",
       "      <td>-0.254384</td>\n",
       "    </tr>\n",
       "    <tr>\n",
       "      <th>4</th>\n",
       "      <td>2018-07-07</td>\n",
       "      <td>Russia</td>\n",
       "      <td>Croatia</td>\n",
       "      <td>2</td>\n",
       "      <td>2</td>\n",
       "      <td>FIFA World Cup</td>\n",
       "      <td>Sochi</td>\n",
       "      <td>Russia</td>\n",
       "      <td>False</td>\n",
       "      <td>2018</td>\n",
       "      <td>...</td>\n",
       "      <td>0.118182</td>\n",
       "      <td>2018-06-08</td>\n",
       "      <td>0.258061</td>\n",
       "      <td>0.283419</td>\n",
       "      <td>0.390909</td>\n",
       "      <td>0.409091</td>\n",
       "      <td>-0.381665</td>\n",
       "      <td>-0.620571</td>\n",
       "      <td>-0.181818</td>\n",
       "      <td>-0.290909</td>\n",
       "    </tr>\n",
       "  </tbody>\n",
       "</table>\n",
       "<p>5 rows × 29 columns</p>\n",
       "</div>"
      ],
      "text/plain": [
       "      date_x     home_team     away_team  home_score  away_score  \\\n",
       "0 2018-06-14        Russia  Saudi Arabia           5           0   \n",
       "1 2018-06-20       Uruguay  Saudi Arabia           1           0   \n",
       "2 2018-06-19        Russia         Egypt           3           1   \n",
       "3 2018-06-25  Saudi Arabia         Egypt           2           1   \n",
       "4 2018-07-07        Russia       Croatia           2           2   \n",
       "\n",
       "       tournament            city country  neutral  year        ...         \\\n",
       "0  FIFA World Cup          Moscow  Russia    False  2018        ...          \n",
       "1  FIFA World Cup   Rostov-On-Don  Russia     True  2018        ...          \n",
       "2  FIFA World Cup  St. Petersburg  Russia    False  2018        ...          \n",
       "3  FIFA World Cup       Volgograd  Russia     True  2018        ...          \n",
       "4  FIFA World Cup           Sochi  Russia    False  2018        ...          \n",
       "\n",
       "   home_hrvap_rmean       date away_hrva_rwma  away_hrvap_rwma  \\\n",
       "0          0.118182 2018-06-08       0.024896         0.009860   \n",
       "1          0.312500 2018-06-08       0.024896         0.009860   \n",
       "2          0.118182 2018-06-06       0.269971         0.204091   \n",
       "3          0.046429 2018-06-06       0.269971         0.204091   \n",
       "4          0.118182 2018-06-08       0.258061         0.283419   \n",
       "\n",
       "   away_hrva_rmean away_hrvap_rmean  diff_hrva_rwma  diff_hrvap_rwma  \\\n",
       "0         0.121429         0.046429       -0.148500        -0.347012   \n",
       "1         0.121429         0.046429        0.089138         0.195797   \n",
       "2         0.373984         0.300813       -0.393574        -0.541243   \n",
       "3         0.373984         0.300813       -0.245075        -0.194231   \n",
       "4         0.390909         0.409091       -0.381665        -0.620571   \n",
       "\n",
       "   diff_hrva_rmean  diff_hrvap_rmean  \n",
       "0         0.087662          0.071753  \n",
       "1         0.078571          0.266071  \n",
       "2        -0.164893         -0.182631  \n",
       "3        -0.252555         -0.254384  \n",
       "4        -0.181818         -0.290909  \n",
       "\n",
       "[5 rows x 29 columns]"
      ]
     },
     "execution_count": 51,
     "metadata": {},
     "output_type": "execute_result"
    }
   ],
   "source": [
    "test_df['diff_hrva_rwma']   = test_df['home_hrva_rwma']   - test_df['away_hrva_rwma']\n",
    "test_df['diff_hrvap_rwma']  = test_df['home_hrvap_rwma']  - test_df['away_hrvap_rwma']\n",
    "test_df['diff_hrva_rmean']  = test_df['home_hrva_rmean']  - test_df['away_hrva_rmean']\n",
    "test_df['diff_hrvap_rmean'] = test_df['home_hrvap_rmean'] - test_df['away_hrvap_rmean']\n",
    "\n",
    "test_df.head()"
   ]
  },
  {
   "cell_type": "markdown",
   "metadata": {},
   "source": [
    "# Remove later - start"
   ]
  },
  {
   "cell_type": "code",
   "execution_count": 96,
   "metadata": {},
   "outputs": [],
   "source": [
    "train_df_red = train_df[train_df['date'] >= '2010-01-01']\n",
    "\n",
    "x_train = train_df_red[['diff_hrva_rwma']]\n",
    "y_train = train_df_red['result']"
   ]
  },
  {
   "cell_type": "code",
   "execution_count": 97,
   "metadata": {},
   "outputs": [],
   "source": [
    "x_test = test_df[['diff_hrva_rwma']]\n",
    "y_test = test_df['result']"
   ]
  },
  {
   "cell_type": "code",
   "execution_count": 98,
   "metadata": {},
   "outputs": [
    {
     "name": "stdout",
     "output_type": "stream",
     "text": [
      "Logistic Regression Train Score:  0.544017202125\n",
      "Logistic Regression CV Train Score:  0.543131279743\n",
      "LDA Train Score:  0.543637743486\n",
      "LDA CV Train Score:  0.543764110868\n",
      "QDA Train Score:  0.543258284847\n",
      "QDA CV Train Score:  0.54338500455\n"
     ]
    }
   ],
   "source": [
    "simple_logistic_model = LogisticRegressionCV(multi_class = 'ovr', cv=5, penalty='l2')\n",
    "simple_logistic_model.fit(x_train, y_train)\n",
    "\n",
    "lda = LinearDiscriminantAnalysis()\n",
    "qda = QuadraticDiscriminantAnalysis()\n",
    "\n",
    "lda.fit(x_train, y_train)\n",
    "qda.fit(x_train, y_train)\n",
    "\n",
    "print('Logistic Regression Train Score: ',simple_logistic_model.score(x_train, y_train))\n",
    "print('Logistic Regression CV Train Score: ',cross_val_score(simple_logistic_model, x_train, y_train, cv=5).mean())\n",
    "print('LDA Train Score: ',lda.score(x_train, y_train))\n",
    "print('LDA CV Train Score: ',cross_val_score(lda, x_train, y_train, cv=5).mean())\n",
    "print('QDA Train Score: ',qda.score(x_train, y_train))\n",
    "print('QDA CV Train Score: ',cross_val_score(qda, x_train, y_train, cv=5).mean())"
   ]
  },
  {
   "cell_type": "code",
   "execution_count": 99,
   "metadata": {},
   "outputs": [
    {
     "name": "stdout",
     "output_type": "stream",
     "text": [
      "Logistic Regression Test Score:  0.475409836066\n",
      "LDA Test Score:  0.491803278689\n",
      "QDA Test Score:  0.459016393443\n"
     ]
    }
   ],
   "source": [
    "# choosing lda and qda as they both produced very similar scores on CV data\n",
    "print('Logistic Regression Test Score: ',simple_logistic_model.score(x_test, y_test))\n",
    "print('LDA Test Score: ',lda.score(x_test, y_test))\n",
    "print('QDA Test Score: ',qda.score(x_test, y_test))"
   ]
  },
  {
   "cell_type": "code",
   "execution_count": 100,
   "metadata": {},
   "outputs": [
    {
     "data": {
      "text/html": [
       "<div>\n",
       "<style scoped>\n",
       "    .dataframe tbody tr th:only-of-type {\n",
       "        vertical-align: middle;\n",
       "    }\n",
       "\n",
       "    .dataframe tbody tr th {\n",
       "        vertical-align: top;\n",
       "    }\n",
       "\n",
       "    .dataframe thead th {\n",
       "        text-align: right;\n",
       "    }\n",
       "</style>\n",
       "<table border=\"1\" class=\"dataframe\">\n",
       "  <thead>\n",
       "    <tr style=\"text-align: right;\">\n",
       "      <th>Predicted</th>\n",
       "      <th>-1</th>\n",
       "      <th>1</th>\n",
       "      <th>All</th>\n",
       "    </tr>\n",
       "    <tr>\n",
       "      <th>Actual</th>\n",
       "      <th></th>\n",
       "      <th></th>\n",
       "      <th></th>\n",
       "    </tr>\n",
       "  </thead>\n",
       "  <tbody>\n",
       "    <tr>\n",
       "      <th>-1</th>\n",
       "      <td>8</td>\n",
       "      <td>15</td>\n",
       "      <td>23</td>\n",
       "    </tr>\n",
       "    <tr>\n",
       "      <th>0</th>\n",
       "      <td>4</td>\n",
       "      <td>8</td>\n",
       "      <td>12</td>\n",
       "    </tr>\n",
       "    <tr>\n",
       "      <th>1</th>\n",
       "      <td>5</td>\n",
       "      <td>21</td>\n",
       "      <td>26</td>\n",
       "    </tr>\n",
       "    <tr>\n",
       "      <th>All</th>\n",
       "      <td>17</td>\n",
       "      <td>44</td>\n",
       "      <td>61</td>\n",
       "    </tr>\n",
       "  </tbody>\n",
       "</table>\n",
       "</div>"
      ],
      "text/plain": [
       "Predicted  -1   1  All\n",
       "Actual                \n",
       "-1          8  15   23\n",
       "0           4   8   12\n",
       "1           5  21   26\n",
       "All        17  44   61"
      ]
     },
     "execution_count": 100,
     "metadata": {},
     "output_type": "execute_result"
    }
   ],
   "source": [
    "# confusion matrix for the logistic regression model\n",
    "pd.crosstab(np.array(y_test), simple_logistic_model.predict(x_test), margins=True, rownames=['Actual'], colnames=['Predicted'])"
   ]
  },
  {
   "cell_type": "code",
   "execution_count": 101,
   "metadata": {},
   "outputs": [
    {
     "data": {
      "text/html": [
       "<div>\n",
       "<style scoped>\n",
       "    .dataframe tbody tr th:only-of-type {\n",
       "        vertical-align: middle;\n",
       "    }\n",
       "\n",
       "    .dataframe tbody tr th {\n",
       "        vertical-align: top;\n",
       "    }\n",
       "\n",
       "    .dataframe thead th {\n",
       "        text-align: right;\n",
       "    }\n",
       "</style>\n",
       "<table border=\"1\" class=\"dataframe\">\n",
       "  <thead>\n",
       "    <tr style=\"text-align: right;\">\n",
       "      <th>Predicted</th>\n",
       "      <th>-1</th>\n",
       "      <th>1</th>\n",
       "      <th>All</th>\n",
       "    </tr>\n",
       "    <tr>\n",
       "      <th>Actual</th>\n",
       "      <th></th>\n",
       "      <th></th>\n",
       "      <th></th>\n",
       "    </tr>\n",
       "  </thead>\n",
       "  <tbody>\n",
       "    <tr>\n",
       "      <th>-1</th>\n",
       "      <td>10</td>\n",
       "      <td>13</td>\n",
       "      <td>23</td>\n",
       "    </tr>\n",
       "    <tr>\n",
       "      <th>0</th>\n",
       "      <td>4</td>\n",
       "      <td>8</td>\n",
       "      <td>12</td>\n",
       "    </tr>\n",
       "    <tr>\n",
       "      <th>1</th>\n",
       "      <td>6</td>\n",
       "      <td>20</td>\n",
       "      <td>26</td>\n",
       "    </tr>\n",
       "    <tr>\n",
       "      <th>All</th>\n",
       "      <td>20</td>\n",
       "      <td>41</td>\n",
       "      <td>61</td>\n",
       "    </tr>\n",
       "  </tbody>\n",
       "</table>\n",
       "</div>"
      ],
      "text/plain": [
       "Predicted  -1   1  All\n",
       "Actual                \n",
       "-1         10  13   23\n",
       "0           4   8   12\n",
       "1           6  20   26\n",
       "All        20  41   61"
      ]
     },
     "execution_count": 101,
     "metadata": {},
     "output_type": "execute_result"
    }
   ],
   "source": [
    "# confusion matrix for the lda model\n",
    "pd.crosstab(np.array(y_test), lda.predict(x_test), margins=True, rownames=['Actual'], colnames=['Predicted'])"
   ]
  },
  {
   "cell_type": "code",
   "execution_count": 102,
   "metadata": {},
   "outputs": [
    {
     "data": {
      "text/html": [
       "<div>\n",
       "<style scoped>\n",
       "    .dataframe tbody tr th:only-of-type {\n",
       "        vertical-align: middle;\n",
       "    }\n",
       "\n",
       "    .dataframe tbody tr th {\n",
       "        vertical-align: top;\n",
       "    }\n",
       "\n",
       "    .dataframe thead th {\n",
       "        text-align: right;\n",
       "    }\n",
       "</style>\n",
       "<table border=\"1\" class=\"dataframe\">\n",
       "  <thead>\n",
       "    <tr style=\"text-align: right;\">\n",
       "      <th>Predicted</th>\n",
       "      <th>-1</th>\n",
       "      <th>1</th>\n",
       "      <th>All</th>\n",
       "    </tr>\n",
       "    <tr>\n",
       "      <th>Actual</th>\n",
       "      <th></th>\n",
       "      <th></th>\n",
       "      <th></th>\n",
       "    </tr>\n",
       "  </thead>\n",
       "  <tbody>\n",
       "    <tr>\n",
       "      <th>-1</th>\n",
       "      <td>7</td>\n",
       "      <td>16</td>\n",
       "      <td>23</td>\n",
       "    </tr>\n",
       "    <tr>\n",
       "      <th>0</th>\n",
       "      <td>4</td>\n",
       "      <td>8</td>\n",
       "      <td>12</td>\n",
       "    </tr>\n",
       "    <tr>\n",
       "      <th>1</th>\n",
       "      <td>5</td>\n",
       "      <td>21</td>\n",
       "      <td>26</td>\n",
       "    </tr>\n",
       "    <tr>\n",
       "      <th>All</th>\n",
       "      <td>16</td>\n",
       "      <td>45</td>\n",
       "      <td>61</td>\n",
       "    </tr>\n",
       "  </tbody>\n",
       "</table>\n",
       "</div>"
      ],
      "text/plain": [
       "Predicted  -1   1  All\n",
       "Actual                \n",
       "-1          7  16   23\n",
       "0           4   8   12\n",
       "1           5  21   26\n",
       "All        16  45   61"
      ]
     },
     "execution_count": 102,
     "metadata": {},
     "output_type": "execute_result"
    }
   ],
   "source": [
    "# confusion matrix for the qda model\n",
    "pd.crosstab(np.array(y_test), qda.predict(x_test), margins=True, rownames=['Actual'], colnames=['Predicted'])"
   ]
  },
  {
   "cell_type": "code",
   "execution_count": null,
   "metadata": {
    "collapsed": true
   },
   "outputs": [],
   "source": []
  },
  {
   "cell_type": "code",
   "execution_count": null,
   "metadata": {
    "collapsed": true
   },
   "outputs": [],
   "source": []
  },
  {
   "cell_type": "code",
   "execution_count": null,
   "metadata": {
    "collapsed": true
   },
   "outputs": [],
   "source": []
  },
  {
   "cell_type": "code",
   "execution_count": null,
   "metadata": {
    "collapsed": true
   },
   "outputs": [],
   "source": []
  },
  {
   "cell_type": "markdown",
   "metadata": {},
   "source": [
    "# Remove later - end"
   ]
  },
  {
   "cell_type": "markdown",
   "metadata": {},
   "source": [
    "## 7  - Merge Data Back into Project Dataset"
   ]
  },
  {
   "cell_type": "code",
   "execution_count": null,
   "metadata": {},
   "outputs": [],
   "source": [
    "project_df = pd.read_csv(\"data/team/project_data.csv\")\n",
    "project_df.date = project_df.date.values.astype(\"datetime64\")\n",
    "len(project_df)"
   ]
  },
  {
   "cell_type": "code",
   "execution_count": null,
   "metadata": {},
   "outputs": [],
   "source": [
    "len(train_df)"
   ]
  },
  {
   "cell_type": "code",
   "execution_count": null,
   "metadata": {},
   "outputs": [],
   "source": [
    "train_df.info()"
   ]
  },
  {
   "cell_type": "code",
   "execution_count": null,
   "metadata": {},
   "outputs": [],
   "source": [
    "project_df.info()"
   ]
  },
  {
   "cell_type": "code",
   "execution_count": null,
   "metadata": {
    "collapsed": true
   },
   "outputs": [],
   "source": [
    "# Merge train data"
   ]
  },
  {
   "cell_type": "code",
   "execution_count": null,
   "metadata": {
    "collapsed": true
   },
   "outputs": [],
   "source": [
    "merge_columms = ['date','home_team','away_team', # for joins\n",
    "                 'home_hrva_rwma','home_hrvap_rwma','home_hrva_rmean','home_hrvap_rmean',\n",
    "                 'away_hrva_rwma','away_hrvap_rwma','away_hrva_rmean','away_hrvap_rmean',\n",
    "                 'diff_hrva_rwma','diff_hrvap_rwma','diff_hrva_rmean','diff_hrvap_rmean']"
   ]
  },
  {
   "cell_type": "code",
   "execution_count": null,
   "metadata": {},
   "outputs": [],
   "source": [
    "project_df_test = project_df.merge(train_df[merge_columms], \n",
    "                  how = 'left',\n",
    "                  left_on=['date','home_team','away_team'], \n",
    "                  right_on=['date','home_team','away_team'])\n",
    "\n",
    "len(project_df_test)"
   ]
  },
  {
   "cell_type": "code",
   "execution_count": null,
   "metadata": {},
   "outputs": [],
   "source": [
    "project_df_test.info()"
   ]
  },
  {
   "cell_type": "code",
   "execution_count": null,
   "metadata": {
    "collapsed": true
   },
   "outputs": [],
   "source": [
    "project_df_test.to_csv('data/team/project_df_test_INSPECT2.csv')"
   ]
  },
  {
   "cell_type": "code",
   "execution_count": null,
   "metadata": {
    "collapsed": true
   },
   "outputs": [],
   "source": []
  },
  {
   "cell_type": "code",
   "execution_count": null,
   "metadata": {
    "collapsed": true
   },
   "outputs": [],
   "source": []
  },
  {
   "cell_type": "code",
   "execution_count": null,
   "metadata": {
    "collapsed": true
   },
   "outputs": [],
   "source": []
  },
  {
   "cell_type": "code",
   "execution_count": null,
   "metadata": {
    "collapsed": true
   },
   "outputs": [],
   "source": []
  },
  {
   "cell_type": "code",
   "execution_count": null,
   "metadata": {
    "collapsed": true
   },
   "outputs": [],
   "source": []
  },
  {
   "cell_type": "code",
   "execution_count": null,
   "metadata": {
    "collapsed": true
   },
   "outputs": [],
   "source": [
    "pd.set_option('display.max_columns', 500)\n",
    "pd.set_option('display.width', 1000)"
   ]
  },
  {
   "cell_type": "code",
   "execution_count": null,
   "metadata": {},
   "outputs": [],
   "source": [
    "project_df_test.tail()"
   ]
  },
  {
   "cell_type": "code",
   "execution_count": null,
   "metadata": {},
   "outputs": [],
   "source": [
    "len(project_df_test)"
   ]
  },
  {
   "cell_type": "code",
   "execution_count": null,
   "metadata": {},
   "outputs": [],
   "source": [
    "len(project_df)"
   ]
  },
  {
   "cell_type": "code",
   "execution_count": null,
   "metadata": {},
   "outputs": [],
   "source": [
    "cnt = pd.DataFrame(project_df.groupby(['date','home_team']).size())\n",
    "cnt = cnt.reset_index()\n",
    "cnt.head()\n",
    "\n",
    "cnt = cnt.rename(columns = {0:'count'})\n",
    "\n",
    "cnt[cnt['count'] > 1]"
   ]
  },
  {
   "cell_type": "code",
   "execution_count": null,
   "metadata": {
    "collapsed": true
   },
   "outputs": [],
   "source": []
  }
 ],
 "metadata": {
  "kernelspec": {
   "display_name": "Python 3",
   "language": "python",
   "name": "python3"
  },
  "language_info": {
   "codemirror_mode": {
    "name": "ipython",
    "version": 3
   },
   "file_extension": ".py",
   "mimetype": "text/x-python",
   "name": "python",
   "nbconvert_exporter": "python",
   "pygments_lexer": "ipython3",
   "version": "3.6.5"
  }
 },
 "nbformat": 4,
 "nbformat_minor": 2
}

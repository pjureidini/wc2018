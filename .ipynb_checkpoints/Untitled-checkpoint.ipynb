{
 "cells": [
  {
   "cell_type": "code",
   "execution_count": 5,
   "metadata": {
    "collapsed": true
   },
   "outputs": [],
   "source": [
    "import pandas as pd\n",
    "import numpy as np\n",
    "import seaborn as sns\n",
    "\n",
    "import matplotlib\n",
    "import matplotlib.pyplot as plt\n",
    "%matplotlib inline\n",
    "#import talib"
   ]
  },
  {
   "cell_type": "code",
   "execution_count": 70,
   "metadata": {
    "collapsed": true
   },
   "outputs": [],
   "source": [
    "# function to calculate rolling weighted moving average\n",
    "def rwma(group):\n",
    "    # perform the ewma\n",
    "    kwargs = dict(ignore_na=False, span=100, min_periods=0, adjust=True)\n",
    "    result = group.ewm(**kwargs).mean().shift().reset_index()\n",
    "    result.rename(columns={result.columns[-1]: 'rwma'}, inplace=True)\n",
    "    return result"
   ]
  },
  {
   "cell_type": "code",
   "execution_count": 71,
   "metadata": {},
   "outputs": [],
   "source": [
    "df = pd.read_csv(\"data/team/new_intl_results.csv\")"
   ]
  },
  {
   "cell_type": "code",
   "execution_count": 72,
   "metadata": {},
   "outputs": [
    {
     "data": {
      "text/html": [
       "<div>\n",
       "<style scoped>\n",
       "    .dataframe tbody tr th:only-of-type {\n",
       "        vertical-align: middle;\n",
       "    }\n",
       "\n",
       "    .dataframe tbody tr th {\n",
       "        vertical-align: top;\n",
       "    }\n",
       "\n",
       "    .dataframe thead th {\n",
       "        text-align: right;\n",
       "    }\n",
       "</style>\n",
       "<table border=\"1\" class=\"dataframe\">\n",
       "  <thead>\n",
       "    <tr style=\"text-align: right;\">\n",
       "      <th></th>\n",
       "      <th>date</th>\n",
       "      <th>home_team</th>\n",
       "      <th>away_team</th>\n",
       "      <th>home_score</th>\n",
       "      <th>away_score</th>\n",
       "      <th>tournament</th>\n",
       "      <th>city</th>\n",
       "      <th>country</th>\n",
       "      <th>neutral</th>\n",
       "    </tr>\n",
       "  </thead>\n",
       "  <tbody>\n",
       "    <tr>\n",
       "      <th>0</th>\n",
       "      <td>1872-11-30</td>\n",
       "      <td>Scotland</td>\n",
       "      <td>England</td>\n",
       "      <td>0</td>\n",
       "      <td>0</td>\n",
       "      <td>Friendly</td>\n",
       "      <td>Glasgow</td>\n",
       "      <td>Scotland</td>\n",
       "      <td>False</td>\n",
       "    </tr>\n",
       "    <tr>\n",
       "      <th>1</th>\n",
       "      <td>1873-03-08</td>\n",
       "      <td>England</td>\n",
       "      <td>Scotland</td>\n",
       "      <td>4</td>\n",
       "      <td>2</td>\n",
       "      <td>Friendly</td>\n",
       "      <td>London</td>\n",
       "      <td>England</td>\n",
       "      <td>False</td>\n",
       "    </tr>\n",
       "    <tr>\n",
       "      <th>2</th>\n",
       "      <td>1874-03-07</td>\n",
       "      <td>Scotland</td>\n",
       "      <td>England</td>\n",
       "      <td>2</td>\n",
       "      <td>1</td>\n",
       "      <td>Friendly</td>\n",
       "      <td>Glasgow</td>\n",
       "      <td>Scotland</td>\n",
       "      <td>False</td>\n",
       "    </tr>\n",
       "    <tr>\n",
       "      <th>3</th>\n",
       "      <td>1875-03-06</td>\n",
       "      <td>England</td>\n",
       "      <td>Scotland</td>\n",
       "      <td>2</td>\n",
       "      <td>2</td>\n",
       "      <td>Friendly</td>\n",
       "      <td>London</td>\n",
       "      <td>England</td>\n",
       "      <td>False</td>\n",
       "    </tr>\n",
       "    <tr>\n",
       "      <th>4</th>\n",
       "      <td>1876-03-04</td>\n",
       "      <td>Scotland</td>\n",
       "      <td>England</td>\n",
       "      <td>3</td>\n",
       "      <td>0</td>\n",
       "      <td>Friendly</td>\n",
       "      <td>Glasgow</td>\n",
       "      <td>Scotland</td>\n",
       "      <td>False</td>\n",
       "    </tr>\n",
       "  </tbody>\n",
       "</table>\n",
       "</div>"
      ],
      "text/plain": [
       "         date home_team away_team  home_score  away_score tournament     city  \\\n",
       "0  1872-11-30  Scotland   England           0           0   Friendly  Glasgow   \n",
       "1  1873-03-08   England  Scotland           4           2   Friendly   London   \n",
       "2  1874-03-07  Scotland   England           2           1   Friendly  Glasgow   \n",
       "3  1875-03-06   England  Scotland           2           2   Friendly   London   \n",
       "4  1876-03-04  Scotland   England           3           0   Friendly  Glasgow   \n",
       "\n",
       "    country  neutral  \n",
       "0  Scotland    False  \n",
       "1   England    False  \n",
       "2  Scotland    False  \n",
       "3   England    False  \n",
       "4  Scotland    False  "
      ]
     },
     "execution_count": 72,
     "metadata": {},
     "output_type": "execute_result"
    }
   ],
   "source": [
    "df.head()"
   ]
  },
  {
   "cell_type": "code",
   "execution_count": 73,
   "metadata": {
    "collapsed": true
   },
   "outputs": [],
   "source": [
    "df.date = df.date.values.astype(\"datetime64\")"
   ]
  },
  {
   "cell_type": "code",
   "execution_count": 74,
   "metadata": {
    "collapsed": true
   },
   "outputs": [],
   "source": [
    "df['year'] = pd.DatetimeIndex(df['date']).year"
   ]
  },
  {
   "cell_type": "code",
   "execution_count": 75,
   "metadata": {},
   "outputs": [
    {
     "data": {
      "image/png": "[encoded data removed]",
      "text/plain": [
       "<Figure size 720x360 with 1 Axes>"
      ]
     },
     "metadata": {},
     "output_type": "display_data"
    }
   ],
   "source": [
    "year_bins = np.linspace(min(df.year),max(df.year), max(df.year) - min(df.year) + 1)\n",
    "\n",
    "fig, ax = plt.subplots(1,1,figsize = (10,5))\n",
    "ax.hist(df['year'], bins = year_bins, alpha = 0.2, label = 'All macthes')\n",
    "ax.hist(df[df['tournament'] == 'Friendly']['year'], bins = year_bins, alpha = 0.2, label = 'Friendly')\n",
    "ax.set_xlabel('Year')\n",
    "ax.set_ylabel('Frequency')\n",
    "ax.set_title('Number of Matches per Year')\n",
    "ax.legend()\n",
    "plt.show()"
   ]
  },
  {
   "cell_type": "markdown",
   "metadata": {},
   "source": [
    "Two observations:\n",
    " - It looks like history is not quite available all the back to 1872. For feature engineering purposes, we will opt to only use matches after XYZ.\n",
    " - A high percentage of matches fall in the 'Friendly' category.  We will have to make a decision in terms of how to include these matches in our feature engineering process.\n"
   ]
  },
  {
   "cell_type": "code",
   "execution_count": 76,
   "metadata": {},
   "outputs": [],
   "source": [
    "start_date = min(df[df['year'] >= 1940]['date'])"
   ]
  },
  {
   "cell_type": "markdown",
   "metadata": {
    "collapsed": true
   },
   "source": [
    "Upon closer inspection, it looks like data is available from 1/10/2968 forward."
   ]
  },
  {
   "cell_type": "code",
   "execution_count": 77,
   "metadata": {},
   "outputs": [],
   "source": [
    "df = df[df['date'] >= start_date]"
   ]
  },
  {
   "cell_type": "code",
   "execution_count": 78,
   "metadata": {
    "collapsed": true
   },
   "outputs": [],
   "source": [
    "df = df.sort_values('date')"
   ]
  },
  {
   "cell_type": "code",
   "execution_count": 79,
   "metadata": {
    "collapsed": true
   },
   "outputs": [],
   "source": [
    "# result variable\n",
    "# constructed as follows:\n",
    "# 1 for win\n",
    "# 0 for draw\n",
    "# -1 for loss\n",
    "df['result'] = np.sign(df.home_score - df.away_score)\n",
    "\n",
    "# result_plus variable\n",
    "# result adjusted for venue\n",
    "# -0.5 penalty if result obtained on home soil\n",
    "# +0.5 reward if result obtained on opponent home soil \n",
    "# Note: no penalty if achieved on neutral field)\n",
    "df['result_plus'] = np.sign(df.home_score - df.away_score) - (0.50 * (df.neutral==False))"
   ]
  },
  {
   "cell_type": "code",
   "execution_count": 80,
   "metadata": {
    "collapsed": true
   },
   "outputs": [],
   "source": [
    "df['sorted_matchup'] = np.where(df['home_team'] < df['away_team'], \n",
    "                                df['home_team'] + '|' + df['away_team'],\n",
    "                                df['away_team'] + '|' + df['home_team'])\n",
    "\n",
    "\n",
    "df['sorted_result'] = np.where(df['home_team'] < df['away_team'], \n",
    "                                df['result'] ,\n",
    "                                -1 * df['result'])\n",
    "\n",
    "df['sorted_result_plus'] = np.where(df['home_team'] < df['away_team'], \n",
    "                                df['result_plus'] ,\n",
    "                                -1 * df['result_plus'] )"
   ]
  },
  {
   "cell_type": "code",
   "execution_count": 81,
   "metadata": {
    "scrolled": false
   },
   "outputs": [],
   "source": [
    "#df[df.neutral == False].head()"
   ]
  },
  {
   "cell_type": "code",
   "execution_count": 82,
   "metadata": {
    "collapsed": true
   },
   "outputs": [],
   "source": [
    "df.set_index('date',inplace=True,drop=True)"
   ]
  },
  {
   "cell_type": "code",
   "execution_count": 83,
   "metadata": {
    "collapsed": true
   },
   "outputs": [],
   "source": [
    "df_vs_oppo = df.groupby('sorted_matchup')['sorted_result_plus'].apply(rwma)"
   ]
  },
  {
   "cell_type": "code",
   "execution_count": 84,
   "metadata": {
    "collapsed": true
   },
   "outputs": [],
   "source": [
    "df_vs_oppo.reset_index(inplace=True)\n",
    "df.reset_index(inplace=True)"
   ]
  },
  {
   "cell_type": "code",
   "execution_count": 85,
   "metadata": {},
   "outputs": [],
   "source": [
    "df_vs_oppo['rwma'] = df_vs_oppo['rwma'].fillna(0)\n",
    "\n",
    "df_vs_oppo['rwma_sign'] = np.sign(df_vs_oppo['rwma'])\n",
    "\n",
    "df_vs_oppo = df_vs_oppo.drop(columns = 'level_1')"
   ]
  },
  {
   "cell_type": "code",
   "execution_count": 113,
   "metadata": {},
   "outputs": [
    {
     "data": {
      "text/html": [
       "<div>\n",
       "<style scoped>\n",
       "    .dataframe tbody tr th:only-of-type {\n",
       "        vertical-align: middle;\n",
       "    }\n",
       "\n",
       "    .dataframe tbody tr th {\n",
       "        vertical-align: top;\n",
       "    }\n",
       "\n",
       "    .dataframe thead th {\n",
       "        text-align: right;\n",
       "    }\n",
       "</style>\n",
       "<table border=\"1\" class=\"dataframe\">\n",
       "  <thead>\n",
       "    <tr style=\"text-align: right;\">\n",
       "      <th></th>\n",
       "      <th>date</th>\n",
       "      <th>home_team</th>\n",
       "      <th>away_team</th>\n",
       "      <th>home_score</th>\n",
       "      <th>away_score</th>\n",
       "      <th>tournament</th>\n",
       "      <th>city</th>\n",
       "      <th>country</th>\n",
       "      <th>neutral</th>\n",
       "      <th>year</th>\n",
       "      <th>result</th>\n",
       "      <th>result_plus</th>\n",
       "      <th>sorted_matchup</th>\n",
       "      <th>sorted_result</th>\n",
       "      <th>sorted_result_plus</th>\n",
       "    </tr>\n",
       "  </thead>\n",
       "  <tbody>\n",
       "    <tr>\n",
       "      <th>3459</th>\n",
       "      <td>1977-06-30</td>\n",
       "      <td>Brazil</td>\n",
       "      <td>France</td>\n",
       "      <td>2</td>\n",
       "      <td>2</td>\n",
       "      <td>Friendly</td>\n",
       "      <td>Rio de Janeiro</td>\n",
       "      <td>Brazil</td>\n",
       "      <td>False</td>\n",
       "      <td>1977</td>\n",
       "      <td>0</td>\n",
       "      <td>-0.5</td>\n",
       "      <td>Brazil|France</td>\n",
       "      <td>0</td>\n",
       "      <td>-0.5</td>\n",
       "    </tr>\n",
       "    <tr>\n",
       "      <th>3718</th>\n",
       "      <td>1978-04-01</td>\n",
       "      <td>France</td>\n",
       "      <td>Brazil</td>\n",
       "      <td>1</td>\n",
       "      <td>0</td>\n",
       "      <td>Friendly</td>\n",
       "      <td>Paris</td>\n",
       "      <td>France</td>\n",
       "      <td>False</td>\n",
       "      <td>1978</td>\n",
       "      <td>1</td>\n",
       "      <td>0.5</td>\n",
       "      <td>Brazil|France</td>\n",
       "      <td>-1</td>\n",
       "      <td>-0.5</td>\n",
       "    </tr>\n",
       "    <tr>\n",
       "      <th>5035</th>\n",
       "      <td>1981-05-15</td>\n",
       "      <td>France</td>\n",
       "      <td>Brazil</td>\n",
       "      <td>1</td>\n",
       "      <td>3</td>\n",
       "      <td>Friendly</td>\n",
       "      <td>Paris</td>\n",
       "      <td>France</td>\n",
       "      <td>False</td>\n",
       "      <td>1981</td>\n",
       "      <td>-1</td>\n",
       "      <td>-1.5</td>\n",
       "      <td>Brazil|France</td>\n",
       "      <td>1</td>\n",
       "      <td>1.5</td>\n",
       "    </tr>\n",
       "    <tr>\n",
       "      <th>7509</th>\n",
       "      <td>1986-06-21</td>\n",
       "      <td>Brazil</td>\n",
       "      <td>France</td>\n",
       "      <td>1</td>\n",
       "      <td>1</td>\n",
       "      <td>FIFA World Cup</td>\n",
       "      <td>Guadalajara</td>\n",
       "      <td>Mexico</td>\n",
       "      <td>True</td>\n",
       "      <td>1986</td>\n",
       "      <td>0</td>\n",
       "      <td>0.0</td>\n",
       "      <td>Brazil|France</td>\n",
       "      <td>0</td>\n",
       "      <td>0.0</td>\n",
       "    </tr>\n",
       "    <tr>\n",
       "      <th>10384</th>\n",
       "      <td>1992-08-26</td>\n",
       "      <td>France</td>\n",
       "      <td>Brazil</td>\n",
       "      <td>0</td>\n",
       "      <td>2</td>\n",
       "      <td>Friendly</td>\n",
       "      <td>Paris</td>\n",
       "      <td>France</td>\n",
       "      <td>False</td>\n",
       "      <td>1992</td>\n",
       "      <td>-1</td>\n",
       "      <td>-1.5</td>\n",
       "      <td>Brazil|France</td>\n",
       "      <td>1</td>\n",
       "      <td>1.5</td>\n",
       "    </tr>\n",
       "    <tr>\n",
       "      <th>13768</th>\n",
       "      <td>1997-06-03</td>\n",
       "      <td>France</td>\n",
       "      <td>Brazil</td>\n",
       "      <td>1</td>\n",
       "      <td>1</td>\n",
       "      <td>Tournoi de France</td>\n",
       "      <td>Lyon</td>\n",
       "      <td>France</td>\n",
       "      <td>False</td>\n",
       "      <td>1997</td>\n",
       "      <td>0</td>\n",
       "      <td>-0.5</td>\n",
       "      <td>Brazil|France</td>\n",
       "      <td>0</td>\n",
       "      <td>0.5</td>\n",
       "    </tr>\n",
       "    <tr>\n",
       "      <th>14641</th>\n",
       "      <td>1998-07-12</td>\n",
       "      <td>France</td>\n",
       "      <td>Brazil</td>\n",
       "      <td>3</td>\n",
       "      <td>0</td>\n",
       "      <td>FIFA World Cup</td>\n",
       "      <td>Saint-Denis</td>\n",
       "      <td>France</td>\n",
       "      <td>False</td>\n",
       "      <td>1998</td>\n",
       "      <td>1</td>\n",
       "      <td>0.5</td>\n",
       "      <td>Brazil|France</td>\n",
       "      <td>-1</td>\n",
       "      <td>-0.5</td>\n",
       "    </tr>\n",
       "    <tr>\n",
       "      <th>17304</th>\n",
       "      <td>2001-06-07</td>\n",
       "      <td>France</td>\n",
       "      <td>Brazil</td>\n",
       "      <td>2</td>\n",
       "      <td>1</td>\n",
       "      <td>Confederations Cup</td>\n",
       "      <td>Suwon</td>\n",
       "      <td>Korea Republic</td>\n",
       "      <td>True</td>\n",
       "      <td>2001</td>\n",
       "      <td>1</td>\n",
       "      <td>1.0</td>\n",
       "      <td>Brazil|France</td>\n",
       "      <td>-1</td>\n",
       "      <td>-1.0</td>\n",
       "    </tr>\n",
       "    <tr>\n",
       "      <th>19752</th>\n",
       "      <td>2004-05-20</td>\n",
       "      <td>France</td>\n",
       "      <td>Brazil</td>\n",
       "      <td>0</td>\n",
       "      <td>0</td>\n",
       "      <td>Friendly</td>\n",
       "      <td>Saint-Denis</td>\n",
       "      <td>France</td>\n",
       "      <td>False</td>\n",
       "      <td>2004</td>\n",
       "      <td>0</td>\n",
       "      <td>-0.5</td>\n",
       "      <td>Brazil|France</td>\n",
       "      <td>0</td>\n",
       "      <td>0.5</td>\n",
       "    </tr>\n",
       "    <tr>\n",
       "      <th>21696</th>\n",
       "      <td>2006-07-01</td>\n",
       "      <td>Brazil</td>\n",
       "      <td>France</td>\n",
       "      <td>0</td>\n",
       "      <td>1</td>\n",
       "      <td>FIFA World Cup</td>\n",
       "      <td>Frankfurt am Main</td>\n",
       "      <td>Germany</td>\n",
       "      <td>True</td>\n",
       "      <td>2006</td>\n",
       "      <td>-1</td>\n",
       "      <td>-1.0</td>\n",
       "      <td>Brazil|France</td>\n",
       "      <td>-1</td>\n",
       "      <td>-1.0</td>\n",
       "    </tr>\n",
       "    <tr>\n",
       "      <th>26166</th>\n",
       "      <td>2011-02-09</td>\n",
       "      <td>France</td>\n",
       "      <td>Brazil</td>\n",
       "      <td>1</td>\n",
       "      <td>0</td>\n",
       "      <td>Friendly</td>\n",
       "      <td>Saint-Denis</td>\n",
       "      <td>France</td>\n",
       "      <td>False</td>\n",
       "      <td>2011</td>\n",
       "      <td>1</td>\n",
       "      <td>0.5</td>\n",
       "      <td>Brazil|France</td>\n",
       "      <td>-1</td>\n",
       "      <td>-0.5</td>\n",
       "    </tr>\n",
       "    <tr>\n",
       "      <th>28614</th>\n",
       "      <td>2013-06-09</td>\n",
       "      <td>Brazil</td>\n",
       "      <td>France</td>\n",
       "      <td>3</td>\n",
       "      <td>0</td>\n",
       "      <td>Friendly</td>\n",
       "      <td>Porto Alegre</td>\n",
       "      <td>Brazil</td>\n",
       "      <td>False</td>\n",
       "      <td>2013</td>\n",
       "      <td>1</td>\n",
       "      <td>0.5</td>\n",
       "      <td>Brazil|France</td>\n",
       "      <td>1</td>\n",
       "      <td>0.5</td>\n",
       "    </tr>\n",
       "    <tr>\n",
       "      <th>30217</th>\n",
       "      <td>2015-03-26</td>\n",
       "      <td>France</td>\n",
       "      <td>Brazil</td>\n",
       "      <td>1</td>\n",
       "      <td>3</td>\n",
       "      <td>Friendly</td>\n",
       "      <td>Saint-Denis</td>\n",
       "      <td>France</td>\n",
       "      <td>False</td>\n",
       "      <td>2015</td>\n",
       "      <td>-1</td>\n",
       "      <td>-1.5</td>\n",
       "      <td>Brazil|France</td>\n",
       "      <td>1</td>\n",
       "      <td>1.5</td>\n",
       "    </tr>\n",
       "  </tbody>\n",
       "</table>\n",
       "</div>"
      ],
      "text/plain": [
       "            date home_team away_team  home_score  away_score  \\\n",
       "3459  1977-06-30    Brazil    France           2           2   \n",
       "3718  1978-04-01    France    Brazil           1           0   \n",
       "5035  1981-05-15    France    Brazil           1           3   \n",
       "7509  1986-06-21    Brazil    France           1           1   \n",
       "10384 1992-08-26    France    Brazil           0           2   \n",
       "13768 1997-06-03    France    Brazil           1           1   \n",
       "14641 1998-07-12    France    Brazil           3           0   \n",
       "17304 2001-06-07    France    Brazil           2           1   \n",
       "19752 2004-05-20    France    Brazil           0           0   \n",
       "21696 2006-07-01    Brazil    France           0           1   \n",
       "26166 2011-02-09    France    Brazil           1           0   \n",
       "28614 2013-06-09    Brazil    France           3           0   \n",
       "30217 2015-03-26    France    Brazil           1           3   \n",
       "\n",
       "               tournament               city         country  neutral  year  \\\n",
       "3459             Friendly     Rio de Janeiro          Brazil    False  1977   \n",
       "3718             Friendly              Paris          France    False  1978   \n",
       "5035             Friendly              Paris          France    False  1981   \n",
       "7509       FIFA World Cup        Guadalajara          Mexico     True  1986   \n",
       "10384            Friendly              Paris          France    False  1992   \n",
       "13768   Tournoi de France               Lyon          France    False  1997   \n",
       "14641      FIFA World Cup        Saint-Denis          France    False  1998   \n",
       "17304  Confederations Cup              Suwon  Korea Republic     True  2001   \n",
       "19752            Friendly        Saint-Denis          France    False  2004   \n",
       "21696      FIFA World Cup  Frankfurt am Main         Germany     True  2006   \n",
       "26166            Friendly        Saint-Denis          France    False  2011   \n",
       "28614            Friendly       Porto Alegre          Brazil    False  2013   \n",
       "30217            Friendly        Saint-Denis          France    False  2015   \n",
       "\n",
       "       result  result_plus sorted_matchup  sorted_result  sorted_result_plus  \n",
       "3459        0         -0.5  Brazil|France              0                -0.5  \n",
       "3718        1          0.5  Brazil|France             -1                -0.5  \n",
       "5035       -1         -1.5  Brazil|France              1                 1.5  \n",
       "7509        0          0.0  Brazil|France              0                 0.0  \n",
       "10384      -1         -1.5  Brazil|France              1                 1.5  \n",
       "13768       0         -0.5  Brazil|France              0                 0.5  \n",
       "14641       1          0.5  Brazil|France             -1                -0.5  \n",
       "17304       1          1.0  Brazil|France             -1                -1.0  \n",
       "19752       0         -0.5  Brazil|France              0                 0.5  \n",
       "21696      -1         -1.0  Brazil|France             -1                -1.0  \n",
       "26166       1          0.5  Brazil|France             -1                -0.5  \n",
       "28614       1          0.5  Brazil|France              1                 0.5  \n",
       "30217      -1         -1.5  Brazil|France              1                 1.5  "
      ]
     },
     "execution_count": 113,
     "metadata": {},
     "output_type": "execute_result"
    }
   ],
   "source": [
    "df[df['sorted_matchup'] == 'Brazil|France']"
   ]
  },
  {
   "cell_type": "code",
   "execution_count": 114,
   "metadata": {},
   "outputs": [
    {
     "data": {
      "text/html": [
       "<div>\n",
       "<style scoped>\n",
       "    .dataframe tbody tr th:only-of-type {\n",
       "        vertical-align: middle;\n",
       "    }\n",
       "\n",
       "    .dataframe tbody tr th {\n",
       "        vertical-align: top;\n",
       "    }\n",
       "\n",
       "    .dataframe thead th {\n",
       "        text-align: right;\n",
       "    }\n",
       "</style>\n",
       "<table border=\"1\" class=\"dataframe\">\n",
       "  <thead>\n",
       "    <tr style=\"text-align: right;\">\n",
       "      <th></th>\n",
       "      <th>sorted_matchup</th>\n",
       "      <th>date</th>\n",
       "      <th>rwma</th>\n",
       "      <th>rwma_sign</th>\n",
       "    </tr>\n",
       "  </thead>\n",
       "  <tbody>\n",
       "    <tr>\n",
       "      <th>6505</th>\n",
       "      <td>Brazil|France</td>\n",
       "      <td>1977-06-30</td>\n",
       "      <td>0.000000</td>\n",
       "      <td>0.0</td>\n",
       "    </tr>\n",
       "    <tr>\n",
       "      <th>6506</th>\n",
       "      <td>Brazil|France</td>\n",
       "      <td>1978-04-01</td>\n",
       "      <td>-0.500000</td>\n",
       "      <td>-1.0</td>\n",
       "    </tr>\n",
       "    <tr>\n",
       "      <th>6507</th>\n",
       "      <td>Brazil|France</td>\n",
       "      <td>1981-05-15</td>\n",
       "      <td>-0.500000</td>\n",
       "      <td>-1.0</td>\n",
       "    </tr>\n",
       "    <tr>\n",
       "      <th>6508</th>\n",
       "      <td>Brazil|France</td>\n",
       "      <td>1986-06-21</td>\n",
       "      <td>0.180044</td>\n",
       "      <td>1.0</td>\n",
       "    </tr>\n",
       "    <tr>\n",
       "      <th>6509</th>\n",
       "      <td>Brazil|France</td>\n",
       "      <td>1992-08-26</td>\n",
       "      <td>0.133674</td>\n",
       "      <td>1.0</td>\n",
       "    </tr>\n",
       "    <tr>\n",
       "      <th>6510</th>\n",
       "      <td>Brazil|France</td>\n",
       "      <td>1997-06-03</td>\n",
       "      <td>0.417978</td>\n",
       "      <td>1.0</td>\n",
       "    </tr>\n",
       "    <tr>\n",
       "      <th>6511</th>\n",
       "      <td>Brazil|France</td>\n",
       "      <td>1998-07-12</td>\n",
       "      <td>0.432341</td>\n",
       "      <td>1.0</td>\n",
       "    </tr>\n",
       "    <tr>\n",
       "      <th>6512</th>\n",
       "      <td>Brazil|France</td>\n",
       "      <td>2001-06-07</td>\n",
       "      <td>0.291026</td>\n",
       "      <td>1.0</td>\n",
       "    </tr>\n",
       "    <tr>\n",
       "      <th>6513</th>\n",
       "      <td>Brazil|France</td>\n",
       "      <td>2004-05-20</td>\n",
       "      <td>0.118128</td>\n",
       "      <td>1.0</td>\n",
       "    </tr>\n",
       "    <tr>\n",
       "      <th>6514</th>\n",
       "      <td>Brazil|France</td>\n",
       "      <td>2006-07-01</td>\n",
       "      <td>0.164031</td>\n",
       "      <td>1.0</td>\n",
       "    </tr>\n",
       "    <tr>\n",
       "      <th>6515</th>\n",
       "      <td>Brazil|France</td>\n",
       "      <td>2011-02-09</td>\n",
       "      <td>0.036875</td>\n",
       "      <td>1.0</td>\n",
       "    </tr>\n",
       "    <tr>\n",
       "      <th>6516</th>\n",
       "      <td>Brazil|France</td>\n",
       "      <td>2013-06-09</td>\n",
       "      <td>-0.016957</td>\n",
       "      <td>-1.0</td>\n",
       "    </tr>\n",
       "    <tr>\n",
       "      <th>6517</th>\n",
       "      <td>Brazil|France</td>\n",
       "      <td>2015-03-26</td>\n",
       "      <td>0.031017</td>\n",
       "      <td>1.0</td>\n",
       "    </tr>\n",
       "  </tbody>\n",
       "</table>\n",
       "</div>"
      ],
      "text/plain": [
       "     sorted_matchup       date      rwma  rwma_sign\n",
       "6505  Brazil|France 1977-06-30  0.000000        0.0\n",
       "6506  Brazil|France 1978-04-01 -0.500000       -1.0\n",
       "6507  Brazil|France 1981-05-15 -0.500000       -1.0\n",
       "6508  Brazil|France 1986-06-21  0.180044        1.0\n",
       "6509  Brazil|France 1992-08-26  0.133674        1.0\n",
       "6510  Brazil|France 1997-06-03  0.417978        1.0\n",
       "6511  Brazil|France 1998-07-12  0.432341        1.0\n",
       "6512  Brazil|France 2001-06-07  0.291026        1.0\n",
       "6513  Brazil|France 2004-05-20  0.118128        1.0\n",
       "6514  Brazil|France 2006-07-01  0.164031        1.0\n",
       "6515  Brazil|France 2011-02-09  0.036875        1.0\n",
       "6516  Brazil|France 2013-06-09 -0.016957       -1.0\n",
       "6517  Brazil|France 2015-03-26  0.031017        1.0"
      ]
     },
     "execution_count": 114,
     "metadata": {},
     "output_type": "execute_result"
    }
   ],
   "source": [
    "df_vs_oppo[df_vs_oppo['sorted_matchup'] == 'Brazil|France']"
   ]
  },
  {
   "cell_type": "code",
   "execution_count": 115,
   "metadata": {
    "collapsed": true
   },
   "outputs": [],
   "source": [
    "temp_df = df[df['sorted_matchup'] == 'Brazil|France']"
   ]
  },
  {
   "cell_type": "code",
   "execution_count": 116,
   "metadata": {},
   "outputs": [],
   "source": [
    "temp_df_vs_oppo = df_vs_oppo[df_vs_oppo['sorted_matchup'] == 'Brazil|France']"
   ]
  },
  {
   "cell_type": "code",
   "execution_count": 117,
   "metadata": {
    "scrolled": false
   },
   "outputs": [
    {
     "data": {
      "image/png": "[encoded data removed]",
      "text/plain": [
       "<Figure size 720x360 with 1 Axes>"
      ]
     },
     "metadata": {},
     "output_type": "display_data"
    }
   ],
   "source": [
    "fig, ax = plt.subplots(1,1,figsize = (10,5))\n",
    "\n",
    "ax.plot(temp_df['date'] , temp_df['sorted_result'], '-o', label = 'res', alpha = 0.5)\n",
    "ax.plot(temp_df['date'] , temp_df['sorted_result_plus'] , '-o', label = 'srp', alpha = 0.5)\n",
    "ax.plot(temp_df_vs_oppo['date'] , temp_df_vs_oppo['rwma'] , '-o', label = 'rwma', alpha = 0.5)\n",
    "ax.axhline(0, linestyle = '--', alpha = 0.2)\n",
    "\n",
    "\n",
    "ax.legend()\n",
    "plt.show()"
   ]
  },
  {
   "cell_type": "code",
   "execution_count": null,
   "metadata": {
    "collapsed": true
   },
   "outputs": [],
   "source": [
    "temp_df3 = recency[recency['sorted_matchup'] == 'England|Scotland'].reset_index()"
   ]
  },
  {
   "cell_type": "code",
   "execution_count": null,
   "metadata": {
    "collapsed": true
   },
   "outputs": [],
   "source": []
  },
  {
   "cell_type": "code",
   "execution_count": null,
   "metadata": {
    "collapsed": true
   },
   "outputs": [],
   "source": [
    "from sklearn.linear_model import LogisticRegression\n",
    "from sklearn.linear_model import LogisticRegressionCV\n",
    "from sklearn.model_selection import cross_val_score\n",
    "\n",
    "df.reset_index(inplace = True)\n",
    "\n",
    "recency_redux = recency[recency['date'] >= '2010-01-01']\n",
    "df_redux = df[df['date'] >= '2010-01-01']"
   ]
  },
  {
   "cell_type": "code",
   "execution_count": null,
   "metadata": {
    "collapsed": true
   },
   "outputs": [],
   "source": [
    "x_train.shape"
   ]
  },
  {
   "cell_type": "code",
   "execution_count": null,
   "metadata": {
    "collapsed": true
   },
   "outputs": [],
   "source": [
    "y_train.shape"
   ]
  },
  {
   "cell_type": "code",
   "execution_count": null,
   "metadata": {
    "collapsed": true
   },
   "outputs": [],
   "source": [
    "x_train = recency[['rwma']]\n",
    "y_train = df['sorted_result']+1"
   ]
  },
  {
   "cell_type": "code",
   "execution_count": null,
   "metadata": {
    "collapsed": true
   },
   "outputs": [],
   "source": [
    "# fit logistic regression\n",
    "simple_logistic_model = LogisticRegressionCV(multi_class = 'ovr', cv=5, penalty='l2')\n",
    "simple_logistic_model.fit(x_train, y_train)\n",
    "print('Logistic Regression Train Score: ',simple_logistic_model.score(x_train, y_train))\n",
    "print('Logistic Regression CV Train Score: ',cross_val_score(simple_logistic_model, x_train, y_train, cv=5).mean())"
   ]
  },
  {
   "cell_type": "code",
   "execution_count": null,
   "metadata": {
    "collapsed": true
   },
   "outputs": [],
   "source": []
  },
  {
   "cell_type": "code",
   "execution_count": null,
   "metadata": {
    "collapsed": true
   },
   "outputs": [],
   "source": []
  },
  {
   "cell_type": "code",
   "execution_count": null,
   "metadata": {
    "collapsed": true
   },
   "outputs": [],
   "source": []
  },
  {
   "cell_type": "code",
   "execution_count": null,
   "metadata": {
    "collapsed": true
   },
   "outputs": [],
   "source": [
    "df_g = df.groupby(['sorted_matchup']).size().reset_index().rename(columns={0:'count'})"
   ]
  },
  {
   "cell_type": "code",
   "execution_count": null,
   "metadata": {
    "collapsed": true
   },
   "outputs": [],
   "source": [
    "df_g.head()"
   ]
  },
  {
   "cell_type": "code",
   "execution_count": null,
   "metadata": {
    "collapsed": true,
    "scrolled": false
   },
   "outputs": [],
   "source": [
    "#df.assign(result_mean = df.groupby(['home_team','away_team'])['result'].transform('mean')).sort_values('date').head()"
   ]
  },
  {
   "cell_type": "code",
   "execution_count": null,
   "metadata": {
    "collapsed": true
   },
   "outputs": [],
   "source": [
    "#df.assign(result_mean = df['result'].ewm(com = 0.5).mean()).head()"
   ]
  },
  {
   "cell_type": "code",
   "execution_count": null,
   "metadata": {
    "collapsed": true
   },
   "outputs": [],
   "source": [
    "#df.assign(result_mean = df.rolling(on = 'home_team', window = 2)['result'].mean()).head()"
   ]
  },
  {
   "cell_type": "code",
   "execution_count": null,
   "metadata": {
    "collapsed": true
   },
   "outputs": [],
   "source": [
    "matchups = {}\n",
    "matchup_idx = 0\n",
    "\n",
    "for idx, matchup in df_g.iterrows():\n",
    "    #if True:\n",
    "    if (matchup['sorted_matchup'] == 'Argentina|France'):\n",
    "        \n",
    "        temp_df = df[\\\n",
    "               #(df['date'] < matchup['date']) &\\\n",
    "               #(df['date'] > (matchup['date'] - timedelta(days = 10 * 365) ) ) &\\\n",
    "               df['sorted_matchup'] == matchup['sorted_matchup'] ]\n",
    "\n",
    "        \n",
    "        temp_df = temp_df.sort_values('date',ascending=True)\n",
    "        \n",
    "        temp_df['ewm'] = temp_df['result'].ewm(span = 2, min_periods = 0, ignore_na = False, adjust = True).mean()"
   ]
  },
  {
   "cell_type": "code",
   "execution_count": null,
   "metadata": {
    "collapsed": true
   },
   "outputs": [],
   "source": [
    "temp_df"
   ]
  },
  {
   "cell_type": "code",
   "execution_count": null,
   "metadata": {
    "collapsed": true
   },
   "outputs": [],
   "source": [
    "df.head()"
   ]
  },
  {
   "cell_type": "code",
   "execution_count": null,
   "metadata": {
    "collapsed": true
   },
   "outputs": [],
   "source": [
    "recency.info()"
   ]
  },
  {
   "cell_type": "code",
   "execution_count": null,
   "metadata": {
    "collapsed": true
   },
   "outputs": [],
   "source": [
    "df.info()"
   ]
  },
  {
   "cell_type": "code",
   "execution_count": null,
   "metadata": {
    "collapsed": true
   },
   "outputs": [],
   "source": []
  },
  {
   "cell_type": "code",
   "execution_count": null,
   "metadata": {
    "collapsed": true
   },
   "outputs": [],
   "source": [
    "temp_df.reset_index(inplace=True)"
   ]
  },
  {
   "cell_type": "code",
   "execution_count": null,
   "metadata": {
    "collapsed": true
   },
   "outputs": [],
   "source": [
    "plt.plot(temp_df['date'] , temp_df['result'] , '-x')\n",
    "plt.plot(temp_df['date'] , temp_df['ewm'] , '-x')"
   ]
  },
  {
   "cell_type": "code",
   "execution_count": null,
   "metadata": {
    "collapsed": true
   },
   "outputs": [],
   "source": []
  },
  {
   "cell_type": "code",
   "execution_count": null,
   "metadata": {
    "collapsed": true
   },
   "outputs": [],
   "source": [
    "df.resample(on = 'date', rule = '5Y', closed = 'right').apply('ewm')"
   ]
  },
  {
   "cell_type": "code",
   "execution_count": null,
   "metadata": {
    "collapsed": true
   },
   "outputs": [],
   "source": [
    "def ExpMovingAverage(values, window):\n",
    "    \"\"\" Numpy implementation of EMA\n",
    "    \"\"\"\n",
    "    weights = np.exp(np.linspace(-1., 0., window))\n",
    "    weights /= weights.sum()\n",
    "    a =  np.convolve(values, weights, mode='full')[:len(values)]\n",
    "    a[:window] = a[window]\n",
    "    return a"
   ]
  },
  {
   "cell_type": "code",
   "execution_count": null,
   "metadata": {
    "collapsed": true
   },
   "outputs": [],
   "source": [
    "df.set_index('date',drop = True, inplace=True)"
   ]
  },
  {
   "cell_type": "code",
   "execution_count": null,
   "metadata": {
    "collapsed": true
   },
   "outputs": [],
   "source": [
    "temp_df = pd.DataFrame()"
   ]
  },
  {
   "cell_type": "code",
   "execution_count": null,
   "metadata": {
    "collapsed": true
   },
   "outputs": [],
   "source": [
    "temp_df = temp_df.sort_values('date')\n"
   ]
  },
  {
   "cell_type": "code",
   "execution_count": null,
   "metadata": {
    "collapsed": true
   },
   "outputs": [],
   "source": [
    "temp_df = df[(df['home_team'] == 'Argentina') & (df['away_team'] == 'Brazil') ]"
   ]
  },
  {
   "cell_type": "code",
   "execution_count": null,
   "metadata": {
    "collapsed": true
   },
   "outputs": [],
   "source": [
    "temp_df.head()"
   ]
  },
  {
   "cell_type": "code",
   "execution_count": null,
   "metadata": {
    "collapsed": true
   },
   "outputs": [],
   "source": [
    "temp_df.info()"
   ]
  },
  {
   "cell_type": "code",
   "execution_count": null,
   "metadata": {
    "collapsed": true
   },
   "outputs": [],
   "source": [
    "temp_df['result'].rolling(4, win_types='triang').mean()"
   ]
  },
  {
   "cell_type": "code",
   "execution_count": null,
   "metadata": {
    "collapsed": true
   },
   "outputs": [],
   "source": [
    "import requests\n",
    "import json\n",
    "import time\n",
    "import urllib.request\n",
    "import pandas as pd\n",
    "import numpy as np\n",
    "\n",
    "def ExpMovingAverage(values, window):\n",
    "    weights = np.exp(np.linspace(0., 1., window))\n",
    "    weights /= weights.sum()\n",
    "    a =  np.convolve(values, weights, mode='full')[:len(values)]\n",
    "    a[:window] = a[window]\n",
    "    return a\n"
   ]
  },
  {
   "cell_type": "code",
   "execution_count": null,
   "metadata": {
    "collapsed": true
   },
   "outputs": [],
   "source": [
    "list(ExpMovingAverage([1,2,3,4,5,6,7,8,9], 3))"
   ]
  },
  {
   "cell_type": "code",
   "execution_count": null,
   "metadata": {
    "collapsed": true
   },
   "outputs": [],
   "source": [
    "plt.plot([1,2,3,4,5,6,7,8,9],list(ExpMovingAverage([1,2,3,4,5], 4)))"
   ]
  },
  {
   "cell_type": "code",
   "execution_count": null,
   "metadata": {
    "collapsed": true
   },
   "outputs": [],
   "source": []
  },
  {
   "cell_type": "code",
   "execution_count": null,
   "metadata": {
    "collapsed": true
   },
   "outputs": [],
   "source": [
    "weights = np.exp(np.linspace(-1, 0., 100000))\n",
    "weights2 = weights /  weights.sum()"
   ]
  },
  {
   "cell_type": "code",
   "execution_count": null,
   "metadata": {
    "collapsed": true
   },
   "outputs": [],
   "source": [
    "weights"
   ]
  },
  {
   "cell_type": "code",
   "execution_count": null,
   "metadata": {
    "collapsed": true
   },
   "outputs": [],
   "source": [
    "weights2"
   ]
  },
  {
   "cell_type": "code",
   "execution_count": null,
   "metadata": {
    "collapsed": true
   },
   "outputs": [],
   "source": [
    "weights.sum()"
   ]
  },
  {
   "cell_type": "code",
   "execution_count": null,
   "metadata": {
    "collapsed": true
   },
   "outputs": [],
   "source": [
    "plt.plot(weights)\n",
    "plt.plot(weights2)"
   ]
  },
  {
   "cell_type": "code",
   "execution_count": null,
   "metadata": {
    "collapsed": true
   },
   "outputs": [],
   "source": [
    "t.head()"
   ]
  },
  {
   "cell_type": "code",
   "execution_count": null,
   "metadata": {
    "collapsed": true
   },
   "outputs": [],
   "source": [
    "t = t.ewm(alpha = .1).mean()"
   ]
  },
  {
   "cell_type": "code",
   "execution_count": null,
   "metadata": {
    "collapsed": true
   },
   "outputs": [],
   "source": [
    "plt.plot(t)"
   ]
  },
  {
   "cell_type": "code",
   "execution_count": null,
   "metadata": {
    "collapsed": true
   },
   "outputs": [],
   "source": [
    "def calc_weight(days_ago):\n",
    "    weight = -1*(1/(days_ago-1))\n",
    "    return weight"
   ]
  },
  {
   "cell_type": "code",
   "execution_count": null,
   "metadata": {
    "collapsed": true
   },
   "outputs": [],
   "source": [
    "t = np.linspace(-10,-1,100)"
   ]
  },
  {
   "cell_type": "code",
   "execution_count": null,
   "metadata": {
    "collapsed": true
   },
   "outputs": [],
   "source": [
    "weights = np.apply_along_axis(calc_weight,-1,t)"
   ]
  },
  {
   "cell_type": "code",
   "execution_count": null,
   "metadata": {
    "collapsed": true
   },
   "outputs": [],
   "source": [
    "plt.plot(t,weights)"
   ]
  },
  {
   "cell_type": "code",
   "execution_count": null,
   "metadata": {
    "collapsed": true
   },
   "outputs": [],
   "source": []
  },
  {
   "cell_type": "code",
   "execution_count": null,
   "metadata": {
    "collapsed": true
   },
   "outputs": [],
   "source": []
  },
  {
   "cell_type": "code",
   "execution_count": null,
   "metadata": {
    "collapsed": true
   },
   "outputs": [],
   "source": []
  },
  {
   "cell_type": "code",
   "execution_count": null,
   "metadata": {
    "collapsed": true
   },
   "outputs": [],
   "source": []
  },
  {
   "cell_type": "code",
   "execution_count": null,
   "metadata": {
    "collapsed": true
   },
   "outputs": [],
   "source": [
    "# Recent record feature design"
   ]
  },
  {
   "cell_type": "code",
   "execution_count": null,
   "metadata": {
    "collapsed": true
   },
   "outputs": [],
   "source": [
    "df = pd.read_csv(\"data/team/new_intl_results.csv\")\n",
    "\n",
    "df.date = df.date.values.astype(\"datetime64\")\n",
    "\n",
    "#df.info()\n",
    "\n",
    "df['result'] = np.sign(df.home_score - df.away_score)\n",
    "\n",
    "df_home = pd.DataFrame(df, columns = ['date','home_team','tournament','result'], copy = True).rename(columns = {\"home_team\" : \"team\"})\n",
    "df_home['home'] = 1\n",
    "\n",
    "df_away = pd.DataFrame(df, columns = ['date','away_team','tournament'], copy = True).rename(columns = {\"away_team\" : \"team\"})\n",
    "df_away['result'] = df['result'] * - 1\n",
    "df_away['home'] = 0\n",
    "\n",
    "df_tall = df_home.append(df_away, sort = True)\n",
    "\n",
    "df_tall = df_tall.sort_values('date')\n",
    "\n",
    "df_tall.set_index('date',inplace=True,drop=True)\n",
    "\n",
    "print(len(df))\n",
    "print(len(df_tall))"
   ]
  },
  {
   "cell_type": "code",
   "execution_count": null,
   "metadata": {
    "collapsed": true
   },
   "outputs": [],
   "source": [
    "df_tall.head()"
   ]
  },
  {
   "cell_type": "code",
   "execution_count": null,
   "metadata": {
    "collapsed": true
   },
   "outputs": [],
   "source": [
    "overall_record_df = df_tall.groupby('team')['result'].apply(rwma)"
   ]
  },
  {
   "cell_type": "code",
   "execution_count": null,
   "metadata": {
    "collapsed": true
   },
   "outputs": [],
   "source": [
    "overall_record_df.reset_index(inplace=True)\n",
    "\n",
    "overall_record_df.drop(columns='level_1', inplace= True)\n",
    "\n",
    "overall_record_df.rwma = overall_record_df.rwma.fillna(0)"
   ]
  },
  {
   "cell_type": "code",
   "execution_count": null,
   "metadata": {
    "collapsed": true
   },
   "outputs": [],
   "source": [
    "overall_record_df.head(10)"
   ]
  },
  {
   "cell_type": "code",
   "execution_count": null,
   "metadata": {
    "collapsed": true
   },
   "outputs": [],
   "source": [
    "overall_record_df[overall_record_df['team'] == 'France']"
   ]
  },
  {
   "cell_type": "code",
   "execution_count": null,
   "metadata": {
    "collapsed": true
   },
   "outputs": [],
   "source": [
    "temp_df1 = overall_record_df[overall_record_df['team'] == 'Portugal']\n",
    "temp_df2 = overall_record_df[overall_record_df['team'] == 'USA']\n",
    "temp_df3 = recency[recency['sorted_matchup'] == 'Portugal|USA']\n",
    "\n",
    "plt.plot(temp_df1['date'], temp_df1['rwma'], label = '1')\n",
    "plt.plot(temp_df2['date'], temp_df2['rwma'], label = '2')\n",
    "plt.plot(temp_df3['date'], temp_df3['rwma'], label = '3')\n",
    "plt.legend()"
   ]
  },
  {
   "cell_type": "code",
   "execution_count": null,
   "metadata": {
    "collapsed": true
   },
   "outputs": [],
   "source": []
  }
 ],
 "metadata": {
  "kernelspec": {
   "display_name": "Python 3",
   "language": "python",
   "name": "python3"
  },
  "language_info": {
   "codemirror_mode": {
    "name": "ipython",
    "version": 3
   },
   "file_extension": ".py",
   "mimetype": "text/x-python",
   "name": "python",
   "nbconvert_exporter": "python",
   "pygments_lexer": "ipython3",
   "version": "3.6.5"
  }
 },
 "nbformat": 4,
 "nbformat_minor": 2
}

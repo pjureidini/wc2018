{
 "cells": [
  {
   "cell_type": "code",
   "execution_count": 5,
   "metadata": {
    "collapsed": true
   },
   "outputs": [],
   "source": [
    "import pandas as pd\n",
    "import numpy as np\n",
    "import seaborn as sns\n",
    "\n",
    "import matplotlib\n",
    "import matplotlib.pyplot as plt\n",
    "%matplotlib inline\n",
    "#import talib"
   ]
  },
  {
   "cell_type": "code",
   "execution_count": 6,
   "metadata": {
    "collapsed": true
   },
   "outputs": [],
   "source": [
    "# function to calculate rolling weighted moving average\n",
    "def rwma(group):\n",
    "    # perform the ewma\n",
    "    kwargs = dict(ignore_na=False, span=100, min_periods=0, adjust=True)\n",
    "    result = group.ewm(**kwargs).mean().shift().reset_index()\n",
    "    result.rename(columns={result.columns[-1]: 'rwma'}, inplace=True)\n",
    "    return result"
   ]
  },
  {
   "cell_type": "code",
   "execution_count": 7,
   "metadata": {},
   "outputs": [],
   "source": [
    "df = pd.read_csv(\"data/team/new_intl_results.csv\")"
   ]
  },
  {
   "cell_type": "code",
   "execution_count": 8,
   "metadata": {},
   "outputs": [
    {
     "data": {
      "text/html": [
       "<div>\n",
       "<style scoped>\n",
       "    .dataframe tbody tr th:only-of-type {\n",
       "        vertical-align: middle;\n",
       "    }\n",
       "\n",
       "    .dataframe tbody tr th {\n",
       "        vertical-align: top;\n",
       "    }\n",
       "\n",
       "    .dataframe thead th {\n",
       "        text-align: right;\n",
       "    }\n",
       "</style>\n",
       "<table border=\"1\" class=\"dataframe\">\n",
       "  <thead>\n",
       "    <tr style=\"text-align: right;\">\n",
       "      <th></th>\n",
       "      <th>date</th>\n",
       "      <th>home_team</th>\n",
       "      <th>away_team</th>\n",
       "      <th>home_score</th>\n",
       "      <th>away_score</th>\n",
       "      <th>tournament</th>\n",
       "      <th>city</th>\n",
       "      <th>country</th>\n",
       "      <th>neutral</th>\n",
       "    </tr>\n",
       "  </thead>\n",
       "  <tbody>\n",
       "    <tr>\n",
       "      <th>0</th>\n",
       "      <td>1872-11-30</td>\n",
       "      <td>Scotland</td>\n",
       "      <td>England</td>\n",
       "      <td>0</td>\n",
       "      <td>0</td>\n",
       "      <td>Friendly</td>\n",
       "      <td>Glasgow</td>\n",
       "      <td>Scotland</td>\n",
       "      <td>False</td>\n",
       "    </tr>\n",
       "    <tr>\n",
       "      <th>1</th>\n",
       "      <td>1873-03-08</td>\n",
       "      <td>England</td>\n",
       "      <td>Scotland</td>\n",
       "      <td>4</td>\n",
       "      <td>2</td>\n",
       "      <td>Friendly</td>\n",
       "      <td>London</td>\n",
       "      <td>England</td>\n",
       "      <td>False</td>\n",
       "    </tr>\n",
       "    <tr>\n",
       "      <th>2</th>\n",
       "      <td>1874-03-07</td>\n",
       "      <td>Scotland</td>\n",
       "      <td>England</td>\n",
       "      <td>2</td>\n",
       "      <td>1</td>\n",
       "      <td>Friendly</td>\n",
       "      <td>Glasgow</td>\n",
       "      <td>Scotland</td>\n",
       "      <td>False</td>\n",
       "    </tr>\n",
       "    <tr>\n",
       "      <th>3</th>\n",
       "      <td>1875-03-06</td>\n",
       "      <td>England</td>\n",
       "      <td>Scotland</td>\n",
       "      <td>2</td>\n",
       "      <td>2</td>\n",
       "      <td>Friendly</td>\n",
       "      <td>London</td>\n",
       "      <td>England</td>\n",
       "      <td>False</td>\n",
       "    </tr>\n",
       "    <tr>\n",
       "      <th>4</th>\n",
       "      <td>1876-03-04</td>\n",
       "      <td>Scotland</td>\n",
       "      <td>England</td>\n",
       "      <td>3</td>\n",
       "      <td>0</td>\n",
       "      <td>Friendly</td>\n",
       "      <td>Glasgow</td>\n",
       "      <td>Scotland</td>\n",
       "      <td>False</td>\n",
       "    </tr>\n",
       "  </tbody>\n",
       "</table>\n",
       "</div>"
      ],
      "text/plain": [
       "         date home_team away_team  home_score  away_score tournament     city  \\\n",
       "0  1872-11-30  Scotland   England           0           0   Friendly  Glasgow   \n",
       "1  1873-03-08   England  Scotland           4           2   Friendly   London   \n",
       "2  1874-03-07  Scotland   England           2           1   Friendly  Glasgow   \n",
       "3  1875-03-06   England  Scotland           2           2   Friendly   London   \n",
       "4  1876-03-04  Scotland   England           3           0   Friendly  Glasgow   \n",
       "\n",
       "    country  neutral  \n",
       "0  Scotland    False  \n",
       "1   England    False  \n",
       "2  Scotland    False  \n",
       "3   England    False  \n",
       "4  Scotland    False  "
      ]
     },
     "execution_count": 8,
     "metadata": {},
     "output_type": "execute_result"
    }
   ],
   "source": [
    "df.head()"
   ]
  },
  {
   "cell_type": "code",
   "execution_count": 9,
   "metadata": {
    "collapsed": true
   },
   "outputs": [],
   "source": [
    "df.date = df.date.values.astype(\"datetime64\")"
   ]
  },
  {
   "cell_type": "code",
   "execution_count": 10,
   "metadata": {
    "collapsed": true
   },
   "outputs": [],
   "source": [
    "df['year'] = pd.DatetimeIndex(df['date']).year"
   ]
  },
  {
   "cell_type": "code",
   "execution_count": 30,
   "metadata": {},
   "outputs": [
    {
     "data": {
      "image/png": "[encoded data removed]",
      "text/plain": [
       "<Figure size 720x360 with 1 Axes>"
      ]
     },
     "metadata": {},
     "output_type": "display_data"
    }
   ],
   "source": [
    "year_bins = np.linspace(min(df.year),max(df.year), max(df.year) - min(df.year) + 1)\n",
    "\n",
    "fig, ax = plt.subplots(1,1,figsize = (10,5))\n",
    "ax.hist(df['year'], bins = year_bins, alpha = 0.2, label = 'All macthes')\n",
    "ax.hist(df[df['tournament'] == 'Friendly']['year'], bins = year_bins, alpha = 0.2, label = 'Friendly')\n",
    "ax.set_xlabel('Year')\n",
    "ax.set_ylabel('Frequency')\n",
    "ax.set_title('Number of Matches per Year')\n",
    "ax.legend()\n",
    "plt.show()"
   ]
  },
  {
   "cell_type": "markdown",
   "metadata": {},
   "source": [
    "Two observations:\n",
    " - It looks like history is not quite available all the back to 1872. For feature engineering purposes, we will opt to only use matches after XYZ.\n",
    " - A high percentage of matches fall in the 'Friendly' category.  We will have to make a decision in terms of how to include these matches in our feature engineering process.\n"
   ]
  },
  {
   "cell_type": "code",
   "execution_count": 27,
   "metadata": {},
   "outputs": [],
   "source": [
    "start_date = min(df[df['year'] >= 1940]['date'])"
   ]
  },
  {
   "cell_type": "markdown",
   "metadata": {
    "collapsed": true
   },
   "source": [
    "Upon closer inspection, it looks like data is available from 1/10/2968 forward."
   ]
  },
  {
   "cell_type": "code",
   "execution_count": 29,
   "metadata": {},
   "outputs": [],
   "source": [
    "df = df[df['date'] >= start_date]"
   ]
  },
  {
   "cell_type": "code",
   "execution_count": 31,
   "metadata": {
    "collapsed": true
   },
   "outputs": [],
   "source": [
    "df = df.sort_values('date')"
   ]
  },
  {
   "cell_type": "code",
   "execution_count": 32,
   "metadata": {
    "collapsed": true
   },
   "outputs": [],
   "source": [
    "# result variable\n",
    "# constructed as follows:\n",
    "# 1 for win\n",
    "# 0 for draw\n",
    "# -1 for loss\n",
    "df['result'] = np.sign(df.home_score - df.away_score)\n",
    "\n",
    "# result_plus variable\n",
    "# result adjusted for venue\n",
    "# -0.5 penalty if result obtained on home soil\n",
    "# +0.5 reward if result obtained on opponent home soil \n",
    "# Note: no penalty if achieved on neutral field)\n",
    "df['result_plus'] = np.sign(df.home_score - df.away_score) - (0.50 * (df.neutral==False))"
   ]
  },
  {
   "cell_type": "code",
   "execution_count": 33,
   "metadata": {
    "collapsed": true
   },
   "outputs": [],
   "source": [
    "df['sorted_matchup'] = np.where(df['home_team'] < df['away_team'], \n",
    "                                df['home_team'] + '|' + df['away_team'],\n",
    "                                df['away_team'] + '|' + df['home_team'])\n",
    "\n",
    "\n",
    "df['sorted_result'] = np.where(df['home_team'] < df['away_team'], \n",
    "                                df['result'] ,\n",
    "                                -1 * df['result'])\n",
    "\n",
    "df['sorted_result_plus'] = np.where(df['home_team'] < df['away_team'], \n",
    "                                df['result_plus'] ,\n",
    "                                -1 * df['result_plus'] )"
   ]
  },
  {
   "cell_type": "code",
   "execution_count": 34,
   "metadata": {
    "scrolled": false
   },
   "outputs": [
    {
     "data": {
      "text/html": [
       "<div>\n",
       "<style scoped>\n",
       "    .dataframe tbody tr th:only-of-type {\n",
       "        vertical-align: middle;\n",
       "    }\n",
       "\n",
       "    .dataframe tbody tr th {\n",
       "        vertical-align: top;\n",
       "    }\n",
       "\n",
       "    .dataframe thead th {\n",
       "        text-align: right;\n",
       "    }\n",
       "</style>\n",
       "<table border=\"1\" class=\"dataframe\">\n",
       "  <thead>\n",
       "    <tr style=\"text-align: right;\">\n",
       "      <th></th>\n",
       "      <th>date</th>\n",
       "      <th>home_team</th>\n",
       "      <th>away_team</th>\n",
       "      <th>home_score</th>\n",
       "      <th>away_score</th>\n",
       "      <th>tournament</th>\n",
       "      <th>city</th>\n",
       "      <th>country</th>\n",
       "      <th>neutral</th>\n",
       "      <th>year</th>\n",
       "      <th>result</th>\n",
       "      <th>result_plus</th>\n",
       "      <th>sorted_matchup</th>\n",
       "      <th>sorted_result</th>\n",
       "      <th>sorted_result_plus</th>\n",
       "    </tr>\n",
       "  </thead>\n",
       "  <tbody>\n",
       "    <tr>\n",
       "      <th>472</th>\n",
       "      <td>1968-01-10</td>\n",
       "      <td>Israel</td>\n",
       "      <td>Belgium</td>\n",
       "      <td>0</td>\n",
       "      <td>2</td>\n",
       "      <td>Friendly</td>\n",
       "      <td>Jaffa</td>\n",
       "      <td>Israel</td>\n",
       "      <td>False</td>\n",
       "      <td>1968</td>\n",
       "      <td>-1</td>\n",
       "      <td>-1.5</td>\n",
       "      <td>Belgium|Israel</td>\n",
       "      <td>1</td>\n",
       "      <td>1.5</td>\n",
       "    </tr>\n",
       "    <tr>\n",
       "      <th>475</th>\n",
       "      <td>1968-01-12</td>\n",
       "      <td>Ethiopia</td>\n",
       "      <td>Uganda</td>\n",
       "      <td>2</td>\n",
       "      <td>1</td>\n",
       "      <td>African Cup of Nations</td>\n",
       "      <td>Addis Abeba</td>\n",
       "      <td>Ethiopia</td>\n",
       "      <td>False</td>\n",
       "      <td>1968</td>\n",
       "      <td>1</td>\n",
       "      <td>0.5</td>\n",
       "      <td>Ethiopia|Uganda</td>\n",
       "      <td>1</td>\n",
       "      <td>0.5</td>\n",
       "    </tr>\n",
       "    <tr>\n",
       "      <th>480</th>\n",
       "      <td>1968-01-14</td>\n",
       "      <td>Ethiopia</td>\n",
       "      <td>Ivory Coast</td>\n",
       "      <td>1</td>\n",
       "      <td>0</td>\n",
       "      <td>African Cup of Nations</td>\n",
       "      <td>Addis Abeba</td>\n",
       "      <td>Ethiopia</td>\n",
       "      <td>False</td>\n",
       "      <td>1968</td>\n",
       "      <td>1</td>\n",
       "      <td>0.5</td>\n",
       "      <td>Ethiopia|Ivory Coast</td>\n",
       "      <td>1</td>\n",
       "      <td>0.5</td>\n",
       "    </tr>\n",
       "    <tr>\n",
       "      <th>483</th>\n",
       "      <td>1968-01-16</td>\n",
       "      <td>Ethiopia</td>\n",
       "      <td>Algeria</td>\n",
       "      <td>3</td>\n",
       "      <td>1</td>\n",
       "      <td>African Cup of Nations</td>\n",
       "      <td>Addis Abeba</td>\n",
       "      <td>Ethiopia</td>\n",
       "      <td>False</td>\n",
       "      <td>1968</td>\n",
       "      <td>1</td>\n",
       "      <td>0.5</td>\n",
       "      <td>Algeria|Ethiopia</td>\n",
       "      <td>-1</td>\n",
       "      <td>-0.5</td>\n",
       "    </tr>\n",
       "    <tr>\n",
       "      <th>485</th>\n",
       "      <td>1968-01-19</td>\n",
       "      <td>Ethiopia</td>\n",
       "      <td>Congo DR</td>\n",
       "      <td>2</td>\n",
       "      <td>3</td>\n",
       "      <td>African Cup of Nations</td>\n",
       "      <td>Addis Abeba</td>\n",
       "      <td>Ethiopia</td>\n",
       "      <td>False</td>\n",
       "      <td>1968</td>\n",
       "      <td>-1</td>\n",
       "      <td>-1.5</td>\n",
       "      <td>Congo DR|Ethiopia</td>\n",
       "      <td>1</td>\n",
       "      <td>1.5</td>\n",
       "    </tr>\n",
       "  </tbody>\n",
       "</table>\n",
       "</div>"
      ],
      "text/plain": [
       "          date home_team    away_team  home_score  away_score  \\\n",
       "472 1968-01-10    Israel      Belgium           0           2   \n",
       "475 1968-01-12  Ethiopia       Uganda           2           1   \n",
       "480 1968-01-14  Ethiopia  Ivory Coast           1           0   \n",
       "483 1968-01-16  Ethiopia      Algeria           3           1   \n",
       "485 1968-01-19  Ethiopia     Congo DR           2           3   \n",
       "\n",
       "                 tournament         city   country  neutral  year  result  \\\n",
       "472                Friendly        Jaffa    Israel    False  1968      -1   \n",
       "475  African Cup of Nations  Addis Abeba  Ethiopia    False  1968       1   \n",
       "480  African Cup of Nations  Addis Abeba  Ethiopia    False  1968       1   \n",
       "483  African Cup of Nations  Addis Abeba  Ethiopia    False  1968       1   \n",
       "485  African Cup of Nations  Addis Abeba  Ethiopia    False  1968      -1   \n",
       "\n",
       "     result_plus        sorted_matchup  sorted_result  sorted_result_plus  \n",
       "472         -1.5        Belgium|Israel              1                 1.5  \n",
       "475          0.5       Ethiopia|Uganda              1                 0.5  \n",
       "480          0.5  Ethiopia|Ivory Coast              1                 0.5  \n",
       "483          0.5      Algeria|Ethiopia             -1                -0.5  \n",
       "485         -1.5     Congo DR|Ethiopia              1                 1.5  "
      ]
     },
     "execution_count": 34,
     "metadata": {},
     "output_type": "execute_result"
    }
   ],
   "source": [
    "df[df.neutral == False].head()"
   ]
  },
  {
   "cell_type": "code",
   "execution_count": null,
   "metadata": {
    "collapsed": true
   },
   "outputs": [],
   "source": [
    "df.set_index('date',inplace=True,drop=True)"
   ]
  },
  {
   "cell_type": "code",
   "execution_count": null,
   "metadata": {
    "collapsed": true
   },
   "outputs": [],
   "source": [
    "recency = df.groupby('sorted_matchup')['sorted_result_plus'].apply(rwma)"
   ]
  },
  {
   "cell_type": "code",
   "execution_count": null,
   "metadata": {
    "collapsed": true
   },
   "outputs": [],
   "source": [
    "recency.reset_index(inplace=True)"
   ]
  },
  {
   "cell_type": "code",
   "execution_count": null,
   "metadata": {
    "collapsed": true
   },
   "outputs": [],
   "source": [
    "recency['rwma'] = recency['rwma'].fillna(0)\n",
    "\n",
    "recency['srwma'] = np.sign(recency['rwma'])"
   ]
  },
  {
   "cell_type": "code",
   "execution_count": null,
   "metadata": {
    "collapsed": true
   },
   "outputs": [],
   "source": [
    "recency.head()"
   ]
  },
  {
   "cell_type": "code",
   "execution_count": null,
   "metadata": {
    "collapsed": true
   },
   "outputs": [],
   "source": [
    "recency.reset_index(inplace=True)"
   ]
  },
  {
   "cell_type": "code",
   "execution_count": null,
   "metadata": {
    "collapsed": true
   },
   "outputs": [],
   "source": [
    "temp_df3 = recency[recency['sorted_matchup'] == 'England|Scotland']"
   ]
  },
  {
   "cell_type": "code",
   "execution_count": null,
   "metadata": {
    "collapsed": true
   },
   "outputs": [],
   "source": [
    "temp_df3 = recency[recency['sorted_matchup'] == 'England|Scotland'].reset_index()"
   ]
  },
  {
   "cell_type": "code",
   "execution_count": null,
   "metadata": {
    "collapsed": true
   },
   "outputs": [],
   "source": []
  },
  {
   "cell_type": "code",
   "execution_count": null,
   "metadata": {
    "collapsed": true
   },
   "outputs": [],
   "source": [
    "temp_df2"
   ]
  },
  {
   "cell_type": "code",
   "execution_count": null,
   "metadata": {
    "collapsed": true
   },
   "outputs": [],
   "source": [
    "plt.plot(temp_df['date'] , temp_df['sorted_result'] , '-x', label = 'res')\n",
    "plt.plot(temp_df['date'] , temp_df['sorted_result_plus'] , '-x', label = 'srp')\n",
    "plt.plot(temp_df2['date'] , temp_df2['srwma'] , '-x', label = 'rwma')\n",
    "\n",
    "plt.legend()"
   ]
  },
  {
   "cell_type": "code",
   "execution_count": null,
   "metadata": {
    "collapsed": true
   },
   "outputs": [],
   "source": [
    "from sklearn.linear_model import LogisticRegression\n",
    "from sklearn.linear_model import LogisticRegressionCV\n",
    "from sklearn.model_selection import cross_val_score\n",
    "\n",
    "df.reset_index(inplace = True)\n",
    "\n",
    "recency_redux = recency[recency['date'] >= '2010-01-01']\n",
    "df_redux = df[df['date'] >= '2010-01-01']"
   ]
  },
  {
   "cell_type": "code",
   "execution_count": null,
   "metadata": {
    "collapsed": true
   },
   "outputs": [],
   "source": [
    "x_train.shape"
   ]
  },
  {
   "cell_type": "code",
   "execution_count": null,
   "metadata": {
    "collapsed": true
   },
   "outputs": [],
   "source": [
    "y_train.shape"
   ]
  },
  {
   "cell_type": "code",
   "execution_count": null,
   "metadata": {
    "collapsed": true
   },
   "outputs": [],
   "source": [
    "x_train = recency[['rwma']]\n",
    "y_train = df['sorted_result']+1"
   ]
  },
  {
   "cell_type": "code",
   "execution_count": null,
   "metadata": {
    "collapsed": true
   },
   "outputs": [],
   "source": [
    "# fit logistic regression\n",
    "simple_logistic_model = LogisticRegressionCV(multi_class = 'ovr', cv=5, penalty='l2')\n",
    "simple_logistic_model.fit(x_train, y_train)\n",
    "print('Logistic Regression Train Score: ',simple_logistic_model.score(x_train, y_train))\n",
    "print('Logistic Regression CV Train Score: ',cross_val_score(simple_logistic_model, x_train, y_train, cv=5).mean())"
   ]
  },
  {
   "cell_type": "code",
   "execution_count": null,
   "metadata": {
    "collapsed": true
   },
   "outputs": [],
   "source": []
  },
  {
   "cell_type": "code",
   "execution_count": null,
   "metadata": {
    "collapsed": true
   },
   "outputs": [],
   "source": []
  },
  {
   "cell_type": "code",
   "execution_count": null,
   "metadata": {
    "collapsed": true
   },
   "outputs": [],
   "source": []
  },
  {
   "cell_type": "code",
   "execution_count": null,
   "metadata": {
    "collapsed": true
   },
   "outputs": [],
   "source": [
    "df_g = df.groupby(['sorted_matchup']).size().reset_index().rename(columns={0:'count'})"
   ]
  },
  {
   "cell_type": "code",
   "execution_count": null,
   "metadata": {
    "collapsed": true
   },
   "outputs": [],
   "source": [
    "df_g.head()"
   ]
  },
  {
   "cell_type": "code",
   "execution_count": null,
   "metadata": {
    "collapsed": true,
    "scrolled": false
   },
   "outputs": [],
   "source": [
    "#df.assign(result_mean = df.groupby(['home_team','away_team'])['result'].transform('mean')).sort_values('date').head()"
   ]
  },
  {
   "cell_type": "code",
   "execution_count": null,
   "metadata": {
    "collapsed": true
   },
   "outputs": [],
   "source": [
    "#df.assign(result_mean = df['result'].ewm(com = 0.5).mean()).head()"
   ]
  },
  {
   "cell_type": "code",
   "execution_count": null,
   "metadata": {
    "collapsed": true
   },
   "outputs": [],
   "source": [
    "#df.assign(result_mean = df.rolling(on = 'home_team', window = 2)['result'].mean()).head()"
   ]
  },
  {
   "cell_type": "code",
   "execution_count": null,
   "metadata": {
    "collapsed": true
   },
   "outputs": [],
   "source": [
    "matchups = {}\n",
    "matchup_idx = 0\n",
    "\n",
    "for idx, matchup in df_g.iterrows():\n",
    "    #if True:\n",
    "    if (matchup['sorted_matchup'] == 'Argentina|France'):\n",
    "        \n",
    "        temp_df = df[\\\n",
    "               #(df['date'] < matchup['date']) &\\\n",
    "               #(df['date'] > (matchup['date'] - timedelta(days = 10 * 365) ) ) &\\\n",
    "               df['sorted_matchup'] == matchup['sorted_matchup'] ]\n",
    "\n",
    "        \n",
    "        temp_df = temp_df.sort_values('date',ascending=True)\n",
    "        \n",
    "        temp_df['ewm'] = temp_df['result'].ewm(span = 2, min_periods = 0, ignore_na = False, adjust = True).mean()"
   ]
  },
  {
   "cell_type": "code",
   "execution_count": null,
   "metadata": {
    "collapsed": true
   },
   "outputs": [],
   "source": [
    "temp_df"
   ]
  },
  {
   "cell_type": "code",
   "execution_count": null,
   "metadata": {
    "collapsed": true
   },
   "outputs": [],
   "source": [
    "df.head()"
   ]
  },
  {
   "cell_type": "code",
   "execution_count": null,
   "metadata": {
    "collapsed": true
   },
   "outputs": [],
   "source": [
    "recency.info()"
   ]
  },
  {
   "cell_type": "code",
   "execution_count": null,
   "metadata": {
    "collapsed": true
   },
   "outputs": [],
   "source": [
    "df.info()"
   ]
  },
  {
   "cell_type": "code",
   "execution_count": null,
   "metadata": {
    "collapsed": true
   },
   "outputs": [],
   "source": []
  },
  {
   "cell_type": "code",
   "execution_count": null,
   "metadata": {
    "collapsed": true
   },
   "outputs": [],
   "source": [
    "temp_df.reset_index(inplace=True)"
   ]
  },
  {
   "cell_type": "code",
   "execution_count": null,
   "metadata": {
    "collapsed": true
   },
   "outputs": [],
   "source": [
    "plt.plot(temp_df['date'] , temp_df['result'] , '-x')\n",
    "plt.plot(temp_df['date'] , temp_df['ewm'] , '-x')"
   ]
  },
  {
   "cell_type": "code",
   "execution_count": null,
   "metadata": {
    "collapsed": true
   },
   "outputs": [],
   "source": []
  },
  {
   "cell_type": "code",
   "execution_count": null,
   "metadata": {
    "collapsed": true
   },
   "outputs": [],
   "source": [
    "df.resample(on = 'date', rule = '5Y', closed = 'right').apply('ewm')"
   ]
  },
  {
   "cell_type": "code",
   "execution_count": null,
   "metadata": {
    "collapsed": true
   },
   "outputs": [],
   "source": [
    "def ExpMovingAverage(values, window):\n",
    "    \"\"\" Numpy implementation of EMA\n",
    "    \"\"\"\n",
    "    weights = np.exp(np.linspace(-1., 0., window))\n",
    "    weights /= weights.sum()\n",
    "    a =  np.convolve(values, weights, mode='full')[:len(values)]\n",
    "    a[:window] = a[window]\n",
    "    return a"
   ]
  },
  {
   "cell_type": "code",
   "execution_count": null,
   "metadata": {
    "collapsed": true
   },
   "outputs": [],
   "source": [
    "df.set_index('date',drop = True, inplace=True)"
   ]
  },
  {
   "cell_type": "code",
   "execution_count": null,
   "metadata": {
    "collapsed": true
   },
   "outputs": [],
   "source": [
    "temp_df = pd.DataFrame()"
   ]
  },
  {
   "cell_type": "code",
   "execution_count": null,
   "metadata": {
    "collapsed": true
   },
   "outputs": [],
   "source": [
    "temp_df = temp_df.sort_values('date')\n"
   ]
  },
  {
   "cell_type": "code",
   "execution_count": null,
   "metadata": {
    "collapsed": true
   },
   "outputs": [],
   "source": [
    "temp_df = df[(df['home_team'] == 'Argentina') & (df['away_team'] == 'Brazil') ]"
   ]
  },
  {
   "cell_type": "code",
   "execution_count": null,
   "metadata": {
    "collapsed": true
   },
   "outputs": [],
   "source": [
    "temp_df.head()"
   ]
  },
  {
   "cell_type": "code",
   "execution_count": null,
   "metadata": {
    "collapsed": true
   },
   "outputs": [],
   "source": [
    "temp_df.info()"
   ]
  },
  {
   "cell_type": "code",
   "execution_count": null,
   "metadata": {
    "collapsed": true
   },
   "outputs": [],
   "source": [
    "temp_df['result'].rolling(4, win_types='triang').mean()"
   ]
  },
  {
   "cell_type": "code",
   "execution_count": null,
   "metadata": {
    "collapsed": true
   },
   "outputs": [],
   "source": [
    "import requests\n",
    "import json\n",
    "import time\n",
    "import urllib.request\n",
    "import pandas as pd\n",
    "import numpy as np\n",
    "\n",
    "def ExpMovingAverage(values, window):\n",
    "    weights = np.exp(np.linspace(0., 1., window))\n",
    "    weights /= weights.sum()\n",
    "    a =  np.convolve(values, weights, mode='full')[:len(values)]\n",
    "    a[:window] = a[window]\n",
    "    return a\n"
   ]
  },
  {
   "cell_type": "code",
   "execution_count": null,
   "metadata": {
    "collapsed": true
   },
   "outputs": [],
   "source": [
    "list(ExpMovingAverage([1,2,3,4,5,6,7,8,9], 3))"
   ]
  },
  {
   "cell_type": "code",
   "execution_count": null,
   "metadata": {
    "collapsed": true
   },
   "outputs": [],
   "source": [
    "plt.plot([1,2,3,4,5,6,7,8,9],list(ExpMovingAverage([1,2,3,4,5], 4)))"
   ]
  },
  {
   "cell_type": "code",
   "execution_count": null,
   "metadata": {
    "collapsed": true
   },
   "outputs": [],
   "source": []
  },
  {
   "cell_type": "code",
   "execution_count": null,
   "metadata": {
    "collapsed": true
   },
   "outputs": [],
   "source": [
    "weights = np.exp(np.linspace(-1, 0., 100000))\n",
    "weights2 = weights /  weights.sum()"
   ]
  },
  {
   "cell_type": "code",
   "execution_count": null,
   "metadata": {
    "collapsed": true
   },
   "outputs": [],
   "source": [
    "weights"
   ]
  },
  {
   "cell_type": "code",
   "execution_count": null,
   "metadata": {
    "collapsed": true
   },
   "outputs": [],
   "source": [
    "weights2"
   ]
  },
  {
   "cell_type": "code",
   "execution_count": null,
   "metadata": {
    "collapsed": true
   },
   "outputs": [],
   "source": [
    "weights.sum()"
   ]
  },
  {
   "cell_type": "code",
   "execution_count": null,
   "metadata": {
    "collapsed": true
   },
   "outputs": [],
   "source": [
    "plt.plot(weights)\n",
    "plt.plot(weights2)"
   ]
  },
  {
   "cell_type": "code",
   "execution_count": null,
   "metadata": {
    "collapsed": true
   },
   "outputs": [],
   "source": [
    "t.head()"
   ]
  },
  {
   "cell_type": "code",
   "execution_count": null,
   "metadata": {
    "collapsed": true
   },
   "outputs": [],
   "source": [
    "t = t.ewm(alpha = .1).mean()"
   ]
  },
  {
   "cell_type": "code",
   "execution_count": null,
   "metadata": {
    "collapsed": true
   },
   "outputs": [],
   "source": [
    "plt.plot(t)"
   ]
  },
  {
   "cell_type": "code",
   "execution_count": null,
   "metadata": {
    "collapsed": true
   },
   "outputs": [],
   "source": [
    "def calc_weight(days_ago):\n",
    "    weight = -1*(1/(days_ago-1))\n",
    "    return weight"
   ]
  },
  {
   "cell_type": "code",
   "execution_count": null,
   "metadata": {
    "collapsed": true
   },
   "outputs": [],
   "source": [
    "t = np.linspace(-10,-1,100)"
   ]
  },
  {
   "cell_type": "code",
   "execution_count": null,
   "metadata": {
    "collapsed": true
   },
   "outputs": [],
   "source": [
    "weights = np.apply_along_axis(calc_weight,-1,t)"
   ]
  },
  {
   "cell_type": "code",
   "execution_count": null,
   "metadata": {
    "collapsed": true
   },
   "outputs": [],
   "source": [
    "plt.plot(t,weights)"
   ]
  },
  {
   "cell_type": "code",
   "execution_count": null,
   "metadata": {
    "collapsed": true
   },
   "outputs": [],
   "source": []
  },
  {
   "cell_type": "code",
   "execution_count": null,
   "metadata": {
    "collapsed": true
   },
   "outputs": [],
   "source": []
  },
  {
   "cell_type": "code",
   "execution_count": null,
   "metadata": {
    "collapsed": true
   },
   "outputs": [],
   "source": []
  },
  {
   "cell_type": "code",
   "execution_count": null,
   "metadata": {
    "collapsed": true
   },
   "outputs": [],
   "source": []
  },
  {
   "cell_type": "code",
   "execution_count": null,
   "metadata": {
    "collapsed": true
   },
   "outputs": [],
   "source": [
    "# Recent record feature design"
   ]
  },
  {
   "cell_type": "code",
   "execution_count": null,
   "metadata": {
    "collapsed": true
   },
   "outputs": [],
   "source": [
    "df = pd.read_csv(\"data/team/new_intl_results.csv\")\n",
    "\n",
    "df.date = df.date.values.astype(\"datetime64\")\n",
    "\n",
    "#df.info()\n",
    "\n",
    "df['result'] = np.sign(df.home_score - df.away_score)\n",
    "\n",
    "df_home = pd.DataFrame(df, columns = ['date','home_team','tournament','result'], copy = True).rename(columns = {\"home_team\" : \"team\"})\n",
    "df_home['home'] = 1\n",
    "\n",
    "df_away = pd.DataFrame(df, columns = ['date','away_team','tournament'], copy = True).rename(columns = {\"away_team\" : \"team\"})\n",
    "df_away['result'] = df['result'] * - 1\n",
    "df_away['home'] = 0\n",
    "\n",
    "df_tall = df_home.append(df_away, sort = True)\n",
    "\n",
    "df_tall = df_tall.sort_values('date')\n",
    "\n",
    "df_tall.set_index('date',inplace=True,drop=True)\n",
    "\n",
    "print(len(df))\n",
    "print(len(df_tall))"
   ]
  },
  {
   "cell_type": "code",
   "execution_count": null,
   "metadata": {
    "collapsed": true
   },
   "outputs": [],
   "source": [
    "df_tall.head()"
   ]
  },
  {
   "cell_type": "code",
   "execution_count": null,
   "metadata": {
    "collapsed": true
   },
   "outputs": [],
   "source": [
    "overall_record_df = df_tall.groupby('team')['result'].apply(rwma)"
   ]
  },
  {
   "cell_type": "code",
   "execution_count": null,
   "metadata": {
    "collapsed": true
   },
   "outputs": [],
   "source": [
    "overall_record_df.reset_index(inplace=True)\n",
    "\n",
    "overall_record_df.drop(columns='level_1', inplace= True)\n",
    "\n",
    "overall_record_df.rwma = overall_record_df.rwma.fillna(0)"
   ]
  },
  {
   "cell_type": "code",
   "execution_count": null,
   "metadata": {
    "collapsed": true
   },
   "outputs": [],
   "source": [
    "overall_record_df.head(10)"
   ]
  },
  {
   "cell_type": "code",
   "execution_count": null,
   "metadata": {
    "collapsed": true
   },
   "outputs": [],
   "source": [
    "overall_record_df[overall_record_df['team'] == 'France']"
   ]
  },
  {
   "cell_type": "code",
   "execution_count": null,
   "metadata": {
    "collapsed": true
   },
   "outputs": [],
   "source": [
    "temp_df1 = overall_record_df[overall_record_df['team'] == 'Portugal']\n",
    "temp_df2 = overall_record_df[overall_record_df['team'] == 'USA']\n",
    "temp_df3 = recency[recency['sorted_matchup'] == 'Portugal|USA']\n",
    "\n",
    "plt.plot(temp_df1['date'], temp_df1['rwma'], label = '1')\n",
    "plt.plot(temp_df2['date'], temp_df2['rwma'], label = '2')\n",
    "plt.plot(temp_df3['date'], temp_df3['rwma'], label = '3')\n",
    "plt.legend()"
   ]
  },
  {
   "cell_type": "code",
   "execution_count": null,
   "metadata": {
    "collapsed": true
   },
   "outputs": [],
   "source": []
  }
 ],
 "metadata": {
  "kernelspec": {
   "display_name": "Python 3",
   "language": "python",
   "name": "python3"
  },
  "language_info": {
   "codemirror_mode": {
    "name": "ipython",
    "version": 3
   },
   "file_extension": ".py",
   "mimetype": "text/x-python",
   "name": "python",
   "nbconvert_exporter": "python",
   "pygments_lexer": "ipython3",
   "version": "3.6.5"
  }
 },
 "nbformat": 4,
 "nbformat_minor": 2
}

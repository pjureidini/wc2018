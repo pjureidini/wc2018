{
 "cells": [
  {
   "cell_type": "markdown",
   "metadata": {},
   "source": [
    "# <img style=\"float: left; padding-right: 10px; width: 45px\" src=\"https://raw.githubusercontent.com/Harvard-IACS/2018-CS109A/master/content/styles/iacs.png\"> CS-109A Introduction to Data Science\n",
    "\n",
    "\n",
    "\n",
    "## Group #20: Final Project - World Cup Predictions \n",
    "\n",
    "**Harvard University**<br>\n",
    "**Fall 2018**<br>"
   ]
  },
  {
   "cell_type": "markdown",
   "metadata": {},
   "source": [
    "# Feature Engineering"
   ]
  },
  {
   "cell_type": "markdown",
   "metadata": {},
   "source": [
    "## 1 - Notebook Configuration"
   ]
  },
  {
   "cell_type": "code",
   "execution_count": 1,
   "metadata": {},
   "outputs": [],
   "source": [
    "import pandas as pd\n",
    "import numpy as np\n",
    "\n",
    "from sklearn.linear_model import LogisticRegressionCV\n",
    "from sklearn.discriminant_analysis import LinearDiscriminantAnalysis\n",
    "from sklearn.discriminant_analysis import QuadraticDiscriminantAnalysis\n",
    "\n",
    "from sklearn.model_selection import cross_val_score\n",
    "\n",
    "import matplotlib\n",
    "import matplotlib.pyplot as plt\n",
    "import seaborn as sns\n",
    "\n",
    "# display preferences\n",
    "%matplotlib inline\n",
    "#from IPython.core.display import display, HTML\n",
    "#display(HTML(\"<style>.container { width:100% !important; }</style>\"))"
   ]
  },
  {
   "cell_type": "markdown",
   "metadata": {},
   "source": [
    "## 2 - Custom Functions"
   ]
  },
  {
   "cell_type": "code",
   "execution_count": 2,
   "metadata": {
    "collapsed": true
   },
   "outputs": [],
   "source": [
    "# function to calculate rolling exponentioally weighted moving average\n",
    "def rwma(group, min_periods, span):\n",
    "    # perform the ewma\n",
    "    kwargs = dict(ignore_na=False, span=span, min_periods=min_periods, adjust=True)\n",
    "    result = group.ewm(**kwargs).mean().shift().reset_index()\n",
    "    result.rename(columns={result.columns[-1]: 'rwma'}, inplace=True)\n",
    "    return result"
   ]
  },
  {
   "cell_type": "code",
   "execution_count": 3,
   "metadata": {
    "collapsed": true
   },
   "outputs": [],
   "source": [
    "# function to calculate rolling weighted moving average\n",
    "def rmean(group,min_periods):\n",
    "    # perform the mean\n",
    "    kwargs = dict(window='3650d', min_periods=min_periods, win_type=None)\n",
    "    result = group.rolling(**kwargs).mean().shift().reset_index()\n",
    "    result.rename(columns={result.columns[-1]: 'rmean'}, inplace=True)\n",
    "    return result"
   ]
  },
  {
   "cell_type": "markdown",
   "metadata": {},
   "source": [
    "## 3 - Load Data, Examine and Prep"
   ]
  },
  {
   "cell_type": "code",
   "execution_count": 4,
   "metadata": {},
   "outputs": [],
   "source": [
    "df = pd.read_csv(\"data/team/new_intl_results.csv\")"
   ]
  },
  {
   "cell_type": "code",
   "execution_count": 5,
   "metadata": {
    "collapsed": true
   },
   "outputs": [],
   "source": [
    "# note: some teams played twice on certain dates (e.g. Chile on 5/30/2010)"
   ]
  },
  {
   "cell_type": "code",
   "execution_count": 6,
   "metadata": {},
   "outputs": [
    {
     "data": {
      "text/html": [
       "<div>\n",
       "<style scoped>\n",
       "    .dataframe tbody tr th:only-of-type {\n",
       "        vertical-align: middle;\n",
       "    }\n",
       "\n",
       "    .dataframe tbody tr th {\n",
       "        vertical-align: top;\n",
       "    }\n",
       "\n",
       "    .dataframe thead th {\n",
       "        text-align: right;\n",
       "    }\n",
       "</style>\n",
       "<table border=\"1\" class=\"dataframe\">\n",
       "  <thead>\n",
       "    <tr style=\"text-align: right;\">\n",
       "      <th></th>\n",
       "      <th>date</th>\n",
       "      <th>home_team</th>\n",
       "      <th>away_team</th>\n",
       "      <th>home_score</th>\n",
       "      <th>away_score</th>\n",
       "      <th>tournament</th>\n",
       "      <th>city</th>\n",
       "      <th>country</th>\n",
       "      <th>neutral</th>\n",
       "    </tr>\n",
       "  </thead>\n",
       "  <tbody>\n",
       "    <tr>\n",
       "      <th>0</th>\n",
       "      <td>1872-11-30 00:00:00</td>\n",
       "      <td>Scotland</td>\n",
       "      <td>England</td>\n",
       "      <td>0</td>\n",
       "      <td>0</td>\n",
       "      <td>Friendly</td>\n",
       "      <td>Glasgow</td>\n",
       "      <td>Scotland</td>\n",
       "      <td>False</td>\n",
       "    </tr>\n",
       "    <tr>\n",
       "      <th>1</th>\n",
       "      <td>1873-03-08 00:00:00</td>\n",
       "      <td>England</td>\n",
       "      <td>Scotland</td>\n",
       "      <td>4</td>\n",
       "      <td>2</td>\n",
       "      <td>Friendly</td>\n",
       "      <td>London</td>\n",
       "      <td>England</td>\n",
       "      <td>False</td>\n",
       "    </tr>\n",
       "    <tr>\n",
       "      <th>2</th>\n",
       "      <td>1874-03-07 00:00:00</td>\n",
       "      <td>Scotland</td>\n",
       "      <td>England</td>\n",
       "      <td>2</td>\n",
       "      <td>1</td>\n",
       "      <td>Friendly</td>\n",
       "      <td>Glasgow</td>\n",
       "      <td>Scotland</td>\n",
       "      <td>False</td>\n",
       "    </tr>\n",
       "    <tr>\n",
       "      <th>3</th>\n",
       "      <td>1875-03-06 00:00:00</td>\n",
       "      <td>England</td>\n",
       "      <td>Scotland</td>\n",
       "      <td>2</td>\n",
       "      <td>2</td>\n",
       "      <td>Friendly</td>\n",
       "      <td>London</td>\n",
       "      <td>England</td>\n",
       "      <td>False</td>\n",
       "    </tr>\n",
       "    <tr>\n",
       "      <th>4</th>\n",
       "      <td>1876-03-04 00:00:00</td>\n",
       "      <td>Scotland</td>\n",
       "      <td>England</td>\n",
       "      <td>3</td>\n",
       "      <td>0</td>\n",
       "      <td>Friendly</td>\n",
       "      <td>Glasgow</td>\n",
       "      <td>Scotland</td>\n",
       "      <td>False</td>\n",
       "    </tr>\n",
       "  </tbody>\n",
       "</table>\n",
       "</div>"
      ],
      "text/plain": [
       "                  date home_team away_team  home_score  away_score tournament  \\\n",
       "0  1872-11-30 00:00:00  Scotland   England           0           0   Friendly   \n",
       "1  1873-03-08 00:00:00   England  Scotland           4           2   Friendly   \n",
       "2  1874-03-07 00:00:00  Scotland   England           2           1   Friendly   \n",
       "3  1875-03-06 00:00:00   England  Scotland           2           2   Friendly   \n",
       "4  1876-03-04 00:00:00  Scotland   England           3           0   Friendly   \n",
       "\n",
       "      city   country  neutral  \n",
       "0  Glasgow  Scotland    False  \n",
       "1   London   England    False  \n",
       "2  Glasgow  Scotland    False  \n",
       "3   London   England    False  \n",
       "4  Glasgow  Scotland    False  "
      ]
     },
     "execution_count": 6,
     "metadata": {},
     "output_type": "execute_result"
    }
   ],
   "source": [
    "df.head()"
   ]
  },
  {
   "cell_type": "code",
   "execution_count": 7,
   "metadata": {
    "collapsed": true
   },
   "outputs": [],
   "source": [
    "df.date = df.date.values.astype(\"datetime64\")\n",
    "df['year'] = pd.DatetimeIndex(df['date']).year"
   ]
  },
  {
   "cell_type": "code",
   "execution_count": 8,
   "metadata": {},
   "outputs": [
    {
     "data": {
      "image/png": "[encoded data removed]",
      "text/plain": [
       "<Figure size 720x360 with 1 Axes>"
      ]
     },
     "metadata": {},
     "output_type": "display_data"
    }
   ],
   "source": [
    "# create yearly bins for plotting\n",
    "year_bins = np.linspace(min(df.year),max(df.year), max(df.year) - min(df.year) + 1)\n",
    "\n",
    "fig, ax = plt.subplots(1,1,figsize = (10,5))\n",
    "ax.hist(df['year'], bins = year_bins, alpha = 0.2, label = 'All macthes')\n",
    "ax.hist(df[df['tournament'] == 'Friendly']['year'], bins = year_bins, alpha = 0.2, label = 'Friendly')\n",
    "ax.set_xlabel('Year')\n",
    "ax.set_ylabel('Frequency')\n",
    "ax.set_title('Number of Matches per Year')\n",
    "ax.legend()\n",
    "plt.show()"
   ]
  },
  {
   "cell_type": "code",
   "execution_count": 9,
   "metadata": {},
   "outputs": [
    {
     "data": {
      "image/png": "[encoded data removed]",
      "text/plain": [
       "<Figure size 720x360 with 1 Axes>"
      ]
     },
     "metadata": {},
     "output_type": "display_data"
    }
   ],
   "source": [
    "# create yearly bins for plotting\n",
    "year_bins = np.linspace(min(df.year),max(df.year), max(df.year) - min(df.year) + 1)\n",
    "\n",
    "fig, ax = plt.subplots(1,1,figsize = (10,5))\n",
    "ax.hist(df['year'], bins = year_bins, alpha = 0.2, label = 'All macthes')\n",
    "ax.hist(df[df['neutral'] == 0]['year'], bins = year_bins, alpha = 0.2, label = 'Neutral')\n",
    "ax.set_xlabel('Year')\n",
    "ax.set_ylabel('Frequency')\n",
    "ax.set_title('Number of Matches per Year')\n",
    "ax.legend()\n",
    "plt.show()"
   ]
  },
  {
   "cell_type": "code",
   "execution_count": 10,
   "metadata": {},
   "outputs": [],
   "source": [
    "# Find first available date after historical gap in dates\n",
    "#start_date = min(df[df['year'] >= 1940]['date'])\n",
    "#print('First date available after historical gap: {}'.format(start_date))"
   ]
  },
  {
   "cell_type": "markdown",
   "metadata": {},
   "source": [
    "Two observations:\n",
    " - REMOVE - It looks like history is not truly available all the back to 1872. For feature engineering purposes, we will opt to ignore soccer matches prior to 1/1/1968.\n",
    " - A high percentage of matches fall in the 'Friendly' category.  We will have to make a decision in terms of how to include these matches in our feature engineering process.  The decision will be made based on which approach (i.e. to include or not to include Friendlies) performs best.\n"
   ]
  },
  {
   "cell_type": "markdown",
   "metadata": {},
   "source": [
    "Let's remove the friendly matches from the dataset.  The friendly matches represent a high percentage of the data set, but friendly matches do not have the same stakes and therefore do not help us assess the true ability of teams."
   ]
  },
  {
   "cell_type": "code",
   "execution_count": 11,
   "metadata": {},
   "outputs": [],
   "source": [
    "# Exclude matches prior to 1/10/1968\n",
    "#df = df[df['date'] >= start_date]\n",
    "\n",
    "# Exclude Friendlies\n",
    "df = df[df['tournament'] != 'Friendly']"
   ]
  },
  {
   "cell_type": "markdown",
   "metadata": {},
   "source": [
    "## 4 - Create Intermediary Features"
   ]
  },
  {
   "cell_type": "markdown",
   "metadata": {},
   "source": [
    "### 4.1 Result"
   ]
  },
  {
   "cell_type": "code",
   "execution_count": 12,
   "metadata": {
    "collapsed": true
   },
   "outputs": [],
   "source": [
    "# result variable\n",
    "# constructed as follows:\n",
    "# 1 for win\n",
    "# 0 for draw\n",
    "# -1 for loss\n",
    "df['result'] = np.sign(df.home_score - df.away_score)"
   ]
  },
  {
   "cell_type": "markdown",
   "metadata": {},
   "source": [
    "### 4.2 Result-Plus"
   ]
  },
  {
   "cell_type": "code",
   "execution_count": 13,
   "metadata": {
    "collapsed": true
   },
   "outputs": [],
   "source": [
    "# result adjusted for venue\n",
    "# -0.5 penalty if result obtained on home soil\n",
    "# +0.5 reward if result obtained on opponent soil \n",
    "# Note: no penalty if achieved on neutral field)\n",
    "df['result_plus'] = np.sign(df.home_score - df.away_score) - (0.50 * (df.neutral==False))"
   ]
  },
  {
   "cell_type": "markdown",
   "metadata": {},
   "source": [
    "### 4.3 Sorted Match-Up"
   ]
  },
  {
   "cell_type": "code",
   "execution_count": 14,
   "metadata": {
    "collapsed": true
   },
   "outputs": [],
   "source": [
    "# Create a lookup value for all unique historical match-ups\n",
    "\n",
    "df['sorted_matchup'] = np.where(df['home_team'] < df['away_team'], \n",
    "                                df['home_team'] + '|' + df['away_team'],\n",
    "                                df['away_team'] + '|' + df['home_team'])"
   ]
  },
  {
   "cell_type": "markdown",
   "metadata": {},
   "source": [
    "### 4.4 Sorted Match-Up Result"
   ]
  },
  {
   "cell_type": "code",
   "execution_count": 15,
   "metadata": {
    "collapsed": true
   },
   "outputs": [],
   "source": [
    "# Store result of the sorted match up\n",
    "df['sorted_result'] = np.where(df['home_team'] < df['away_team'], \n",
    "                               df['result'] ,\n",
    "                               df['result'] * -1)"
   ]
  },
  {
   "cell_type": "markdown",
   "metadata": {},
   "source": [
    "### 4.5 Sorted Match-Up Result-Plus"
   ]
  },
  {
   "cell_type": "code",
   "execution_count": 16,
   "metadata": {
    "collapsed": true
   },
   "outputs": [],
   "source": [
    "# Store \"result plus\" for the sorted match up\n",
    "df['sorted_result_plus'] = np.where(df['home_team'] < df['away_team'], \n",
    "                                    df['result_plus'] ,\n",
    "                                    df['result_plus'] * -1)"
   ]
  },
  {
   "cell_type": "markdown",
   "metadata": {},
   "source": [
    "## 5 - Create Model Features"
   ]
  },
  {
   "cell_type": "markdown",
   "metadata": {},
   "source": [
    "Now that the required intermediary fearures have been created, we will go on to split our data set into training and testing subsets."
   ]
  },
  {
   "cell_type": "code",
   "execution_count": 17,
   "metadata": {
    "collapsed": true
   },
   "outputs": [],
   "source": [
    "df = df.sort_values('date')"
   ]
  },
  {
   "cell_type": "code",
   "execution_count": 18,
   "metadata": {
    "collapsed": true
   },
   "outputs": [],
   "source": [
    "# split the data features generated on the training dataset \n",
    "# will be copied over to test dataset later on\n",
    "\n",
    "train_df = df[df['date'] <= '2018-06-13']\n",
    "test_df = df[df['date'] > '2018-06-13']\n"
   ]
  },
  {
   "cell_type": "code",
   "execution_count": 19,
   "metadata": {
    "scrolled": false
   },
   "outputs": [],
   "source": [
    "#train_df[train_df.neutral == False].head()"
   ]
  },
  {
   "cell_type": "code",
   "execution_count": 20,
   "metadata": {
    "collapsed": true
   },
   "outputs": [],
   "source": [
    "train_df.set_index('date',inplace=True,drop=True)"
   ]
  },
  {
   "cell_type": "code",
   "execution_count": 21,
   "metadata": {},
   "outputs": [
    {
     "data": {
      "text/html": [
       "<div>\n",
       "<style scoped>\n",
       "    .dataframe tbody tr th:only-of-type {\n",
       "        vertical-align: middle;\n",
       "    }\n",
       "\n",
       "    .dataframe tbody tr th {\n",
       "        vertical-align: top;\n",
       "    }\n",
       "\n",
       "    .dataframe thead th {\n",
       "        text-align: right;\n",
       "    }\n",
       "</style>\n",
       "<table border=\"1\" class=\"dataframe\">\n",
       "  <thead>\n",
       "    <tr style=\"text-align: right;\">\n",
       "      <th></th>\n",
       "      <th>home_team</th>\n",
       "      <th>away_team</th>\n",
       "      <th>home_score</th>\n",
       "      <th>away_score</th>\n",
       "      <th>tournament</th>\n",
       "      <th>city</th>\n",
       "      <th>country</th>\n",
       "      <th>neutral</th>\n",
       "      <th>year</th>\n",
       "      <th>result</th>\n",
       "      <th>result_plus</th>\n",
       "      <th>sorted_matchup</th>\n",
       "      <th>sorted_result</th>\n",
       "      <th>sorted_result_plus</th>\n",
       "    </tr>\n",
       "    <tr>\n",
       "      <th>date</th>\n",
       "      <th></th>\n",
       "      <th></th>\n",
       "      <th></th>\n",
       "      <th></th>\n",
       "      <th></th>\n",
       "      <th></th>\n",
       "      <th></th>\n",
       "      <th></th>\n",
       "      <th></th>\n",
       "      <th></th>\n",
       "      <th></th>\n",
       "      <th></th>\n",
       "      <th></th>\n",
       "      <th></th>\n",
       "    </tr>\n",
       "  </thead>\n",
       "  <tbody>\n",
       "    <tr>\n",
       "      <th>1958-06-24</th>\n",
       "      <td>Brazil</td>\n",
       "      <td>France</td>\n",
       "      <td>5</td>\n",
       "      <td>2</td>\n",
       "      <td>FIFA World Cup</td>\n",
       "      <td>Solna</td>\n",
       "      <td>Sweden</td>\n",
       "      <td>True</td>\n",
       "      <td>1958</td>\n",
       "      <td>1</td>\n",
       "      <td>1.0</td>\n",
       "      <td>Brazil|France</td>\n",
       "      <td>1</td>\n",
       "      <td>1.0</td>\n",
       "    </tr>\n",
       "    <tr>\n",
       "      <th>1986-06-21</th>\n",
       "      <td>Brazil</td>\n",
       "      <td>France</td>\n",
       "      <td>1</td>\n",
       "      <td>1</td>\n",
       "      <td>FIFA World Cup</td>\n",
       "      <td>Guadalajara</td>\n",
       "      <td>Mexico</td>\n",
       "      <td>True</td>\n",
       "      <td>1986</td>\n",
       "      <td>0</td>\n",
       "      <td>0.0</td>\n",
       "      <td>Brazil|France</td>\n",
       "      <td>0</td>\n",
       "      <td>0.0</td>\n",
       "    </tr>\n",
       "    <tr>\n",
       "      <th>1997-06-03</th>\n",
       "      <td>France</td>\n",
       "      <td>Brazil</td>\n",
       "      <td>1</td>\n",
       "      <td>1</td>\n",
       "      <td>Tournoi de France</td>\n",
       "      <td>Lyon</td>\n",
       "      <td>France</td>\n",
       "      <td>False</td>\n",
       "      <td>1997</td>\n",
       "      <td>0</td>\n",
       "      <td>-0.5</td>\n",
       "      <td>Brazil|France</td>\n",
       "      <td>0</td>\n",
       "      <td>0.5</td>\n",
       "    </tr>\n",
       "    <tr>\n",
       "      <th>1998-07-12</th>\n",
       "      <td>France</td>\n",
       "      <td>Brazil</td>\n",
       "      <td>3</td>\n",
       "      <td>0</td>\n",
       "      <td>FIFA World Cup</td>\n",
       "      <td>Saint-Denis</td>\n",
       "      <td>France</td>\n",
       "      <td>False</td>\n",
       "      <td>1998</td>\n",
       "      <td>1</td>\n",
       "      <td>0.5</td>\n",
       "      <td>Brazil|France</td>\n",
       "      <td>-1</td>\n",
       "      <td>-0.5</td>\n",
       "    </tr>\n",
       "    <tr>\n",
       "      <th>2001-06-07</th>\n",
       "      <td>France</td>\n",
       "      <td>Brazil</td>\n",
       "      <td>2</td>\n",
       "      <td>1</td>\n",
       "      <td>Confederations Cup</td>\n",
       "      <td>Suwon</td>\n",
       "      <td>Korea Republic</td>\n",
       "      <td>True</td>\n",
       "      <td>2001</td>\n",
       "      <td>1</td>\n",
       "      <td>1.0</td>\n",
       "      <td>Brazil|France</td>\n",
       "      <td>-1</td>\n",
       "      <td>-1.0</td>\n",
       "    </tr>\n",
       "    <tr>\n",
       "      <th>2006-07-01</th>\n",
       "      <td>Brazil</td>\n",
       "      <td>France</td>\n",
       "      <td>0</td>\n",
       "      <td>1</td>\n",
       "      <td>FIFA World Cup</td>\n",
       "      <td>Frankfurt am Main</td>\n",
       "      <td>Germany</td>\n",
       "      <td>True</td>\n",
       "      <td>2006</td>\n",
       "      <td>-1</td>\n",
       "      <td>-1.0</td>\n",
       "      <td>Brazil|France</td>\n",
       "      <td>-1</td>\n",
       "      <td>-1.0</td>\n",
       "    </tr>\n",
       "  </tbody>\n",
       "</table>\n",
       "</div>"
      ],
      "text/plain": [
       "           home_team away_team  home_score  away_score          tournament  \\\n",
       "date                                                                         \n",
       "1958-06-24    Brazil    France           5           2      FIFA World Cup   \n",
       "1986-06-21    Brazil    France           1           1      FIFA World Cup   \n",
       "1997-06-03    France    Brazil           1           1   Tournoi de France   \n",
       "1998-07-12    France    Brazil           3           0      FIFA World Cup   \n",
       "2001-06-07    France    Brazil           2           1  Confederations Cup   \n",
       "2006-07-01    Brazil    France           0           1      FIFA World Cup   \n",
       "\n",
       "                         city         country  neutral  year  result  \\\n",
       "date                                                                   \n",
       "1958-06-24              Solna          Sweden     True  1958       1   \n",
       "1986-06-21        Guadalajara          Mexico     True  1986       0   \n",
       "1997-06-03               Lyon          France    False  1997       0   \n",
       "1998-07-12        Saint-Denis          France    False  1998       1   \n",
       "2001-06-07              Suwon  Korea Republic     True  2001       1   \n",
       "2006-07-01  Frankfurt am Main         Germany     True  2006      -1   \n",
       "\n",
       "            result_plus sorted_matchup  sorted_result  sorted_result_plus  \n",
       "date                                                                       \n",
       "1958-06-24          1.0  Brazil|France              1                 1.0  \n",
       "1986-06-21          0.0  Brazil|France              0                 0.0  \n",
       "1997-06-03         -0.5  Brazil|France              0                 0.5  \n",
       "1998-07-12          0.5  Brazil|France             -1                -0.5  \n",
       "2001-06-07          1.0  Brazil|France             -1                -1.0  \n",
       "2006-07-01         -1.0  Brazil|France             -1                -1.0  "
      ]
     },
     "execution_count": 21,
     "metadata": {},
     "output_type": "execute_result"
    }
   ],
   "source": [
    "# check output\n",
    "train_df[train_df['sorted_matchup'] == 'Brazil|France']"
   ]
  },
  {
   "cell_type": "markdown",
   "metadata": {},
   "source": [
    "### 5.1 - Historical Record vs Opponent"
   ]
  },
  {
   "cell_type": "markdown",
   "metadata": {},
   "source": [
    "Defintions:\n",
    " - **Historical Record vs Opponent:**\n",
    "     - **Variable Name**: hrvo_rwma\n",
    "     - **Description**: Lagging indicator of past performance vs opponent based on _results_ variable\n",
    "\n",
    "\n",
    "\n",
    " - **Historical Record vs Opponent \"Plus\":**\n",
    "     - **Variable Name**: hrvop_rwma\n",
    "     - **Description**: Lagging indicator of past performance vs opponent based on _results-plus_ variable"
   ]
  },
  {
   "cell_type": "markdown",
   "metadata": {},
   "source": [
    "### 5.1.1 - Generate Features"
   ]
  },
  {
   "cell_type": "code",
   "execution_count": 22,
   "metadata": {
    "collapsed": true
   },
   "outputs": [],
   "source": [
    "# create new dataframe (df_vs_oppo) to store rolling record vs opponent using custom rolling weighted average function (rwma)\n",
    "df_vs_oppo  = train_df.groupby('sorted_matchup')[['sorted_result','sorted_result_plus']].apply(rwma,0,5)\n",
    "\n",
    "train_df.reset_index(inplace=True)"
   ]
  },
  {
   "cell_type": "code",
   "execution_count": 23,
   "metadata": {},
   "outputs": [],
   "source": [
    "# rename columns, as group by generates undesirable column names\n",
    "df_vs_oppo = df_vs_oppo.rename(columns={'sorted_result':'hrvo_rwma', \n",
    "                                        'rwma':'hrvop_rwma' })\n",
    "\n",
    "df_vs_oppo.reset_index(inplace=True)\n",
    "\n",
    "df_vs_oppo = df_vs_oppo.drop(columns = 'level_1')\n",
    "\n",
    "# fill first match-up where values for sorted_result_rwma and sorted_result_plus_rwma will always be N/A with zeroes.\n",
    "df_vs_oppo['hrvo_rwma'] = df_vs_oppo['hrvo_rwma'].fillna(0)\n",
    "df_vs_oppo['hrvop_rwma'] = df_vs_oppo['hrvop_rwma'].fillna(0)"
   ]
  },
  {
   "cell_type": "markdown",
   "metadata": {},
   "source": [
    "### 5.1.2 - Examine Features"
   ]
  },
  {
   "cell_type": "markdown",
   "metadata": {},
   "source": [
    "Let's take a look at match results vs our newly engineered variables:"
   ]
  },
  {
   "cell_type": "code",
   "execution_count": 24,
   "metadata": {},
   "outputs": [
    {
     "data": {
      "image/png": "[encoded data removed]",
      "text/plain": [
       "<Figure size 1440x360 with 1 Axes>"
      ]
     },
     "metadata": {},
     "output_type": "display_data"
    }
   ],
   "source": [
    "temp_train_df = train_df[train_df['sorted_matchup'] == 'France|Spain']\n",
    "\n",
    "temp_df_vs_oppo = df_vs_oppo[df_vs_oppo['sorted_matchup'] == 'France|Spain']\n",
    "\n",
    "fig, ax = plt.subplots(1,1,figsize = (20,5))\n",
    "\n",
    "ax.plot(temp_train_df['date'] , temp_train_df['sorted_result'], 'o', label = 'sorted_result', alpha = 0.2, color = 'blue')\n",
    "ax.plot(temp_train_df['date'] , temp_train_df['sorted_result_plus'] , 'o', label = 'sorted_result_plus', alpha = 0.2, color = 'red')\n",
    "ax.plot(temp_df_vs_oppo['date'] , temp_df_vs_oppo['hrvo_rwma'] , '-', label = 'hrvo_rwma', alpha = 0.5, color = 'blue')\n",
    "ax.plot(temp_df_vs_oppo['date'] , temp_df_vs_oppo['hrvop_rwma'] , '-', label = 'hrvop_rwma', alpha = 0.5, color = 'red')\n",
    "ax.axhline(0, linestyle = '--', alpha = 0.2)\n",
    "\n",
    "ax.set_xlabel('Year')\n",
    "ax.set_ylabel('Match Results and Moving Averages')\n",
    "ax.set_title('Illustration of \"Historical Record vs Opponent\" Feature: Argentina vs. Brazil')\n",
    "\n",
    "ax.legend()\n",
    "plt.show()"
   ]
  },
  {
   "cell_type": "code",
   "execution_count": 25,
   "metadata": {
    "collapsed": true
   },
   "outputs": [],
   "source": [
    "pair_plot_df = train_df[['sorted_matchup', 'date','sorted_result','sorted_result_plus']].merge(df_vs_oppo[['sorted_matchup','date','hrvo_rwma','hrvop_rwma']], \n",
    "                  how = 'inner',\n",
    "                  left_on=['sorted_matchup','date'], \n",
    "                  right_on=['sorted_matchup','date'])"
   ]
  },
  {
   "cell_type": "code",
   "execution_count": 26,
   "metadata": {
    "scrolled": false
   },
   "outputs": [
    {
     "data": {
      "text/plain": [
       "<seaborn.axisgrid.PairGrid at 0x1a27f08588>"
      ]
     },
     "execution_count": 26,
     "metadata": {},
     "output_type": "execute_result"
    },
    {
     "data": {
      "image/png": "[encoded data removed]",
      "text/plain": [
       "<Figure size 433.375x360 with 6 Axes>"
      ]
     },
     "metadata": {},
     "output_type": "display_data"
    }
   ],
   "source": [
    "# Look at Argentina vs Brazil\n",
    "temp_pair_plot_df = pair_plot_df[pair_plot_df['sorted_matchup'] == 'Argentina|Brazil']\n",
    "sns.pairplot(temp_pair_plot_df, vars = ['hrvo_rwma' , 'hrvop_rwma'] , hue=\"sorted_result\")"
   ]
  },
  {
   "cell_type": "code",
   "execution_count": 27,
   "metadata": {},
   "outputs": [
    {
     "data": {
      "text/plain": [
       "<seaborn.axisgrid.PairGrid at 0x1a27f08080>"
      ]
     },
     "execution_count": 27,
     "metadata": {},
     "output_type": "execute_result"
    },
    {
     "data": {
      "image/png": "[encoded data removed]",
      "text/plain": [
       "<Figure size 433.375x360 with 6 Axes>"
      ]
     },
     "metadata": {},
     "output_type": "display_data"
    }
   ],
   "source": [
    "# Look at France vs Spain\n",
    "temp_pair_plot_df = pair_plot_df[pair_plot_df['sorted_matchup'] == 'France|Spain']\n",
    "sns.pairplot(temp_pair_plot_df, vars = ['hrvo_rwma' , 'hrvop_rwma'] , hue=\"sorted_result\")"
   ]
  },
  {
   "cell_type": "code",
   "execution_count": 28,
   "metadata": {},
   "outputs": [
    {
     "data": {
      "text/plain": [
       "<seaborn.axisgrid.PairGrid at 0x119ceac88>"
      ]
     },
     "execution_count": 28,
     "metadata": {},
     "output_type": "execute_result"
    },
    {
     "data": {
      "image/png": "[encoded data removed]",
      "text/plain": [
       "<Figure size 433.375x360 with 6 Axes>"
      ]
     },
     "metadata": {},
     "output_type": "display_data"
    }
   ],
   "source": [
    "# Look at France vs Spain\n",
    "temp_pair_plot_df = pair_plot_df[pair_plot_df['sorted_matchup'] == 'Mexico|USA']\n",
    "sns.pairplot(temp_pair_plot_df, vars = ['hrvo_rwma' , 'hrvop_rwma'] , hue=\"sorted_result\")"
   ]
  },
  {
   "cell_type": "markdown",
   "metadata": {},
   "source": [
    "Based on the above, it would appear that neither variable is highly related to match results, but it seems that hrvop_rwma might be a little bit better than hrvo_rwma."
   ]
  },
  {
   "cell_type": "code",
   "execution_count": 29,
   "metadata": {},
   "outputs": [
    {
     "data": {
      "image/png": "[encoded data removed]",
      "text/plain": [
       "<Figure size 720x360 with 1 Axes>"
      ]
     },
     "metadata": {},
     "output_type": "display_data"
    }
   ],
   "source": [
    "# Check how many matches have taken place for all the matchups in our data set.\n",
    "matchup_bins = np.linspace(4,99,20)\n",
    "matchup_bins = np.linspace(1,70,70)\n",
    "fig, ax = plt.subplots(1,1,figsize = (10,5))\n",
    "ax.hist(df_vs_oppo.groupby('sorted_matchup').size(), bins = matchup_bins, alpha = .5)\n",
    "ax.set_ylabel('Frequency')\n",
    "ax.set_xlabel('Number of Historical Matchups')\n",
    "plt.show()"
   ]
  },
  {
   "cell_type": "markdown",
   "metadata": {},
   "source": [
    "Based on the histogram above, it becomes apparent that most many teams have only played each other only once or twice. \n",
    "The Historical Record vs Opponent features may therefore not be all that useful because many teams have only played each other on one or two occasions.\n",
    "This feature may become more useful once the dataset shrinks to teams that are available in our other data sets (sofifa.com, etc.), but this remains to be seen."
   ]
  },
  {
   "cell_type": "markdown",
   "metadata": {},
   "source": [
    "### 5.2 - Historical Record vs All Opponents"
   ]
  },
  {
   "cell_type": "markdown",
   "metadata": {},
   "source": [
    "Defintions:\n",
    " - **Historical Record vs All:**\n",
    "     - **Variable Name**: hrva_rwma\n",
    "     - **Description**: Lagging indicator of past performance vs all opponents based on _results_ variable\n",
    "\n",
    "\n",
    "\n",
    " - **Historical Record vs All \"Plus\":**\n",
    "     - **Variable Name**: hrvap_rwma\n",
    "     - **Description**: Lagging indicator of past performance vs all opponents based on _results-plus_ variable"
   ]
  },
  {
   "cell_type": "markdown",
   "metadata": {},
   "source": [
    "### 5.2.1 - Generate Features"
   ]
  },
  {
   "cell_type": "code",
   "execution_count": 30,
   "metadata": {},
   "outputs": [],
   "source": [
    "# Manipulate international results to get a dataframe that looks as follows:\n",
    "\n",
    "# Date | home | team | tournament | result \n",
    "\n",
    "#df_home\n",
    "df_home = pd.DataFrame(train_df, \n",
    "                       columns = ['date','home_team','tournament','result','result_plus'], \n",
    "                       copy = True)\n",
    "df_home = df_home.rename(columns = {\"home_team\" : \"team\"})\n",
    "df_home['home'] = 1"
   ]
  },
  {
   "cell_type": "code",
   "execution_count": 31,
   "metadata": {},
   "outputs": [],
   "source": [
    "#df_away\n",
    "df_away = pd.DataFrame(train_df, columns = ['date','away_team','tournament'], \n",
    "                       copy = True)\n",
    "df_away = df_away.rename(columns = {\"away_team\" : \"team\"})\n",
    "df_away['result'] = train_df['result'] * - 1\n",
    "df_away['result_plus'] = train_df['result_plus'] * - 1\n",
    "df_away['home'] = 0"
   ]
  },
  {
   "cell_type": "code",
   "execution_count": 32,
   "metadata": {},
   "outputs": [
    {
     "data": {
      "text/html": [
       "<div>\n",
       "<style scoped>\n",
       "    .dataframe tbody tr th:only-of-type {\n",
       "        vertical-align: middle;\n",
       "    }\n",
       "\n",
       "    .dataframe tbody tr th {\n",
       "        vertical-align: top;\n",
       "    }\n",
       "\n",
       "    .dataframe thead th {\n",
       "        text-align: right;\n",
       "    }\n",
       "</style>\n",
       "<table border=\"1\" class=\"dataframe\">\n",
       "  <thead>\n",
       "    <tr style=\"text-align: right;\">\n",
       "      <th></th>\n",
       "      <th>home</th>\n",
       "      <th>result</th>\n",
       "      <th>result_plus</th>\n",
       "      <th>team</th>\n",
       "      <th>tournament</th>\n",
       "    </tr>\n",
       "    <tr>\n",
       "      <th>date</th>\n",
       "      <th></th>\n",
       "      <th></th>\n",
       "      <th></th>\n",
       "      <th></th>\n",
       "      <th></th>\n",
       "    </tr>\n",
       "  </thead>\n",
       "  <tbody>\n",
       "    <tr>\n",
       "      <th>1884-01-26</th>\n",
       "      <td>1</td>\n",
       "      <td>-1</td>\n",
       "      <td>-1.5</td>\n",
       "      <td>Northern Ireland</td>\n",
       "      <td>British Championship</td>\n",
       "    </tr>\n",
       "    <tr>\n",
       "      <th>1884-01-26</th>\n",
       "      <td>0</td>\n",
       "      <td>1</td>\n",
       "      <td>1.5</td>\n",
       "      <td>Scotland</td>\n",
       "      <td>British Championship</td>\n",
       "    </tr>\n",
       "    <tr>\n",
       "      <th>1884-02-09</th>\n",
       "      <td>0</td>\n",
       "      <td>-1</td>\n",
       "      <td>-0.5</td>\n",
       "      <td>Northern Ireland</td>\n",
       "      <td>British Championship</td>\n",
       "    </tr>\n",
       "    <tr>\n",
       "      <th>1884-02-09</th>\n",
       "      <td>1</td>\n",
       "      <td>1</td>\n",
       "      <td>0.5</td>\n",
       "      <td>Wales</td>\n",
       "      <td>British Championship</td>\n",
       "    </tr>\n",
       "    <tr>\n",
       "      <th>1884-02-23</th>\n",
       "      <td>0</td>\n",
       "      <td>1</td>\n",
       "      <td>1.5</td>\n",
       "      <td>England</td>\n",
       "      <td>British Championship</td>\n",
       "    </tr>\n",
       "  </tbody>\n",
       "</table>\n",
       "</div>"
      ],
      "text/plain": [
       "            home  result  result_plus              team            tournament\n",
       "date                                                                         \n",
       "1884-01-26     1      -1         -1.5  Northern Ireland  British Championship\n",
       "1884-01-26     0       1          1.5          Scotland  British Championship\n",
       "1884-02-09     0      -1         -0.5  Northern Ireland  British Championship\n",
       "1884-02-09     1       1          0.5             Wales  British Championship\n",
       "1884-02-23     0       1          1.5           England  British Championship"
      ]
     },
     "execution_count": 32,
     "metadata": {},
     "output_type": "execute_result"
    }
   ],
   "source": [
    "#df_tall (combo of df_home and df_away)\n",
    "df_tall = df_home.append(df_away, sort = True)\n",
    "\n",
    "df_tall = df_tall.sort_values('date')\n",
    "\n",
    "df_tall.set_index('date',inplace=True,drop=True)\n",
    "\n",
    "#print(len(train_df))\n",
    "#print(len(df_tall))\n",
    "df_tall.head()"
   ]
  },
  {
   "cell_type": "markdown",
   "metadata": {},
   "source": [
    "### 5.2.2 - Examine Features"
   ]
  },
  {
   "cell_type": "code",
   "execution_count": 33,
   "metadata": {
    "collapsed": true
   },
   "outputs": [],
   "source": [
    "overall_record_rwma_df = df_tall.groupby('team')['result'].apply(rwma,0,40)\n",
    "overall_record_rwmap_df = df_tall.groupby('team')['result_plus'].apply(rwma,0,40)\n",
    "\n",
    "overall_record_rmean_df = df_tall.groupby('team')['result'].apply(rmean,0)\n",
    "overall_record_rmeanp_df = df_tall.groupby('team')['result_plus'].apply(rmean,0)\n",
    "\n",
    "overall_record_df = overall_record_rwma_df.copy()"
   ]
  },
  {
   "cell_type": "code",
   "execution_count": 34,
   "metadata": {},
   "outputs": [],
   "source": [
    "overall_record_df = overall_record_df.rename(columns = {'rwma':'hrva_rwma'})\n",
    "\n",
    "overall_record_df['hrvap_rwma'] = overall_record_rwmap_df['rwma']\n",
    "\n",
    "overall_record_df['hrva_rmean'] = overall_record_rmean_df['rmean']\n",
    "\n",
    "overall_record_df['hrvap_rmean'] = overall_record_rmeanp_df['rmean']"
   ]
  },
  {
   "cell_type": "code",
   "execution_count": 35,
   "metadata": {},
   "outputs": [
    {
     "data": {
      "text/html": [
       "<div>\n",
       "<style scoped>\n",
       "    .dataframe tbody tr th:only-of-type {\n",
       "        vertical-align: middle;\n",
       "    }\n",
       "\n",
       "    .dataframe tbody tr th {\n",
       "        vertical-align: top;\n",
       "    }\n",
       "\n",
       "    .dataframe thead th {\n",
       "        text-align: right;\n",
       "    }\n",
       "</style>\n",
       "<table border=\"1\" class=\"dataframe\">\n",
       "  <thead>\n",
       "    <tr style=\"text-align: right;\">\n",
       "      <th></th>\n",
       "      <th></th>\n",
       "      <th>date</th>\n",
       "      <th>hrva_rwma</th>\n",
       "      <th>hrvap_rwma</th>\n",
       "      <th>hrva_rmean</th>\n",
       "      <th>hrvap_rmean</th>\n",
       "    </tr>\n",
       "    <tr>\n",
       "      <th>team</th>\n",
       "      <th></th>\n",
       "      <th></th>\n",
       "      <th></th>\n",
       "      <th></th>\n",
       "      <th></th>\n",
       "      <th></th>\n",
       "    </tr>\n",
       "  </thead>\n",
       "  <tbody>\n",
       "    <tr>\n",
       "      <th rowspan=\"5\" valign=\"top\">Abkhazia</th>\n",
       "      <th>0</th>\n",
       "      <td>2014-06-01</td>\n",
       "      <td>NaN</td>\n",
       "      <td>NaN</td>\n",
       "      <td>NaN</td>\n",
       "      <td>NaN</td>\n",
       "    </tr>\n",
       "    <tr>\n",
       "      <th>1</th>\n",
       "      <td>2014-06-02</td>\n",
       "      <td>0.000000</td>\n",
       "      <td>0.000000</td>\n",
       "      <td>0.000000</td>\n",
       "      <td>0.000</td>\n",
       "    </tr>\n",
       "    <tr>\n",
       "      <th>2</th>\n",
       "      <td>2014-06-04</td>\n",
       "      <td>0.512500</td>\n",
       "      <td>0.768750</td>\n",
       "      <td>0.500000</td>\n",
       "      <td>0.750</td>\n",
       "    </tr>\n",
       "    <tr>\n",
       "      <th>3</th>\n",
       "      <td>2014-06-05</td>\n",
       "      <td>0.333056</td>\n",
       "      <td>0.499583</td>\n",
       "      <td>0.333333</td>\n",
       "      <td>0.500</td>\n",
       "    </tr>\n",
       "    <tr>\n",
       "      <th>4</th>\n",
       "      <td>2014-06-07</td>\n",
       "      <td>0.243446</td>\n",
       "      <td>0.365168</td>\n",
       "      <td>0.250000</td>\n",
       "      <td>0.375</td>\n",
       "    </tr>\n",
       "  </tbody>\n",
       "</table>\n",
       "</div>"
      ],
      "text/plain": [
       "                 date  hrva_rwma  hrvap_rwma  hrva_rmean  hrvap_rmean\n",
       "team                                                                 \n",
       "Abkhazia 0 2014-06-01        NaN         NaN         NaN          NaN\n",
       "         1 2014-06-02   0.000000    0.000000    0.000000        0.000\n",
       "         2 2014-06-04   0.512500    0.768750    0.500000        0.750\n",
       "         3 2014-06-05   0.333056    0.499583    0.333333        0.500\n",
       "         4 2014-06-07   0.243446    0.365168    0.250000        0.375"
      ]
     },
     "execution_count": 35,
     "metadata": {},
     "output_type": "execute_result"
    }
   ],
   "source": [
    "overall_record_df.head()"
   ]
  },
  {
   "cell_type": "code",
   "execution_count": 36,
   "metadata": {},
   "outputs": [],
   "source": [
    "overall_record_df.reset_index(inplace=True)\n",
    "\n",
    "overall_record_df.drop(columns='level_1', inplace= True)\n",
    "\n",
    "overall_record_df.hrva_rwma = overall_record_df.hrva_rwma.fillna(0)\n",
    "\n",
    "overall_record_df.hrvap_rwma = overall_record_df.hrvap_rwma.fillna(0)\n",
    "\n",
    "overall_record_df.hrva_rmean = overall_record_df.hrva_rmean.fillna(0)\n",
    "\n",
    "overall_record_df.hrvap_rmean = overall_record_df.hrvap_rmean.fillna(0)\n",
    "\n"
   ]
  },
  {
   "cell_type": "code",
   "execution_count": 37,
   "metadata": {},
   "outputs": [
    {
     "data": {
      "text/html": [
       "<div>\n",
       "<style scoped>\n",
       "    .dataframe tbody tr th:only-of-type {\n",
       "        vertical-align: middle;\n",
       "    }\n",
       "\n",
       "    .dataframe tbody tr th {\n",
       "        vertical-align: top;\n",
       "    }\n",
       "\n",
       "    .dataframe thead th {\n",
       "        text-align: right;\n",
       "    }\n",
       "</style>\n",
       "<table border=\"1\" class=\"dataframe\">\n",
       "  <thead>\n",
       "    <tr style=\"text-align: right;\">\n",
       "      <th></th>\n",
       "      <th>team</th>\n",
       "      <th>date</th>\n",
       "      <th>hrva_rwma</th>\n",
       "      <th>hrvap_rwma</th>\n",
       "      <th>hrva_rmean</th>\n",
       "      <th>hrvap_rmean</th>\n",
       "    </tr>\n",
       "  </thead>\n",
       "  <tbody>\n",
       "    <tr>\n",
       "      <th>13774</th>\n",
       "      <td>France</td>\n",
       "      <td>1930-07-13</td>\n",
       "      <td>0.000000</td>\n",
       "      <td>0.000000</td>\n",
       "      <td>0.000000</td>\n",
       "      <td>0.000000</td>\n",
       "    </tr>\n",
       "    <tr>\n",
       "      <th>13775</th>\n",
       "      <td>France</td>\n",
       "      <td>1930-07-15</td>\n",
       "      <td>1.000000</td>\n",
       "      <td>1.000000</td>\n",
       "      <td>1.000000</td>\n",
       "      <td>1.000000</td>\n",
       "    </tr>\n",
       "    <tr>\n",
       "      <th>13776</th>\n",
       "      <td>France</td>\n",
       "      <td>1930-07-19</td>\n",
       "      <td>-0.025000</td>\n",
       "      <td>-0.025000</td>\n",
       "      <td>0.000000</td>\n",
       "      <td>0.000000</td>\n",
       "    </tr>\n",
       "    <tr>\n",
       "      <th>13777</th>\n",
       "      <td>France</td>\n",
       "      <td>1934-04-15</td>\n",
       "      <td>-0.366382</td>\n",
       "      <td>-0.366382</td>\n",
       "      <td>-0.333333</td>\n",
       "      <td>-0.333333</td>\n",
       "    </tr>\n",
       "    <tr>\n",
       "      <th>13778</th>\n",
       "      <td>France</td>\n",
       "      <td>1934-05-27</td>\n",
       "      <td>0.001249</td>\n",
       "      <td>0.135776</td>\n",
       "      <td>0.000000</td>\n",
       "      <td>0.125000</td>\n",
       "    </tr>\n",
       "    <tr>\n",
       "      <th>13779</th>\n",
       "      <td>France</td>\n",
       "      <td>1938-06-05</td>\n",
       "      <td>-0.219513</td>\n",
       "      <td>-0.114647</td>\n",
       "      <td>-0.200000</td>\n",
       "      <td>-0.100000</td>\n",
       "    </tr>\n",
       "    <tr>\n",
       "      <th>13780</th>\n",
       "      <td>France</td>\n",
       "      <td>1938-06-12</td>\n",
       "      <td>0.009970</td>\n",
       "      <td>0.001014</td>\n",
       "      <td>0.000000</td>\n",
       "      <td>0.000000</td>\n",
       "    </tr>\n",
       "    <tr>\n",
       "      <th>13781</th>\n",
       "      <td>France</td>\n",
       "      <td>1949-10-09</td>\n",
       "      <td>-0.156831</td>\n",
       "      <td>-0.246884</td>\n",
       "      <td>-0.142857</td>\n",
       "      <td>-0.214286</td>\n",
       "    </tr>\n",
       "    <tr>\n",
       "      <th>13782</th>\n",
       "      <td>France</td>\n",
       "      <td>1949-10-30</td>\n",
       "      <td>-0.133630</td>\n",
       "      <td>-0.136392</td>\n",
       "      <td>0.000000</td>\n",
       "      <td>0.500000</td>\n",
       "    </tr>\n",
       "    <tr>\n",
       "      <th>13783</th>\n",
       "      <td>France</td>\n",
       "      <td>1949-12-11</td>\n",
       "      <td>-0.115644</td>\n",
       "      <td>-0.185331</td>\n",
       "      <td>0.000000</td>\n",
       "      <td>0.000000</td>\n",
       "    </tr>\n",
       "  </tbody>\n",
       "</table>\n",
       "</div>"
      ],
      "text/plain": [
       "         team       date  hrva_rwma  hrvap_rwma  hrva_rmean  hrvap_rmean\n",
       "13774  France 1930-07-13   0.000000    0.000000    0.000000     0.000000\n",
       "13775  France 1930-07-15   1.000000    1.000000    1.000000     1.000000\n",
       "13776  France 1930-07-19  -0.025000   -0.025000    0.000000     0.000000\n",
       "13777  France 1934-04-15  -0.366382   -0.366382   -0.333333    -0.333333\n",
       "13778  France 1934-05-27   0.001249    0.135776    0.000000     0.125000\n",
       "13779  France 1938-06-05  -0.219513   -0.114647   -0.200000    -0.100000\n",
       "13780  France 1938-06-12   0.009970    0.001014    0.000000     0.000000\n",
       "13781  France 1949-10-09  -0.156831   -0.246884   -0.142857    -0.214286\n",
       "13782  France 1949-10-30  -0.133630   -0.136392    0.000000     0.500000\n",
       "13783  France 1949-12-11  -0.115644   -0.185331    0.000000     0.000000"
      ]
     },
     "execution_count": 37,
     "metadata": {},
     "output_type": "execute_result"
    }
   ],
   "source": [
    "overall_record_df[overall_record_df['team'] == 'France'].head(10)"
   ]
  },
  {
   "cell_type": "code",
   "execution_count": 38,
   "metadata": {},
   "outputs": [
    {
     "data": {
      "text/html": [
       "<div>\n",
       "<style scoped>\n",
       "    .dataframe tbody tr th:only-of-type {\n",
       "        vertical-align: middle;\n",
       "    }\n",
       "\n",
       "    .dataframe tbody tr th {\n",
       "        vertical-align: top;\n",
       "    }\n",
       "\n",
       "    .dataframe thead th {\n",
       "        text-align: right;\n",
       "    }\n",
       "</style>\n",
       "<table border=\"1\" class=\"dataframe\">\n",
       "  <thead>\n",
       "    <tr style=\"text-align: right;\">\n",
       "      <th></th>\n",
       "      <th>team</th>\n",
       "      <th>date</th>\n",
       "      <th>hrva_rwma</th>\n",
       "      <th>hrvap_rwma</th>\n",
       "      <th>hrva_rmean</th>\n",
       "      <th>hrvap_rmean</th>\n",
       "    </tr>\n",
       "  </thead>\n",
       "  <tbody>\n",
       "    <tr>\n",
       "      <th>14097</th>\n",
       "      <td>France</td>\n",
       "      <td>2016-09-06</td>\n",
       "      <td>0.379718</td>\n",
       "      <td>0.238788</td>\n",
       "      <td>0.333333</td>\n",
       "      <td>0.295455</td>\n",
       "    </tr>\n",
       "    <tr>\n",
       "      <th>14098</th>\n",
       "      <td>France</td>\n",
       "      <td>2016-10-07</td>\n",
       "      <td>0.361196</td>\n",
       "      <td>0.251530</td>\n",
       "      <td>0.307692</td>\n",
       "      <td>0.276923</td>\n",
       "    </tr>\n",
       "    <tr>\n",
       "      <th>14099</th>\n",
       "      <td>France</td>\n",
       "      <td>2016-10-10</td>\n",
       "      <td>0.392357</td>\n",
       "      <td>0.263651</td>\n",
       "      <td>0.338462</td>\n",
       "      <td>0.292308</td>\n",
       "    </tr>\n",
       "    <tr>\n",
       "      <th>14100</th>\n",
       "      <td>France</td>\n",
       "      <td>2016-11-11</td>\n",
       "      <td>0.421998</td>\n",
       "      <td>0.323961</td>\n",
       "      <td>0.338462</td>\n",
       "      <td>0.307692</td>\n",
       "    </tr>\n",
       "    <tr>\n",
       "      <th>14101</th>\n",
       "      <td>France</td>\n",
       "      <td>2017-03-25</td>\n",
       "      <td>0.450193</td>\n",
       "      <td>0.332548</td>\n",
       "      <td>0.348485</td>\n",
       "      <td>0.310606</td>\n",
       "    </tr>\n",
       "    <tr>\n",
       "      <th>14102</th>\n",
       "      <td>France</td>\n",
       "      <td>2017-06-09</td>\n",
       "      <td>0.477013</td>\n",
       "      <td>0.389497</td>\n",
       "      <td>0.348485</td>\n",
       "      <td>0.310606</td>\n",
       "    </tr>\n",
       "    <tr>\n",
       "      <th>14103</th>\n",
       "      <td>France</td>\n",
       "      <td>2017-08-31</td>\n",
       "      <td>0.404964</td>\n",
       "      <td>0.346107</td>\n",
       "      <td>0.307692</td>\n",
       "      <td>0.292308</td>\n",
       "    </tr>\n",
       "    <tr>\n",
       "      <th>14104</th>\n",
       "      <td>France</td>\n",
       "      <td>2017-09-03</td>\n",
       "      <td>0.433990</td>\n",
       "      <td>0.353614</td>\n",
       "      <td>0.318182</td>\n",
       "      <td>0.295455</td>\n",
       "    </tr>\n",
       "    <tr>\n",
       "      <th>14105</th>\n",
       "      <td>France</td>\n",
       "      <td>2017-10-07</td>\n",
       "      <td>0.412819</td>\n",
       "      <td>0.311974</td>\n",
       "      <td>0.313433</td>\n",
       "      <td>0.283582</td>\n",
       "    </tr>\n",
       "    <tr>\n",
       "      <th>14106</th>\n",
       "      <td>France</td>\n",
       "      <td>2017-10-10</td>\n",
       "      <td>0.441462</td>\n",
       "      <td>0.369926</td>\n",
       "      <td>0.348485</td>\n",
       "      <td>0.325758</td>\n",
       "    </tr>\n",
       "  </tbody>\n",
       "</table>\n",
       "</div>"
      ],
      "text/plain": [
       "         team       date  hrva_rwma  hrvap_rwma  hrva_rmean  hrvap_rmean\n",
       "14097  France 2016-09-06   0.379718    0.238788    0.333333     0.295455\n",
       "14098  France 2016-10-07   0.361196    0.251530    0.307692     0.276923\n",
       "14099  France 2016-10-10   0.392357    0.263651    0.338462     0.292308\n",
       "14100  France 2016-11-11   0.421998    0.323961    0.338462     0.307692\n",
       "14101  France 2017-03-25   0.450193    0.332548    0.348485     0.310606\n",
       "14102  France 2017-06-09   0.477013    0.389497    0.348485     0.310606\n",
       "14103  France 2017-08-31   0.404964    0.346107    0.307692     0.292308\n",
       "14104  France 2017-09-03   0.433990    0.353614    0.318182     0.295455\n",
       "14105  France 2017-10-07   0.412819    0.311974    0.313433     0.283582\n",
       "14106  France 2017-10-10   0.441462    0.369926    0.348485     0.325758"
      ]
     },
     "execution_count": 38,
     "metadata": {},
     "output_type": "execute_result"
    }
   ],
   "source": [
    "overall_record_df[overall_record_df['team'] == 'France'].tail(10)"
   ]
  },
  {
   "cell_type": "code",
   "execution_count": 39,
   "metadata": {},
   "outputs": [],
   "source": [
    "temp_df1 = overall_record_df[overall_record_df['team'] == 'France']\n",
    "temp_df2 = overall_record_df[overall_record_df['team'] == 'Spain']\n",
    "temp_df3 = df_vs_oppo[df_vs_oppo['sorted_matchup'] == 'France|Spain']"
   ]
  },
  {
   "cell_type": "code",
   "execution_count": 40,
   "metadata": {},
   "outputs": [
    {
     "data": {
      "text/html": [
       "<div>\n",
       "<style scoped>\n",
       "    .dataframe tbody tr th:only-of-type {\n",
       "        vertical-align: middle;\n",
       "    }\n",
       "\n",
       "    .dataframe tbody tr th {\n",
       "        vertical-align: top;\n",
       "    }\n",
       "\n",
       "    .dataframe thead th {\n",
       "        text-align: right;\n",
       "    }\n",
       "</style>\n",
       "<table border=\"1\" class=\"dataframe\">\n",
       "  <thead>\n",
       "    <tr style=\"text-align: right;\">\n",
       "      <th></th>\n",
       "      <th>sorted_matchup</th>\n",
       "      <th>date</th>\n",
       "      <th>hrvo_rwma</th>\n",
       "      <th>hrvop_rwma</th>\n",
       "    </tr>\n",
       "  </thead>\n",
       "  <tbody>\n",
       "    <tr>\n",
       "      <th>11888</th>\n",
       "      <td>France|Spain</td>\n",
       "      <td>2000-06-25</td>\n",
       "      <td>0.584615</td>\n",
       "      <td>0.569231</td>\n",
       "    </tr>\n",
       "    <tr>\n",
       "      <th>11889</th>\n",
       "      <td>France|Spain</td>\n",
       "      <td>2006-06-27</td>\n",
       "      <td>0.744076</td>\n",
       "      <td>0.734597</td>\n",
       "    </tr>\n",
       "    <tr>\n",
       "      <th>11890</th>\n",
       "      <td>France|Spain</td>\n",
       "      <td>2012-06-23</td>\n",
       "      <td>0.837594</td>\n",
       "      <td>0.831579</td>\n",
       "    </tr>\n",
       "    <tr>\n",
       "      <th>11891</th>\n",
       "      <td>France|Spain</td>\n",
       "      <td>2012-10-16</td>\n",
       "      <td>0.186984</td>\n",
       "      <td>0.183099</td>\n",
       "    </tr>\n",
       "    <tr>\n",
       "      <th>11892</th>\n",
       "      <td>France|Spain</td>\n",
       "      <td>2013-03-26</td>\n",
       "      <td>0.122125</td>\n",
       "      <td>0.293021</td>\n",
       "    </tr>\n",
       "  </tbody>\n",
       "</table>\n",
       "</div>"
      ],
      "text/plain": [
       "      sorted_matchup       date  hrvo_rwma  hrvop_rwma\n",
       "11888   France|Spain 2000-06-25   0.584615    0.569231\n",
       "11889   France|Spain 2006-06-27   0.744076    0.734597\n",
       "11890   France|Spain 2012-06-23   0.837594    0.831579\n",
       "11891   France|Spain 2012-10-16   0.186984    0.183099\n",
       "11892   France|Spain 2013-03-26   0.122125    0.293021"
      ]
     },
     "execution_count": 40,
     "metadata": {},
     "output_type": "execute_result"
    }
   ],
   "source": [
    "temp_df3.tail()"
   ]
  },
  {
   "cell_type": "code",
   "execution_count": 41,
   "metadata": {},
   "outputs": [
    {
     "data": {
      "image/png": "[encoded data removed]",
      "text/plain": [
       "<Figure size 1440x720 with 1 Axes>"
      ]
     },
     "metadata": {},
     "output_type": "display_data"
    }
   ],
   "source": [
    "fig, ax = plt.subplots(1,1, figsize = (20,10))\n",
    "\n",
    "ax.plot(temp_df1['date'], temp_df1['hrva_rwma'], label = 'Argentina - hrva_rwma', color = 'blue', alpha = 1)\n",
    "ax.plot(temp_df1['date'], temp_df1['hrvap_rwma'], label = 'Argentina - hrvap_rwma', color = 'blue', alpha = 0.60)\n",
    "\n",
    "ax.plot(temp_df1['date'], temp_df1['hrva_rmean'], label = 'Argentina - hrva_rmean', color = 'blue', alpha = .40)\n",
    "ax.plot(temp_df1['date'], temp_df1['hrvap_rmean'], label = 'Argentina - hrvap_rmean', color = 'blue', alpha = .20)\n",
    "\n",
    "\n",
    "ax.plot(temp_df2['date'], temp_df2['hrva_rwma'], label = 'Brazil - hrva_rwma', color = 'red', alpha = 1)\n",
    "ax.plot(temp_df2['date'], temp_df2['hrvap_rwma'], label = 'Brazil - hrvap_rwma', color = 'red', alpha = 0.60)\n",
    "\n",
    "ax.plot(temp_df2['date'], temp_df2['hrva_rmean'], label = 'Brazil - hrva_rmean', color = 'red', alpha = .40)\n",
    "ax.plot(temp_df2['date'], temp_df2['hrvap_rmean'], label = 'Brazil - hrvap_rmean', color = 'red', alpha = .20)\n",
    "\n",
    "ax.set_xlabel('Moving Averages')\n",
    "ax.set_ylabel('Rolling Means')\n",
    "ax.set_title('Illustration of \"Historical Record vs All\" Features: Argentina vs. Brazil')\n",
    "\n",
    "plt.legend()\n",
    "plt.show()"
   ]
  },
  {
   "cell_type": "markdown",
   "metadata": {},
   "source": [
    "## 6  - Merge Features Back into Train and Test Datasets"
   ]
  },
  {
   "cell_type": "markdown",
   "metadata": {},
   "source": [
    "### 6.1  - Merge Features Back into Train Dataset"
   ]
  },
  {
   "cell_type": "code",
   "execution_count": 42,
   "metadata": {},
   "outputs": [
    {
     "data": {
      "text/html": [
       "<div>\n",
       "<style scoped>\n",
       "    .dataframe tbody tr th:only-of-type {\n",
       "        vertical-align: middle;\n",
       "    }\n",
       "\n",
       "    .dataframe tbody tr th {\n",
       "        vertical-align: top;\n",
       "    }\n",
       "\n",
       "    .dataframe thead th {\n",
       "        text-align: right;\n",
       "    }\n",
       "</style>\n",
       "<table border=\"1\" class=\"dataframe\">\n",
       "  <thead>\n",
       "    <tr style=\"text-align: right;\">\n",
       "      <th></th>\n",
       "      <th>team</th>\n",
       "      <th>date</th>\n",
       "      <th>hrva_rwma</th>\n",
       "      <th>hrvap_rwma</th>\n",
       "      <th>hrva_rmean</th>\n",
       "      <th>hrvap_rmean</th>\n",
       "    </tr>\n",
       "  </thead>\n",
       "  <tbody>\n",
       "    <tr>\n",
       "      <th>0</th>\n",
       "      <td>Abkhazia</td>\n",
       "      <td>2014-06-01</td>\n",
       "      <td>0.000000</td>\n",
       "      <td>0.000000</td>\n",
       "      <td>0.000000</td>\n",
       "      <td>0.000</td>\n",
       "    </tr>\n",
       "    <tr>\n",
       "      <th>1</th>\n",
       "      <td>Abkhazia</td>\n",
       "      <td>2014-06-02</td>\n",
       "      <td>0.000000</td>\n",
       "      <td>0.000000</td>\n",
       "      <td>0.000000</td>\n",
       "      <td>0.000</td>\n",
       "    </tr>\n",
       "    <tr>\n",
       "      <th>2</th>\n",
       "      <td>Abkhazia</td>\n",
       "      <td>2014-06-04</td>\n",
       "      <td>0.512500</td>\n",
       "      <td>0.768750</td>\n",
       "      <td>0.500000</td>\n",
       "      <td>0.750</td>\n",
       "    </tr>\n",
       "    <tr>\n",
       "      <th>3</th>\n",
       "      <td>Abkhazia</td>\n",
       "      <td>2014-06-05</td>\n",
       "      <td>0.333056</td>\n",
       "      <td>0.499583</td>\n",
       "      <td>0.333333</td>\n",
       "      <td>0.500</td>\n",
       "    </tr>\n",
       "    <tr>\n",
       "      <th>4</th>\n",
       "      <td>Abkhazia</td>\n",
       "      <td>2014-06-07</td>\n",
       "      <td>0.243446</td>\n",
       "      <td>0.365168</td>\n",
       "      <td>0.250000</td>\n",
       "      <td>0.375</td>\n",
       "    </tr>\n",
       "  </tbody>\n",
       "</table>\n",
       "</div>"
      ],
      "text/plain": [
       "       team       date  hrva_rwma  hrvap_rwma  hrva_rmean  hrvap_rmean\n",
       "0  Abkhazia 2014-06-01   0.000000    0.000000    0.000000        0.000\n",
       "1  Abkhazia 2014-06-02   0.000000    0.000000    0.000000        0.000\n",
       "2  Abkhazia 2014-06-04   0.512500    0.768750    0.500000        0.750\n",
       "3  Abkhazia 2014-06-05   0.333056    0.499583    0.333333        0.500\n",
       "4  Abkhazia 2014-06-07   0.243446    0.365168    0.250000        0.375"
      ]
     },
     "execution_count": 42,
     "metadata": {},
     "output_type": "execute_result"
    }
   ],
   "source": [
    "overall_record_df.head()"
   ]
  },
  {
   "cell_type": "code",
   "execution_count": 43,
   "metadata": {},
   "outputs": [],
   "source": [
    "# apply mean to new features to account for the fact that some teams played twice on the same date\n",
    "overall_record_df = overall_record_df.groupby(['team','date']).mean()\n",
    "overall_record_df = overall_record_df.reset_index()"
   ]
  },
  {
   "cell_type": "code",
   "execution_count": 44,
   "metadata": {},
   "outputs": [
    {
     "data": {
      "text/html": [
       "<div>\n",
       "<style scoped>\n",
       "    .dataframe tbody tr th:only-of-type {\n",
       "        vertical-align: middle;\n",
       "    }\n",
       "\n",
       "    .dataframe tbody tr th {\n",
       "        vertical-align: top;\n",
       "    }\n",
       "\n",
       "    .dataframe thead th {\n",
       "        text-align: right;\n",
       "    }\n",
       "</style>\n",
       "<table border=\"1\" class=\"dataframe\">\n",
       "  <thead>\n",
       "    <tr style=\"text-align: right;\">\n",
       "      <th></th>\n",
       "      <th>date</th>\n",
       "      <th>team</th>\n",
       "      <th>count</th>\n",
       "    </tr>\n",
       "  </thead>\n",
       "  <tbody>\n",
       "  </tbody>\n",
       "</table>\n",
       "</div>"
      ],
      "text/plain": [
       "Empty DataFrame\n",
       "Columns: [date, team, count]\n",
       "Index: []"
      ]
     },
     "execution_count": 44,
     "metadata": {},
     "output_type": "execute_result"
    }
   ],
   "source": [
    "cnt = pd.DataFrame(overall_record_df.groupby(['date','team']).size())\n",
    "cnt = cnt.reset_index()\n",
    "cnt.head()\n",
    "\n",
    "cnt = cnt.rename(columns = {0:'count'})\n",
    "\n",
    "cnt[cnt['count'] != 1]"
   ]
  },
  {
   "cell_type": "code",
   "execution_count": 45,
   "metadata": {},
   "outputs": [
    {
     "data": {
      "text/html": [
       "<div>\n",
       "<style scoped>\n",
       "    .dataframe tbody tr th:only-of-type {\n",
       "        vertical-align: middle;\n",
       "    }\n",
       "\n",
       "    .dataframe tbody tr th {\n",
       "        vertical-align: top;\n",
       "    }\n",
       "\n",
       "    .dataframe thead th {\n",
       "        text-align: right;\n",
       "    }\n",
       "</style>\n",
       "<table border=\"1\" class=\"dataframe\">\n",
       "  <thead>\n",
       "    <tr style=\"text-align: right;\">\n",
       "      <th></th>\n",
       "      <th>date</th>\n",
       "      <th>team</th>\n",
       "      <th>count</th>\n",
       "    </tr>\n",
       "  </thead>\n",
       "  <tbody>\n",
       "  </tbody>\n",
       "</table>\n",
       "</div>"
      ],
      "text/plain": [
       "Empty DataFrame\n",
       "Columns: [date, team, count]\n",
       "Index: []"
      ]
     },
     "execution_count": 45,
     "metadata": {},
     "output_type": "execute_result"
    }
   ],
   "source": [
    "cnt = pd.DataFrame(overall_record_df.groupby(['date','team']).size())\n",
    "cnt = cnt.reset_index()\n",
    "cnt.head()\n",
    "\n",
    "cnt = cnt.rename(columns = {0:'count'})\n",
    "\n",
    "cnt[cnt['count'] != 1]"
   ]
  },
  {
   "cell_type": "code",
   "execution_count": 46,
   "metadata": {},
   "outputs": [
    {
     "name": "stdout",
     "output_type": "stream",
     "text": [
      "23131\n",
      "23131\n"
     ]
    },
    {
     "data": {
      "text/html": [
       "<div>\n",
       "<style scoped>\n",
       "    .dataframe tbody tr th:only-of-type {\n",
       "        vertical-align: middle;\n",
       "    }\n",
       "\n",
       "    .dataframe tbody tr th {\n",
       "        vertical-align: top;\n",
       "    }\n",
       "\n",
       "    .dataframe thead th {\n",
       "        text-align: right;\n",
       "    }\n",
       "</style>\n",
       "<table border=\"1\" class=\"dataframe\">\n",
       "  <thead>\n",
       "    <tr style=\"text-align: right;\">\n",
       "      <th></th>\n",
       "      <th>date</th>\n",
       "      <th>home_team</th>\n",
       "      <th>away_team</th>\n",
       "      <th>home_score</th>\n",
       "      <th>away_score</th>\n",
       "      <th>tournament</th>\n",
       "      <th>city</th>\n",
       "      <th>country</th>\n",
       "      <th>neutral</th>\n",
       "      <th>year</th>\n",
       "      <th>result</th>\n",
       "      <th>result_plus</th>\n",
       "      <th>sorted_matchup</th>\n",
       "      <th>sorted_result</th>\n",
       "      <th>sorted_result_plus</th>\n",
       "      <th>home_hrva_rwma</th>\n",
       "      <th>home_hrvap_rwma</th>\n",
       "      <th>home_hrva_rmean</th>\n",
       "      <th>home_hrvap_rmean</th>\n",
       "    </tr>\n",
       "  </thead>\n",
       "  <tbody>\n",
       "    <tr>\n",
       "      <th>0</th>\n",
       "      <td>1884-01-26</td>\n",
       "      <td>Northern Ireland</td>\n",
       "      <td>Scotland</td>\n",
       "      <td>0</td>\n",
       "      <td>5</td>\n",
       "      <td>British Championship</td>\n",
       "      <td>Belfast</td>\n",
       "      <td>Ireland</td>\n",
       "      <td>False</td>\n",
       "      <td>1884</td>\n",
       "      <td>-1</td>\n",
       "      <td>-1.5</td>\n",
       "      <td>Northern Ireland|Scotland</td>\n",
       "      <td>-1</td>\n",
       "      <td>-1.5</td>\n",
       "      <td>0.0</td>\n",
       "      <td>0.0000</td>\n",
       "      <td>0.0</td>\n",
       "      <td>0.0</td>\n",
       "    </tr>\n",
       "    <tr>\n",
       "      <th>1</th>\n",
       "      <td>1884-02-09</td>\n",
       "      <td>Wales</td>\n",
       "      <td>Northern Ireland</td>\n",
       "      <td>6</td>\n",
       "      <td>0</td>\n",
       "      <td>British Championship</td>\n",
       "      <td>Wrexham</td>\n",
       "      <td>Wales</td>\n",
       "      <td>False</td>\n",
       "      <td>1884</td>\n",
       "      <td>1</td>\n",
       "      <td>0.5</td>\n",
       "      <td>Northern Ireland|Wales</td>\n",
       "      <td>-1</td>\n",
       "      <td>-0.5</td>\n",
       "      <td>0.0</td>\n",
       "      <td>0.0000</td>\n",
       "      <td>0.0</td>\n",
       "      <td>0.0</td>\n",
       "    </tr>\n",
       "    <tr>\n",
       "      <th>2</th>\n",
       "      <td>1884-02-23</td>\n",
       "      <td>Northern Ireland</td>\n",
       "      <td>England</td>\n",
       "      <td>1</td>\n",
       "      <td>8</td>\n",
       "      <td>British Championship</td>\n",
       "      <td>Belfast</td>\n",
       "      <td>Ireland</td>\n",
       "      <td>False</td>\n",
       "      <td>1884</td>\n",
       "      <td>-1</td>\n",
       "      <td>-1.5</td>\n",
       "      <td>England|Northern Ireland</td>\n",
       "      <td>1</td>\n",
       "      <td>1.5</td>\n",
       "      <td>-1.0</td>\n",
       "      <td>-0.9875</td>\n",
       "      <td>-1.0</td>\n",
       "      <td>-1.0</td>\n",
       "    </tr>\n",
       "    <tr>\n",
       "      <th>3</th>\n",
       "      <td>1884-03-15</td>\n",
       "      <td>Scotland</td>\n",
       "      <td>England</td>\n",
       "      <td>1</td>\n",
       "      <td>0</td>\n",
       "      <td>British Championship</td>\n",
       "      <td>Glasgow</td>\n",
       "      <td>Scotland</td>\n",
       "      <td>False</td>\n",
       "      <td>1884</td>\n",
       "      <td>1</td>\n",
       "      <td>0.5</td>\n",
       "      <td>England|Scotland</td>\n",
       "      <td>-1</td>\n",
       "      <td>-0.5</td>\n",
       "      <td>1.0</td>\n",
       "      <td>1.5000</td>\n",
       "      <td>1.0</td>\n",
       "      <td>1.5</td>\n",
       "    </tr>\n",
       "    <tr>\n",
       "      <th>4</th>\n",
       "      <td>1884-03-17</td>\n",
       "      <td>Wales</td>\n",
       "      <td>England</td>\n",
       "      <td>0</td>\n",
       "      <td>4</td>\n",
       "      <td>British Championship</td>\n",
       "      <td>Wrexham</td>\n",
       "      <td>Wales</td>\n",
       "      <td>False</td>\n",
       "      <td>1884</td>\n",
       "      <td>-1</td>\n",
       "      <td>-1.5</td>\n",
       "      <td>England|Wales</td>\n",
       "      <td>1</td>\n",
       "      <td>1.5</td>\n",
       "      <td>1.0</td>\n",
       "      <td>0.5000</td>\n",
       "      <td>1.0</td>\n",
       "      <td>0.5</td>\n",
       "    </tr>\n",
       "  </tbody>\n",
       "</table>\n",
       "</div>"
      ],
      "text/plain": [
       "        date         home_team         away_team  home_score  away_score  \\\n",
       "0 1884-01-26  Northern Ireland          Scotland           0           5   \n",
       "1 1884-02-09             Wales  Northern Ireland           6           0   \n",
       "2 1884-02-23  Northern Ireland           England           1           8   \n",
       "3 1884-03-15          Scotland           England           1           0   \n",
       "4 1884-03-17             Wales           England           0           4   \n",
       "\n",
       "             tournament     city   country  neutral  year  result  \\\n",
       "0  British Championship  Belfast   Ireland    False  1884      -1   \n",
       "1  British Championship  Wrexham     Wales    False  1884       1   \n",
       "2  British Championship  Belfast   Ireland    False  1884      -1   \n",
       "3  British Championship  Glasgow  Scotland    False  1884       1   \n",
       "4  British Championship  Wrexham     Wales    False  1884      -1   \n",
       "\n",
       "   result_plus             sorted_matchup  sorted_result  sorted_result_plus  \\\n",
       "0         -1.5  Northern Ireland|Scotland             -1                -1.5   \n",
       "1          0.5     Northern Ireland|Wales             -1                -0.5   \n",
       "2         -1.5   England|Northern Ireland              1                 1.5   \n",
       "3          0.5           England|Scotland             -1                -0.5   \n",
       "4         -1.5              England|Wales              1                 1.5   \n",
       "\n",
       "   home_hrva_rwma  home_hrvap_rwma  home_hrva_rmean  home_hrvap_rmean  \n",
       "0             0.0           0.0000              0.0               0.0  \n",
       "1             0.0           0.0000              0.0               0.0  \n",
       "2            -1.0          -0.9875             -1.0              -1.0  \n",
       "3             1.0           1.5000              1.0               1.5  \n",
       "4             1.0           0.5000              1.0               0.5  "
      ]
     },
     "execution_count": 46,
     "metadata": {},
     "output_type": "execute_result"
    }
   ],
   "source": [
    "print(len(train_df))\n",
    "\n",
    "train_df = train_df.merge(overall_record_df[['team','date','hrva_rwma','hrvap_rwma','hrva_rmean','hrvap_rmean']], \n",
    "                  how = 'inner',\n",
    "                  left_on=['home_team','date'], \n",
    "                  right_on=['team','date'])\n",
    "print(len(train_df))\n",
    "\n",
    "\n",
    "train_df = train_df.drop(columns = 'team')\n",
    "\n",
    "#train_df.head()\n",
    "\n",
    "train_df = train_df.rename(columns={'hrva_rwma':'home_hrva_rwma', \n",
    "                                    'hrvap_rwma':'home_hrvap_rwma',\n",
    "                                    'hrva_rmean':'home_hrva_rmean',\n",
    "                                    'hrvap_rmean': 'home_hrvap_rmean'\n",
    "                                    })\n",
    "\n",
    "train_df.head()"
   ]
  },
  {
   "cell_type": "code",
   "execution_count": 47,
   "metadata": {},
   "outputs": [
    {
     "data": {
      "text/html": [
       "<div>\n",
       "<style scoped>\n",
       "    .dataframe tbody tr th:only-of-type {\n",
       "        vertical-align: middle;\n",
       "    }\n",
       "\n",
       "    .dataframe tbody tr th {\n",
       "        vertical-align: top;\n",
       "    }\n",
       "\n",
       "    .dataframe thead th {\n",
       "        text-align: right;\n",
       "    }\n",
       "</style>\n",
       "<table border=\"1\" class=\"dataframe\">\n",
       "  <thead>\n",
       "    <tr style=\"text-align: right;\">\n",
       "      <th></th>\n",
       "      <th>date</th>\n",
       "      <th>home_team</th>\n",
       "      <th>away_team</th>\n",
       "      <th>home_score</th>\n",
       "      <th>away_score</th>\n",
       "      <th>tournament</th>\n",
       "      <th>city</th>\n",
       "      <th>country</th>\n",
       "      <th>neutral</th>\n",
       "      <th>year</th>\n",
       "      <th>...</th>\n",
       "      <th>sorted_result</th>\n",
       "      <th>sorted_result_plus</th>\n",
       "      <th>home_hrva_rwma</th>\n",
       "      <th>home_hrvap_rwma</th>\n",
       "      <th>home_hrva_rmean</th>\n",
       "      <th>home_hrvap_rmean</th>\n",
       "      <th>away_hrva_rwma</th>\n",
       "      <th>away_hrvap_rwma</th>\n",
       "      <th>away_hrva_rmean</th>\n",
       "      <th>away_hrvap_rmean</th>\n",
       "    </tr>\n",
       "  </thead>\n",
       "  <tbody>\n",
       "    <tr>\n",
       "      <th>0</th>\n",
       "      <td>1884-01-26</td>\n",
       "      <td>Northern Ireland</td>\n",
       "      <td>Scotland</td>\n",
       "      <td>0</td>\n",
       "      <td>5</td>\n",
       "      <td>British Championship</td>\n",
       "      <td>Belfast</td>\n",
       "      <td>Ireland</td>\n",
       "      <td>False</td>\n",
       "      <td>1884</td>\n",
       "      <td>...</td>\n",
       "      <td>-1</td>\n",
       "      <td>-1.5</td>\n",
       "      <td>0.0</td>\n",
       "      <td>0.0000</td>\n",
       "      <td>0.0</td>\n",
       "      <td>0.0</td>\n",
       "      <td>0.000</td>\n",
       "      <td>0.000</td>\n",
       "      <td>0.0</td>\n",
       "      <td>0.0</td>\n",
       "    </tr>\n",
       "    <tr>\n",
       "      <th>1</th>\n",
       "      <td>1884-02-09</td>\n",
       "      <td>Wales</td>\n",
       "      <td>Northern Ireland</td>\n",
       "      <td>6</td>\n",
       "      <td>0</td>\n",
       "      <td>British Championship</td>\n",
       "      <td>Wrexham</td>\n",
       "      <td>Wales</td>\n",
       "      <td>False</td>\n",
       "      <td>1884</td>\n",
       "      <td>...</td>\n",
       "      <td>-1</td>\n",
       "      <td>-0.5</td>\n",
       "      <td>0.0</td>\n",
       "      <td>0.0000</td>\n",
       "      <td>0.0</td>\n",
       "      <td>0.0</td>\n",
       "      <td>-1.000</td>\n",
       "      <td>-1.500</td>\n",
       "      <td>-1.0</td>\n",
       "      <td>-1.5</td>\n",
       "    </tr>\n",
       "    <tr>\n",
       "      <th>2</th>\n",
       "      <td>1884-02-23</td>\n",
       "      <td>Northern Ireland</td>\n",
       "      <td>England</td>\n",
       "      <td>1</td>\n",
       "      <td>8</td>\n",
       "      <td>British Championship</td>\n",
       "      <td>Belfast</td>\n",
       "      <td>Ireland</td>\n",
       "      <td>False</td>\n",
       "      <td>1884</td>\n",
       "      <td>...</td>\n",
       "      <td>1</td>\n",
       "      <td>1.5</td>\n",
       "      <td>-1.0</td>\n",
       "      <td>-0.9875</td>\n",
       "      <td>-1.0</td>\n",
       "      <td>-1.0</td>\n",
       "      <td>0.000</td>\n",
       "      <td>0.000</td>\n",
       "      <td>0.0</td>\n",
       "      <td>0.0</td>\n",
       "    </tr>\n",
       "    <tr>\n",
       "      <th>3</th>\n",
       "      <td>1884-03-15</td>\n",
       "      <td>Scotland</td>\n",
       "      <td>England</td>\n",
       "      <td>1</td>\n",
       "      <td>0</td>\n",
       "      <td>British Championship</td>\n",
       "      <td>Glasgow</td>\n",
       "      <td>Scotland</td>\n",
       "      <td>False</td>\n",
       "      <td>1884</td>\n",
       "      <td>...</td>\n",
       "      <td>-1</td>\n",
       "      <td>-0.5</td>\n",
       "      <td>1.0</td>\n",
       "      <td>1.5000</td>\n",
       "      <td>1.0</td>\n",
       "      <td>1.5</td>\n",
       "      <td>1.000</td>\n",
       "      <td>1.500</td>\n",
       "      <td>1.0</td>\n",
       "      <td>1.5</td>\n",
       "    </tr>\n",
       "    <tr>\n",
       "      <th>4</th>\n",
       "      <td>1884-03-17</td>\n",
       "      <td>Wales</td>\n",
       "      <td>England</td>\n",
       "      <td>0</td>\n",
       "      <td>4</td>\n",
       "      <td>British Championship</td>\n",
       "      <td>Wrexham</td>\n",
       "      <td>Wales</td>\n",
       "      <td>False</td>\n",
       "      <td>1884</td>\n",
       "      <td>...</td>\n",
       "      <td>1</td>\n",
       "      <td>1.5</td>\n",
       "      <td>1.0</td>\n",
       "      <td>0.5000</td>\n",
       "      <td>1.0</td>\n",
       "      <td>0.5</td>\n",
       "      <td>-0.025</td>\n",
       "      <td>0.475</td>\n",
       "      <td>0.0</td>\n",
       "      <td>0.5</td>\n",
       "    </tr>\n",
       "  </tbody>\n",
       "</table>\n",
       "<p>5 rows × 23 columns</p>\n",
       "</div>"
      ],
      "text/plain": [
       "        date         home_team         away_team  home_score  away_score  \\\n",
       "0 1884-01-26  Northern Ireland          Scotland           0           5   \n",
       "1 1884-02-09             Wales  Northern Ireland           6           0   \n",
       "2 1884-02-23  Northern Ireland           England           1           8   \n",
       "3 1884-03-15          Scotland           England           1           0   \n",
       "4 1884-03-17             Wales           England           0           4   \n",
       "\n",
       "             tournament     city   country  neutral  year        ...         \\\n",
       "0  British Championship  Belfast   Ireland    False  1884        ...          \n",
       "1  British Championship  Wrexham     Wales    False  1884        ...          \n",
       "2  British Championship  Belfast   Ireland    False  1884        ...          \n",
       "3  British Championship  Glasgow  Scotland    False  1884        ...          \n",
       "4  British Championship  Wrexham     Wales    False  1884        ...          \n",
       "\n",
       "   sorted_result  sorted_result_plus home_hrva_rwma  home_hrvap_rwma  \\\n",
       "0             -1                -1.5            0.0           0.0000   \n",
       "1             -1                -0.5            0.0           0.0000   \n",
       "2              1                 1.5           -1.0          -0.9875   \n",
       "3             -1                -0.5            1.0           1.5000   \n",
       "4              1                 1.5            1.0           0.5000   \n",
       "\n",
       "   home_hrva_rmean  home_hrvap_rmean  away_hrva_rwma  away_hrvap_rwma  \\\n",
       "0              0.0               0.0           0.000            0.000   \n",
       "1              0.0               0.0          -1.000           -1.500   \n",
       "2             -1.0              -1.0           0.000            0.000   \n",
       "3              1.0               1.5           1.000            1.500   \n",
       "4              1.0               0.5          -0.025            0.475   \n",
       "\n",
       "   away_hrva_rmean  away_hrvap_rmean  \n",
       "0              0.0               0.0  \n",
       "1             -1.0              -1.5  \n",
       "2              0.0               0.0  \n",
       "3              1.0               1.5  \n",
       "4              0.0               0.5  \n",
       "\n",
       "[5 rows x 23 columns]"
      ]
     },
     "execution_count": 47,
     "metadata": {},
     "output_type": "execute_result"
    }
   ],
   "source": [
    "train_df = train_df.merge(overall_record_df[['team','date','hrva_rwma','hrvap_rwma','hrva_rmean','hrvap_rmean']], \n",
    "                  how = 'inner',\n",
    "                  left_on=['away_team','date'], \n",
    "                  right_on=['team','date'])\n",
    "\n",
    "train_df = train_df.drop(columns = 'team')\n",
    "\n",
    "#train_df.head()\n",
    "\n",
    "train_df = train_df.rename(columns={'hrva_rwma':'away_hrva_rwma', \n",
    "                                    'hrvap_rwma':'away_hrvap_rwma',\n",
    "                                    'hrva_rmean':'away_hrva_rmean',\n",
    "                                    'hrvap_rmean':'away_hrvap_rmean'\n",
    "                                    })\n",
    "\n",
    "train_df.head()"
   ]
  },
  {
   "cell_type": "code",
   "execution_count": 48,
   "metadata": {},
   "outputs": [],
   "source": [
    "train_df['diff_hrva_rwma']   = train_df['home_hrva_rwma']   - train_df['away_hrva_rwma']\n",
    "train_df['diff_hrvap_rwma']  = train_df['home_hrvap_rwma']  - train_df['away_hrvap_rwma']\n",
    "train_df['diff_hrva_rmean']  = train_df['home_hrva_rmean']  - train_df['away_hrva_rmean']\n",
    "train_df['diff_hrvap_rmean'] = train_df['home_hrvap_rmean'] - train_df['away_hrvap_rmean']"
   ]
  },
  {
   "cell_type": "code",
   "execution_count": 49,
   "metadata": {},
   "outputs": [
    {
     "data": {
      "text/html": [
       "<div>\n",
       "<style scoped>\n",
       "    .dataframe tbody tr th:only-of-type {\n",
       "        vertical-align: middle;\n",
       "    }\n",
       "\n",
       "    .dataframe tbody tr th {\n",
       "        vertical-align: top;\n",
       "    }\n",
       "\n",
       "    .dataframe thead th {\n",
       "        text-align: right;\n",
       "    }\n",
       "</style>\n",
       "<table border=\"1\" class=\"dataframe\">\n",
       "  <thead>\n",
       "    <tr style=\"text-align: right;\">\n",
       "      <th></th>\n",
       "      <th>date</th>\n",
       "      <th>home_team</th>\n",
       "      <th>away_team</th>\n",
       "      <th>home_score</th>\n",
       "      <th>away_score</th>\n",
       "      <th>tournament</th>\n",
       "      <th>city</th>\n",
       "      <th>country</th>\n",
       "      <th>neutral</th>\n",
       "      <th>year</th>\n",
       "      <th>...</th>\n",
       "      <th>home_hrva_rmean</th>\n",
       "      <th>home_hrvap_rmean</th>\n",
       "      <th>away_hrva_rwma</th>\n",
       "      <th>away_hrvap_rwma</th>\n",
       "      <th>away_hrva_rmean</th>\n",
       "      <th>away_hrvap_rmean</th>\n",
       "      <th>diff_hrva_rwma</th>\n",
       "      <th>diff_hrvap_rwma</th>\n",
       "      <th>diff_hrva_rmean</th>\n",
       "      <th>diff_hrvap_rmean</th>\n",
       "    </tr>\n",
       "  </thead>\n",
       "  <tbody>\n",
       "    <tr>\n",
       "      <th>23126</th>\n",
       "      <td>2018-06-09</td>\n",
       "      <td>Panjab</td>\n",
       "      <td>Cascadia</td>\n",
       "      <td>3</td>\n",
       "      <td>3</td>\n",
       "      <td>ConIFA World Football Cup</td>\n",
       "      <td>Rotherhithe</td>\n",
       "      <td>England</td>\n",
       "      <td>True</td>\n",
       "      <td>2018</td>\n",
       "      <td>...</td>\n",
       "      <td>0.20</td>\n",
       "      <td>0.30</td>\n",
       "      <td>0.219513</td>\n",
       "      <td>0.314398</td>\n",
       "      <td>0.200000</td>\n",
       "      <td>0.300000</td>\n",
       "      <td>-0.061037</td>\n",
       "      <td>-0.045678</td>\n",
       "      <td>0.000000</td>\n",
       "      <td>0.000000</td>\n",
       "    </tr>\n",
       "    <tr>\n",
       "      <th>23127</th>\n",
       "      <td>2018-06-09</td>\n",
       "      <td>Tibet</td>\n",
       "      <td>United Koreans in Japan</td>\n",
       "      <td>1</td>\n",
       "      <td>1</td>\n",
       "      <td>ConIFA World Football Cup</td>\n",
       "      <td>Rotherhithe</td>\n",
       "      <td>England</td>\n",
       "      <td>True</td>\n",
       "      <td>2018</td>\n",
       "      <td>...</td>\n",
       "      <td>-1.00</td>\n",
       "      <td>-1.00</td>\n",
       "      <td>-0.101922</td>\n",
       "      <td>-0.101922</td>\n",
       "      <td>-0.100000</td>\n",
       "      <td>-0.100000</td>\n",
       "      <td>-0.898078</td>\n",
       "      <td>-0.797877</td>\n",
       "      <td>-0.900000</td>\n",
       "      <td>-0.900000</td>\n",
       "    </tr>\n",
       "    <tr>\n",
       "      <th>23128</th>\n",
       "      <td>2018-06-09</td>\n",
       "      <td>Kabylia</td>\n",
       "      <td>Abkhazia</td>\n",
       "      <td>0</td>\n",
       "      <td>2</td>\n",
       "      <td>ConIFA World Football Cup</td>\n",
       "      <td>Aveley</td>\n",
       "      <td>England</td>\n",
       "      <td>True</td>\n",
       "      <td>2018</td>\n",
       "      <td>...</td>\n",
       "      <td>-0.20</td>\n",
       "      <td>-0.20</td>\n",
       "      <td>0.296786</td>\n",
       "      <td>0.233536</td>\n",
       "      <td>0.300000</td>\n",
       "      <td>0.225000</td>\n",
       "      <td>-0.456312</td>\n",
       "      <td>-0.393061</td>\n",
       "      <td>-0.500000</td>\n",
       "      <td>-0.425000</td>\n",
       "    </tr>\n",
       "    <tr>\n",
       "      <th>23129</th>\n",
       "      <td>2018-06-09</td>\n",
       "      <td>Matabeleland</td>\n",
       "      <td>Tamil Eelam</td>\n",
       "      <td>1</td>\n",
       "      <td>0</td>\n",
       "      <td>ConIFA World Football Cup</td>\n",
       "      <td>Aveley</td>\n",
       "      <td>England</td>\n",
       "      <td>True</td>\n",
       "      <td>2018</td>\n",
       "      <td>...</td>\n",
       "      <td>-0.25</td>\n",
       "      <td>-0.25</td>\n",
       "      <td>-0.506847</td>\n",
       "      <td>-0.427278</td>\n",
       "      <td>-0.538462</td>\n",
       "      <td>-0.461538</td>\n",
       "      <td>0.287761</td>\n",
       "      <td>0.208193</td>\n",
       "      <td>0.288462</td>\n",
       "      <td>0.211538</td>\n",
       "    </tr>\n",
       "    <tr>\n",
       "      <th>23130</th>\n",
       "      <td>2018-06-09</td>\n",
       "      <td>Barawa</td>\n",
       "      <td>Western Armenia</td>\n",
       "      <td>0</td>\n",
       "      <td>7</td>\n",
       "      <td>ConIFA World Football Cup</td>\n",
       "      <td>Haringey</td>\n",
       "      <td>England</td>\n",
       "      <td>False</td>\n",
       "      <td>2018</td>\n",
       "      <td>...</td>\n",
       "      <td>-0.20</td>\n",
       "      <td>-0.70</td>\n",
       "      <td>-0.210949</td>\n",
       "      <td>-0.169407</td>\n",
       "      <td>-0.200000</td>\n",
       "      <td>-0.150000</td>\n",
       "      <td>-0.029026</td>\n",
       "      <td>-0.570567</td>\n",
       "      <td>0.000000</td>\n",
       "      <td>-0.550000</td>\n",
       "    </tr>\n",
       "  </tbody>\n",
       "</table>\n",
       "<p>5 rows × 27 columns</p>\n",
       "</div>"
      ],
      "text/plain": [
       "            date     home_team                away_team  home_score  \\\n",
       "23126 2018-06-09        Panjab                 Cascadia           3   \n",
       "23127 2018-06-09         Tibet  United Koreans in Japan           1   \n",
       "23128 2018-06-09       Kabylia                 Abkhazia           0   \n",
       "23129 2018-06-09  Matabeleland              Tamil Eelam           1   \n",
       "23130 2018-06-09        Barawa          Western Armenia           0   \n",
       "\n",
       "       away_score                 tournament         city  country  neutral  \\\n",
       "23126           3  ConIFA World Football Cup  Rotherhithe  England     True   \n",
       "23127           1  ConIFA World Football Cup  Rotherhithe  England     True   \n",
       "23128           2  ConIFA World Football Cup       Aveley  England     True   \n",
       "23129           0  ConIFA World Football Cup       Aveley  England     True   \n",
       "23130           7  ConIFA World Football Cup     Haringey  England    False   \n",
       "\n",
       "       year        ...         home_hrva_rmean  home_hrvap_rmean  \\\n",
       "23126  2018        ...                    0.20              0.30   \n",
       "23127  2018        ...                   -1.00             -1.00   \n",
       "23128  2018        ...                   -0.20             -0.20   \n",
       "23129  2018        ...                   -0.25             -0.25   \n",
       "23130  2018        ...                   -0.20             -0.70   \n",
       "\n",
       "      away_hrva_rwma  away_hrvap_rwma  away_hrva_rmean  away_hrvap_rmean  \\\n",
       "23126       0.219513         0.314398         0.200000          0.300000   \n",
       "23127      -0.101922        -0.101922        -0.100000         -0.100000   \n",
       "23128       0.296786         0.233536         0.300000          0.225000   \n",
       "23129      -0.506847        -0.427278        -0.538462         -0.461538   \n",
       "23130      -0.210949        -0.169407        -0.200000         -0.150000   \n",
       "\n",
       "       diff_hrva_rwma  diff_hrvap_rwma  diff_hrva_rmean  diff_hrvap_rmean  \n",
       "23126       -0.061037        -0.045678         0.000000          0.000000  \n",
       "23127       -0.898078        -0.797877        -0.900000         -0.900000  \n",
       "23128       -0.456312        -0.393061        -0.500000         -0.425000  \n",
       "23129        0.287761         0.208193         0.288462          0.211538  \n",
       "23130       -0.029026        -0.570567         0.000000         -0.550000  \n",
       "\n",
       "[5 rows x 27 columns]"
      ]
     },
     "execution_count": 49,
     "metadata": {},
     "output_type": "execute_result"
    }
   ],
   "source": [
    "train_df.tail()"
   ]
  },
  {
   "cell_type": "code",
   "execution_count": 50,
   "metadata": {
    "scrolled": false
   },
   "outputs": [
    {
     "data": {
      "text/plain": [
       "<seaborn.axisgrid.PairGrid at 0x1190db358>"
      ]
     },
     "execution_count": 50,
     "metadata": {},
     "output_type": "execute_result"
    },
    {
     "data": {
      "image/png": "[encoded data removed]",
      "text/plain": [
       "<Figure size 793.375x720 with 20 Axes>"
      ]
     },
     "metadata": {},
     "output_type": "display_data"
    }
   ],
   "source": [
    "# Look at France vs Italy\n",
    "temp_pair_plot_df = train_df[train_df['sorted_matchup'] == 'France|Italy']\n",
    "sns.pairplot(temp_pair_plot_df, \n",
    "             vars = ['diff_hrva_rwma' , 'diff_hrvap_rwma' , 'diff_hrva_rmean' , 'diff_hrvap_rmean'] , \n",
    "             hue=\"sorted_result\")"
   ]
  },
  {
   "cell_type": "markdown",
   "metadata": {},
   "source": [
    "### 6.2  - Merge Features Back into Test Dataset (World Cup Matches)"
   ]
  },
  {
   "cell_type": "code",
   "execution_count": 51,
   "metadata": {
    "collapsed": true
   },
   "outputs": [],
   "source": [
    "# prep wc data\n",
    "\n",
    "# get final records from overall_record_df\n",
    "ovr_rec_pre_wc_df = overall_record_df.loc[overall_record_df.groupby('team').date.idxmax()]\n",
    "\n",
    "test_df = test_df.merge(ovr_rec_pre_wc_df[['team','date','hrva_rwma','hrvap_rwma','hrva_rmean','hrvap_rmean']], \n",
    "                  how = 'inner',\n",
    "                  left_on=['home_team'], \n",
    "                  right_on=['team'])\n",
    "\n",
    "test_df = test_df.drop(columns = 'team')\n",
    "\n",
    "test_df = test_df.rename(columns={'hrva_rwma':'home_hrva_rwma', \n",
    "                                  'hrvap_rwma':'home_hrvap_rwma',\n",
    "                                  'hrva_rmean':'home_hrva_rmean',\n",
    "                                  'hrvap_rmean':'home_hrvap_rmean'})\n",
    "#test_df.head()\n",
    "\n",
    "test_df = test_df.merge(ovr_rec_pre_wc_df[['team','date','hrva_rwma','hrvap_rwma','hrva_rmean','hrvap_rmean']], \n",
    "                  how = 'inner',\n",
    "                  left_on=['away_team'], \n",
    "                  right_on=['team'])\n",
    "\n",
    "test_df = test_df.drop(columns = 'team')\n",
    "\n",
    "test_df = test_df.rename(columns={'hrva_rwma':'away_hrva_rwma', \n",
    "                                  'hrvap_rwma':'away_hrvap_rwma',\n",
    "                                  'hrva_rmean':'away_hrva_rmean',\n",
    "                                  'hrvap_rmean':'away_hrvap_rmean'})"
   ]
  },
  {
   "cell_type": "code",
   "execution_count": 52,
   "metadata": {},
   "outputs": [
    {
     "data": {
      "text/html": [
       "<div>\n",
       "<style scoped>\n",
       "    .dataframe tbody tr th:only-of-type {\n",
       "        vertical-align: middle;\n",
       "    }\n",
       "\n",
       "    .dataframe tbody tr th {\n",
       "        vertical-align: top;\n",
       "    }\n",
       "\n",
       "    .dataframe thead th {\n",
       "        text-align: right;\n",
       "    }\n",
       "</style>\n",
       "<table border=\"1\" class=\"dataframe\">\n",
       "  <thead>\n",
       "    <tr style=\"text-align: right;\">\n",
       "      <th></th>\n",
       "      <th>date_x</th>\n",
       "      <th>home_team</th>\n",
       "      <th>away_team</th>\n",
       "      <th>home_score</th>\n",
       "      <th>away_score</th>\n",
       "      <th>tournament</th>\n",
       "      <th>city</th>\n",
       "      <th>country</th>\n",
       "      <th>neutral</th>\n",
       "      <th>year</th>\n",
       "      <th>...</th>\n",
       "      <th>home_hrvap_rmean</th>\n",
       "      <th>date</th>\n",
       "      <th>away_hrva_rwma</th>\n",
       "      <th>away_hrvap_rwma</th>\n",
       "      <th>away_hrva_rmean</th>\n",
       "      <th>away_hrvap_rmean</th>\n",
       "      <th>diff_hrva_rwma</th>\n",
       "      <th>diff_hrvap_rwma</th>\n",
       "      <th>diff_hrva_rmean</th>\n",
       "      <th>diff_hrvap_rmean</th>\n",
       "    </tr>\n",
       "  </thead>\n",
       "  <tbody>\n",
       "    <tr>\n",
       "      <th>0</th>\n",
       "      <td>2018-06-14</td>\n",
       "      <td>Russia</td>\n",
       "      <td>Saudi Arabia</td>\n",
       "      <td>5</td>\n",
       "      <td>0</td>\n",
       "      <td>FIFA World Cup</td>\n",
       "      <td>Moscow</td>\n",
       "      <td>Russia</td>\n",
       "      <td>False</td>\n",
       "      <td>2018</td>\n",
       "      <td>...</td>\n",
       "      <td>0.301587</td>\n",
       "      <td>2017-09-05</td>\n",
       "      <td>0.237083</td>\n",
       "      <td>0.181048</td>\n",
       "      <td>0.195122</td>\n",
       "      <td>0.121951</td>\n",
       "      <td>-0.039466</td>\n",
       "      <td>-0.021031</td>\n",
       "      <td>0.106465</td>\n",
       "      <td>0.179636</td>\n",
       "    </tr>\n",
       "    <tr>\n",
       "      <th>1</th>\n",
       "      <td>2018-06-20</td>\n",
       "      <td>Uruguay</td>\n",
       "      <td>Saudi Arabia</td>\n",
       "      <td>1</td>\n",
       "      <td>0</td>\n",
       "      <td>FIFA World Cup</td>\n",
       "      <td>Rostov-On-Don</td>\n",
       "      <td>Russia</td>\n",
       "      <td>True</td>\n",
       "      <td>2018</td>\n",
       "      <td>...</td>\n",
       "      <td>0.115854</td>\n",
       "      <td>2017-09-05</td>\n",
       "      <td>0.237083</td>\n",
       "      <td>0.181048</td>\n",
       "      <td>0.195122</td>\n",
       "      <td>0.121951</td>\n",
       "      <td>-0.196469</td>\n",
       "      <td>-0.095657</td>\n",
       "      <td>-0.109756</td>\n",
       "      <td>-0.006098</td>\n",
       "    </tr>\n",
       "    <tr>\n",
       "      <th>2</th>\n",
       "      <td>2018-06-19</td>\n",
       "      <td>Russia</td>\n",
       "      <td>Egypt</td>\n",
       "      <td>3</td>\n",
       "      <td>1</td>\n",
       "      <td>FIFA World Cup</td>\n",
       "      <td>St. Petersburg</td>\n",
       "      <td>Russia</td>\n",
       "      <td>False</td>\n",
       "      <td>2018</td>\n",
       "      <td>...</td>\n",
       "      <td>0.301587</td>\n",
       "      <td>2017-11-12</td>\n",
       "      <td>0.383540</td>\n",
       "      <td>0.349698</td>\n",
       "      <td>0.450704</td>\n",
       "      <td>0.401408</td>\n",
       "      <td>-0.185923</td>\n",
       "      <td>-0.189681</td>\n",
       "      <td>-0.149117</td>\n",
       "      <td>-0.099821</td>\n",
       "    </tr>\n",
       "    <tr>\n",
       "      <th>3</th>\n",
       "      <td>2018-06-25</td>\n",
       "      <td>Saudi Arabia</td>\n",
       "      <td>Egypt</td>\n",
       "      <td>2</td>\n",
       "      <td>1</td>\n",
       "      <td>FIFA World Cup</td>\n",
       "      <td>Volgograd</td>\n",
       "      <td>Russia</td>\n",
       "      <td>True</td>\n",
       "      <td>2018</td>\n",
       "      <td>...</td>\n",
       "      <td>0.121951</td>\n",
       "      <td>2017-11-12</td>\n",
       "      <td>0.383540</td>\n",
       "      <td>0.349698</td>\n",
       "      <td>0.450704</td>\n",
       "      <td>0.401408</td>\n",
       "      <td>-0.146457</td>\n",
       "      <td>-0.168650</td>\n",
       "      <td>-0.255582</td>\n",
       "      <td>-0.279457</td>\n",
       "    </tr>\n",
       "    <tr>\n",
       "      <th>4</th>\n",
       "      <td>2018-07-07</td>\n",
       "      <td>Russia</td>\n",
       "      <td>Croatia</td>\n",
       "      <td>2</td>\n",
       "      <td>2</td>\n",
       "      <td>FIFA World Cup</td>\n",
       "      <td>Sochi</td>\n",
       "      <td>Russia</td>\n",
       "      <td>False</td>\n",
       "      <td>2018</td>\n",
       "      <td>...</td>\n",
       "      <td>0.301587</td>\n",
       "      <td>2017-11-12</td>\n",
       "      <td>0.363686</td>\n",
       "      <td>0.338624</td>\n",
       "      <td>0.366197</td>\n",
       "      <td>0.380282</td>\n",
       "      <td>-0.166070</td>\n",
       "      <td>-0.178607</td>\n",
       "      <td>-0.064610</td>\n",
       "      <td>-0.078694</td>\n",
       "    </tr>\n",
       "  </tbody>\n",
       "</table>\n",
       "<p>5 rows × 29 columns</p>\n",
       "</div>"
      ],
      "text/plain": [
       "      date_x     home_team     away_team  home_score  away_score  \\\n",
       "0 2018-06-14        Russia  Saudi Arabia           5           0   \n",
       "1 2018-06-20       Uruguay  Saudi Arabia           1           0   \n",
       "2 2018-06-19        Russia         Egypt           3           1   \n",
       "3 2018-06-25  Saudi Arabia         Egypt           2           1   \n",
       "4 2018-07-07        Russia       Croatia           2           2   \n",
       "\n",
       "       tournament            city country  neutral  year        ...         \\\n",
       "0  FIFA World Cup          Moscow  Russia    False  2018        ...          \n",
       "1  FIFA World Cup   Rostov-On-Don  Russia     True  2018        ...          \n",
       "2  FIFA World Cup  St. Petersburg  Russia    False  2018        ...          \n",
       "3  FIFA World Cup       Volgograd  Russia     True  2018        ...          \n",
       "4  FIFA World Cup           Sochi  Russia    False  2018        ...          \n",
       "\n",
       "   home_hrvap_rmean       date away_hrva_rwma  away_hrvap_rwma  \\\n",
       "0          0.301587 2017-09-05       0.237083         0.181048   \n",
       "1          0.115854 2017-09-05       0.237083         0.181048   \n",
       "2          0.301587 2017-11-12       0.383540         0.349698   \n",
       "3          0.121951 2017-11-12       0.383540         0.349698   \n",
       "4          0.301587 2017-11-12       0.363686         0.338624   \n",
       "\n",
       "   away_hrva_rmean away_hrvap_rmean  diff_hrva_rwma  diff_hrvap_rwma  \\\n",
       "0         0.195122         0.121951       -0.039466        -0.021031   \n",
       "1         0.195122         0.121951       -0.196469        -0.095657   \n",
       "2         0.450704         0.401408       -0.185923        -0.189681   \n",
       "3         0.450704         0.401408       -0.146457        -0.168650   \n",
       "4         0.366197         0.380282       -0.166070        -0.178607   \n",
       "\n",
       "   diff_hrva_rmean  diff_hrvap_rmean  \n",
       "0         0.106465          0.179636  \n",
       "1        -0.109756         -0.006098  \n",
       "2        -0.149117         -0.099821  \n",
       "3        -0.255582         -0.279457  \n",
       "4        -0.064610         -0.078694  \n",
       "\n",
       "[5 rows x 29 columns]"
      ]
     },
     "execution_count": 52,
     "metadata": {},
     "output_type": "execute_result"
    }
   ],
   "source": [
    "test_df['diff_hrva_rwma']   = test_df['home_hrva_rwma']   - test_df['away_hrva_rwma']\n",
    "test_df['diff_hrvap_rwma']  = test_df['home_hrvap_rwma']  - test_df['away_hrvap_rwma']\n",
    "test_df['diff_hrva_rmean']  = test_df['home_hrva_rmean']  - test_df['away_hrva_rmean']\n",
    "test_df['diff_hrvap_rmean'] = test_df['home_hrvap_rmean'] - test_df['away_hrvap_rmean']\n",
    "\n",
    "test_df.head()"
   ]
  },
  {
   "cell_type": "markdown",
   "metadata": {},
   "source": [
    "# Remove later - start"
   ]
  },
  {
   "cell_type": "code",
   "execution_count": 53,
   "metadata": {},
   "outputs": [],
   "source": [
    "train_df_red = train_df[train_df['date'] >= '2010-01-01']\n",
    "\n",
    "x_train = train_df_red[['diff_hrva_rwma']]\n",
    "y_train = train_df_red['result']"
   ]
  },
  {
   "cell_type": "code",
   "execution_count": 54,
   "metadata": {},
   "outputs": [],
   "source": [
    "x_test = test_df[['diff_hrva_rwma']]\n",
    "y_test = test_df['result']"
   ]
  },
  {
   "cell_type": "code",
   "execution_count": 55,
   "metadata": {},
   "outputs": [
    {
     "name": "stdout",
     "output_type": "stream",
     "text": [
      "Logistic Regression Train Score:  0.575311669732\n",
      "Logistic Regression CV Train Score:  0.574702359057\n",
      "LDA Train Score:  0.574902922542\n",
      "LDA CV Train Score:  0.574293361102\n",
      "QDA Train Score:  0.573676680973\n",
      "QDA CV Train Score:  0.573677983341\n"
     ]
    }
   ],
   "source": [
    "simple_logistic_model = LogisticRegressionCV(multi_class = 'ovr', cv=5, penalty='l2')\n",
    "simple_logistic_model.fit(x_train, y_train)\n",
    "\n",
    "lda = LinearDiscriminantAnalysis()\n",
    "qda = QuadraticDiscriminantAnalysis()\n",
    "\n",
    "lda.fit(x_train, y_train)\n",
    "qda.fit(x_train, y_train)\n",
    "\n",
    "print('Logistic Regression Train Score: ',simple_logistic_model.score(x_train, y_train))\n",
    "print('Logistic Regression CV Train Score: ',cross_val_score(simple_logistic_model, x_train, y_train, cv=5).mean())\n",
    "print('LDA Train Score: ',lda.score(x_train, y_train))\n",
    "print('LDA CV Train Score: ',cross_val_score(lda, x_train, y_train, cv=5).mean())\n",
    "print('QDA Train Score: ',qda.score(x_train, y_train))\n",
    "print('QDA CV Train Score: ',cross_val_score(qda, x_train, y_train, cv=5).mean())"
   ]
  },
  {
   "cell_type": "code",
   "execution_count": 56,
   "metadata": {},
   "outputs": [
    {
     "name": "stdout",
     "output_type": "stream",
     "text": [
      "Logistic Regression Test Score:  0.46875\n",
      "LDA Test Score:  0.453125\n",
      "QDA Test Score:  0.46875\n"
     ]
    }
   ],
   "source": [
    "# choosing lda and qda as they both produced very similar scores on CV data\n",
    "print('Logistic Regression Test Score: ',simple_logistic_model.score(x_test, y_test))\n",
    "print('LDA Test Score: ',lda.score(x_test, y_test))\n",
    "print('QDA Test Score: ',qda.score(x_test, y_test))"
   ]
  },
  {
   "cell_type": "code",
   "execution_count": 57,
   "metadata": {},
   "outputs": [
    {
     "data": {
      "text/html": [
       "<div>\n",
       "<style scoped>\n",
       "    .dataframe tbody tr th:only-of-type {\n",
       "        vertical-align: middle;\n",
       "    }\n",
       "\n",
       "    .dataframe tbody tr th {\n",
       "        vertical-align: top;\n",
       "    }\n",
       "\n",
       "    .dataframe thead th {\n",
       "        text-align: right;\n",
       "    }\n",
       "</style>\n",
       "<table border=\"1\" class=\"dataframe\">\n",
       "  <thead>\n",
       "    <tr style=\"text-align: right;\">\n",
       "      <th>Predicted</th>\n",
       "      <th>-1</th>\n",
       "      <th>1</th>\n",
       "      <th>All</th>\n",
       "    </tr>\n",
       "    <tr>\n",
       "      <th>Actual</th>\n",
       "      <th></th>\n",
       "      <th></th>\n",
       "      <th></th>\n",
       "    </tr>\n",
       "  </thead>\n",
       "  <tbody>\n",
       "    <tr>\n",
       "      <th>-1</th>\n",
       "      <td>10</td>\n",
       "      <td>15</td>\n",
       "      <td>25</td>\n",
       "    </tr>\n",
       "    <tr>\n",
       "      <th>0</th>\n",
       "      <td>2</td>\n",
       "      <td>11</td>\n",
       "      <td>13</td>\n",
       "    </tr>\n",
       "    <tr>\n",
       "      <th>1</th>\n",
       "      <td>6</td>\n",
       "      <td>20</td>\n",
       "      <td>26</td>\n",
       "    </tr>\n",
       "    <tr>\n",
       "      <th>All</th>\n",
       "      <td>18</td>\n",
       "      <td>46</td>\n",
       "      <td>64</td>\n",
       "    </tr>\n",
       "  </tbody>\n",
       "</table>\n",
       "</div>"
      ],
      "text/plain": [
       "Predicted  -1   1  All\n",
       "Actual                \n",
       "-1         10  15   25\n",
       "0           2  11   13\n",
       "1           6  20   26\n",
       "All        18  46   64"
      ]
     },
     "execution_count": 57,
     "metadata": {},
     "output_type": "execute_result"
    }
   ],
   "source": [
    "# confusion matrix for the logistic regression model\n",
    "pd.crosstab(np.array(y_test), simple_logistic_model.predict(x_test), margins=True, rownames=['Actual'], colnames=['Predicted'])"
   ]
  },
  {
   "cell_type": "code",
   "execution_count": 58,
   "metadata": {},
   "outputs": [
    {
     "data": {
      "text/html": [
       "<div>\n",
       "<style scoped>\n",
       "    .dataframe tbody tr th:only-of-type {\n",
       "        vertical-align: middle;\n",
       "    }\n",
       "\n",
       "    .dataframe tbody tr th {\n",
       "        vertical-align: top;\n",
       "    }\n",
       "\n",
       "    .dataframe thead th {\n",
       "        text-align: right;\n",
       "    }\n",
       "</style>\n",
       "<table border=\"1\" class=\"dataframe\">\n",
       "  <thead>\n",
       "    <tr style=\"text-align: right;\">\n",
       "      <th>Predicted</th>\n",
       "      <th>-1</th>\n",
       "      <th>1</th>\n",
       "      <th>All</th>\n",
       "    </tr>\n",
       "    <tr>\n",
       "      <th>Actual</th>\n",
       "      <th></th>\n",
       "      <th></th>\n",
       "      <th></th>\n",
       "    </tr>\n",
       "  </thead>\n",
       "  <tbody>\n",
       "    <tr>\n",
       "      <th>-1</th>\n",
       "      <td>9</td>\n",
       "      <td>16</td>\n",
       "      <td>25</td>\n",
       "    </tr>\n",
       "    <tr>\n",
       "      <th>0</th>\n",
       "      <td>1</td>\n",
       "      <td>12</td>\n",
       "      <td>13</td>\n",
       "    </tr>\n",
       "    <tr>\n",
       "      <th>1</th>\n",
       "      <td>6</td>\n",
       "      <td>20</td>\n",
       "      <td>26</td>\n",
       "    </tr>\n",
       "    <tr>\n",
       "      <th>All</th>\n",
       "      <td>16</td>\n",
       "      <td>48</td>\n",
       "      <td>64</td>\n",
       "    </tr>\n",
       "  </tbody>\n",
       "</table>\n",
       "</div>"
      ],
      "text/plain": [
       "Predicted  -1   1  All\n",
       "Actual                \n",
       "-1          9  16   25\n",
       "0           1  12   13\n",
       "1           6  20   26\n",
       "All        16  48   64"
      ]
     },
     "execution_count": 58,
     "metadata": {},
     "output_type": "execute_result"
    }
   ],
   "source": [
    "# confusion matrix for the lda model\n",
    "pd.crosstab(np.array(y_test), lda.predict(x_test), margins=True, rownames=['Actual'], colnames=['Predicted'])"
   ]
  },
  {
   "cell_type": "code",
   "execution_count": 59,
   "metadata": {},
   "outputs": [
    {
     "data": {
      "text/html": [
       "<div>\n",
       "<style scoped>\n",
       "    .dataframe tbody tr th:only-of-type {\n",
       "        vertical-align: middle;\n",
       "    }\n",
       "\n",
       "    .dataframe tbody tr th {\n",
       "        vertical-align: top;\n",
       "    }\n",
       "\n",
       "    .dataframe thead th {\n",
       "        text-align: right;\n",
       "    }\n",
       "</style>\n",
       "<table border=\"1\" class=\"dataframe\">\n",
       "  <thead>\n",
       "    <tr style=\"text-align: right;\">\n",
       "      <th>Predicted</th>\n",
       "      <th>-1</th>\n",
       "      <th>1</th>\n",
       "      <th>All</th>\n",
       "    </tr>\n",
       "    <tr>\n",
       "      <th>Actual</th>\n",
       "      <th></th>\n",
       "      <th></th>\n",
       "      <th></th>\n",
       "    </tr>\n",
       "  </thead>\n",
       "  <tbody>\n",
       "    <tr>\n",
       "      <th>-1</th>\n",
       "      <td>8</td>\n",
       "      <td>17</td>\n",
       "      <td>25</td>\n",
       "    </tr>\n",
       "    <tr>\n",
       "      <th>0</th>\n",
       "      <td>1</td>\n",
       "      <td>12</td>\n",
       "      <td>13</td>\n",
       "    </tr>\n",
       "    <tr>\n",
       "      <th>1</th>\n",
       "      <td>4</td>\n",
       "      <td>22</td>\n",
       "      <td>26</td>\n",
       "    </tr>\n",
       "    <tr>\n",
       "      <th>All</th>\n",
       "      <td>13</td>\n",
       "      <td>51</td>\n",
       "      <td>64</td>\n",
       "    </tr>\n",
       "  </tbody>\n",
       "</table>\n",
       "</div>"
      ],
      "text/plain": [
       "Predicted  -1   1  All\n",
       "Actual                \n",
       "-1          8  17   25\n",
       "0           1  12   13\n",
       "1           4  22   26\n",
       "All        13  51   64"
      ]
     },
     "execution_count": 59,
     "metadata": {},
     "output_type": "execute_result"
    }
   ],
   "source": [
    "# confusion matrix for the qda model\n",
    "pd.crosstab(np.array(y_test), qda.predict(x_test), margins=True, rownames=['Actual'], colnames=['Predicted'])"
   ]
  },
  {
   "cell_type": "code",
   "execution_count": null,
   "metadata": {
    "collapsed": true
   },
   "outputs": [],
   "source": []
  },
  {
   "cell_type": "code",
   "execution_count": null,
   "metadata": {
    "collapsed": true
   },
   "outputs": [],
   "source": []
  },
  {
   "cell_type": "code",
   "execution_count": null,
   "metadata": {
    "collapsed": true
   },
   "outputs": [],
   "source": []
  },
  {
   "cell_type": "code",
   "execution_count": null,
   "metadata": {
    "collapsed": true
   },
   "outputs": [],
   "source": []
  },
  {
   "cell_type": "markdown",
   "metadata": {},
   "source": [
    "# Remove later - end"
   ]
  },
  {
   "cell_type": "markdown",
   "metadata": {},
   "source": [
    "## 7  - Merge Data Back into Project Dataset"
   ]
  },
  {
   "cell_type": "code",
   "execution_count": 74,
   "metadata": {
    "collapsed": true
   },
   "outputs": [],
   "source": [
    "project_df = pd.read_csv(\"data/team/M4_data_nikhil.csv\")\n",
    "project_df = project_df.sort_values(['date','home_team','away_team'])"
   ]
  },
  {
   "cell_type": "code",
   "execution_count": 75,
   "metadata": {},
   "outputs": [
    {
     "data": {
      "text/html": [
       "<div>\n",
       "<style scoped>\n",
       "    .dataframe tbody tr th:only-of-type {\n",
       "        vertical-align: middle;\n",
       "    }\n",
       "\n",
       "    .dataframe tbody tr th {\n",
       "        vertical-align: top;\n",
       "    }\n",
       "\n",
       "    .dataframe thead th {\n",
       "        text-align: right;\n",
       "    }\n",
       "</style>\n",
       "<table border=\"1\" class=\"dataframe\">\n",
       "  <thead>\n",
       "    <tr style=\"text-align: right;\">\n",
       "      <th></th>\n",
       "      <th>date</th>\n",
       "      <th>home_team</th>\n",
       "      <th>away_team</th>\n",
       "      <th>home_score</th>\n",
       "      <th>away_score</th>\n",
       "      <th>tournament</th>\n",
       "      <th>city</th>\n",
       "      <th>country</th>\n",
       "      <th>neutral</th>\n",
       "      <th>home_rank</th>\n",
       "      <th>...</th>\n",
       "      <th>away_MID_wt</th>\n",
       "      <th>ATT_age_diff</th>\n",
       "      <th>DEF_age_diff</th>\n",
       "      <th>MID_age_diff</th>\n",
       "      <th>ATT_ht_diff</th>\n",
       "      <th>DEF_ht_diff</th>\n",
       "      <th>MID_ht_diff</th>\n",
       "      <th>ATT_wt_diff</th>\n",
       "      <th>DEF_wt_diff</th>\n",
       "      <th>MID_wt_diff</th>\n",
       "    </tr>\n",
       "  </thead>\n",
       "  <tbody>\n",
       "    <tr>\n",
       "      <th>0</th>\n",
       "      <td>2010-05-26</td>\n",
       "      <td>France</td>\n",
       "      <td>Costa Rica</td>\n",
       "      <td>2</td>\n",
       "      <td>1</td>\n",
       "      <td>Friendly</td>\n",
       "      <td>Lens</td>\n",
       "      <td>France</td>\n",
       "      <td>0</td>\n",
       "      <td>9</td>\n",
       "      <td>...</td>\n",
       "      <td>77.750000</td>\n",
       "      <td>-7.833333</td>\n",
       "      <td>-2.800000</td>\n",
       "      <td>-0.750000</td>\n",
       "      <td>2.000000</td>\n",
       "      <td>4.200000</td>\n",
       "      <td>0.00</td>\n",
       "      <td>-2.333333</td>\n",
       "      <td>8.800000</td>\n",
       "      <td>-2.35</td>\n",
       "    </tr>\n",
       "    <tr>\n",
       "      <th>53</th>\n",
       "      <td>2010-05-26</td>\n",
       "      <td>Netherlands</td>\n",
       "      <td>Mexico</td>\n",
       "      <td>2</td>\n",
       "      <td>1</td>\n",
       "      <td>Friendly</td>\n",
       "      <td>Freiburg</td>\n",
       "      <td>Germany</td>\n",
       "      <td>1</td>\n",
       "      <td>4</td>\n",
       "      <td>...</td>\n",
       "      <td>72.000000</td>\n",
       "      <td>1.500000</td>\n",
       "      <td>3.450000</td>\n",
       "      <td>-0.500000</td>\n",
       "      <td>2.000000</td>\n",
       "      <td>7.350000</td>\n",
       "      <td>-0.25</td>\n",
       "      <td>-3.500000</td>\n",
       "      <td>10.700000</td>\n",
       "      <td>2.50</td>\n",
       "    </tr>\n",
       "    <tr>\n",
       "      <th>92</th>\n",
       "      <td>2010-05-26</td>\n",
       "      <td>Northern Ireland</td>\n",
       "      <td>Turkey</td>\n",
       "      <td>0</td>\n",
       "      <td>2</td>\n",
       "      <td>Friendly</td>\n",
       "      <td>New Britain</td>\n",
       "      <td>USA</td>\n",
       "      <td>1</td>\n",
       "      <td>56</td>\n",
       "      <td>...</td>\n",
       "      <td>79.666667</td>\n",
       "      <td>-1.733333</td>\n",
       "      <td>4.066667</td>\n",
       "      <td>0.333333</td>\n",
       "      <td>-1.933333</td>\n",
       "      <td>7.866667</td>\n",
       "      <td>-3.00</td>\n",
       "      <td>-12.000000</td>\n",
       "      <td>1.800000</td>\n",
       "      <td>-8.00</td>\n",
       "    </tr>\n",
       "    <tr>\n",
       "      <th>94</th>\n",
       "      <td>2010-05-27</td>\n",
       "      <td>Denmark</td>\n",
       "      <td>Senegal</td>\n",
       "      <td>2</td>\n",
       "      <td>0</td>\n",
       "      <td>Friendly</td>\n",
       "      <td>Aalborg</td>\n",
       "      <td>Denmark</td>\n",
       "      <td>0</td>\n",
       "      <td>36</td>\n",
       "      <td>...</td>\n",
       "      <td>74.500000</td>\n",
       "      <td>-0.500000</td>\n",
       "      <td>5.000000</td>\n",
       "      <td>-1.750000</td>\n",
       "      <td>-0.100000</td>\n",
       "      <td>8.200000</td>\n",
       "      <td>-1.00</td>\n",
       "      <td>-2.600000</td>\n",
       "      <td>6.550000</td>\n",
       "      <td>-1.75</td>\n",
       "    </tr>\n",
       "    <tr>\n",
       "      <th>116</th>\n",
       "      <td>2010-05-27</td>\n",
       "      <td>South Africa</td>\n",
       "      <td>Colombia</td>\n",
       "      <td>2</td>\n",
       "      <td>1</td>\n",
       "      <td>Friendly</td>\n",
       "      <td>Johannesburg</td>\n",
       "      <td>South Africa</td>\n",
       "      <td>0</td>\n",
       "      <td>83</td>\n",
       "      <td>...</td>\n",
       "      <td>81.000000</td>\n",
       "      <td>-4.750000</td>\n",
       "      <td>-0.750000</td>\n",
       "      <td>1.950000</td>\n",
       "      <td>-6.500000</td>\n",
       "      <td>-0.416667</td>\n",
       "      <td>-3.15</td>\n",
       "      <td>-11.000000</td>\n",
       "      <td>-2.916667</td>\n",
       "      <td>-6.60</td>\n",
       "    </tr>\n",
       "  </tbody>\n",
       "</table>\n",
       "<p>5 rows × 66 columns</p>\n",
       "</div>"
      ],
      "text/plain": [
       "           date         home_team   away_team  home_score  away_score  \\\n",
       "0    2010-05-26            France  Costa Rica           2           1   \n",
       "53   2010-05-26       Netherlands      Mexico           2           1   \n",
       "92   2010-05-26  Northern Ireland      Turkey           0           2   \n",
       "94   2010-05-27           Denmark     Senegal           2           0   \n",
       "116  2010-05-27      South Africa    Colombia           2           1   \n",
       "\n",
       "    tournament          city       country  neutral  home_rank     ...       \\\n",
       "0     Friendly          Lens        France        0          9     ...        \n",
       "53    Friendly      Freiburg       Germany        1          4     ...        \n",
       "92    Friendly   New Britain           USA        1         56     ...        \n",
       "94    Friendly       Aalborg       Denmark        0         36     ...        \n",
       "116   Friendly  Johannesburg  South Africa        0         83     ...        \n",
       "\n",
       "     away_MID_wt  ATT_age_diff  DEF_age_diff  MID_age_diff  ATT_ht_diff  \\\n",
       "0      77.750000     -7.833333     -2.800000     -0.750000     2.000000   \n",
       "53     72.000000      1.500000      3.450000     -0.500000     2.000000   \n",
       "92     79.666667     -1.733333      4.066667      0.333333    -1.933333   \n",
       "94     74.500000     -0.500000      5.000000     -1.750000    -0.100000   \n",
       "116    81.000000     -4.750000     -0.750000      1.950000    -6.500000   \n",
       "\n",
       "    DEF_ht_diff  MID_ht_diff  ATT_wt_diff  DEF_wt_diff  MID_wt_diff  \n",
       "0      4.200000         0.00    -2.333333     8.800000        -2.35  \n",
       "53     7.350000        -0.25    -3.500000    10.700000         2.50  \n",
       "92     7.866667        -3.00   -12.000000     1.800000        -8.00  \n",
       "94     8.200000        -1.00    -2.600000     6.550000        -1.75  \n",
       "116   -0.416667        -3.15   -11.000000    -2.916667        -6.60  \n",
       "\n",
       "[5 rows x 66 columns]"
      ]
     },
     "execution_count": 75,
     "metadata": {},
     "output_type": "execute_result"
    }
   ],
   "source": [
    "project_df.head()"
   ]
  },
  {
   "cell_type": "code",
   "execution_count": 77,
   "metadata": {},
   "outputs": [
    {
     "data": {
      "text/plain": [
       "1639"
      ]
     },
     "execution_count": 77,
     "metadata": {},
     "output_type": "execute_result"
    }
   ],
   "source": [
    "project_df.date = project_df.date.values.astype(\"datetime64\")\n",
    "len(project_df)"
   ]
  },
  {
   "cell_type": "code",
   "execution_count": 63,
   "metadata": {},
   "outputs": [
    {
     "data": {
      "text/plain": [
       "23131"
      ]
     },
     "execution_count": 63,
     "metadata": {},
     "output_type": "execute_result"
    }
   ],
   "source": [
    "len(train_df)"
   ]
  },
  {
   "cell_type": "code",
   "execution_count": 64,
   "metadata": {},
   "outputs": [
    {
     "name": "stdout",
     "output_type": "stream",
     "text": [
      "<class 'pandas.core.frame.DataFrame'>\n",
      "Int64Index: 23131 entries, 0 to 23130\n",
      "Data columns (total 27 columns):\n",
      "date                  23131 non-null datetime64[ns]\n",
      "home_team             23131 non-null object\n",
      "away_team             23131 non-null object\n",
      "home_score            23131 non-null int64\n",
      "away_score            23131 non-null int64\n",
      "tournament            23131 non-null object\n",
      "city                  23131 non-null object\n",
      "country               23131 non-null object\n",
      "neutral               23131 non-null bool\n",
      "year                  23131 non-null int64\n",
      "result                23131 non-null int64\n",
      "result_plus           23131 non-null float64\n",
      "sorted_matchup        23131 non-null object\n",
      "sorted_result         23131 non-null int64\n",
      "sorted_result_plus    23131 non-null float64\n",
      "home_hrva_rwma        23131 non-null float64\n",
      "home_hrvap_rwma       23131 non-null float64\n",
      "home_hrva_rmean       23131 non-null float64\n",
      "home_hrvap_rmean      23131 non-null float64\n",
      "away_hrva_rwma        23131 non-null float64\n",
      "away_hrvap_rwma       23131 non-null float64\n",
      "away_hrva_rmean       23131 non-null float64\n",
      "away_hrvap_rmean      23131 non-null float64\n",
      "diff_hrva_rwma        23131 non-null float64\n",
      "diff_hrvap_rwma       23131 non-null float64\n",
      "diff_hrva_rmean       23131 non-null float64\n",
      "diff_hrvap_rmean      23131 non-null float64\n",
      "dtypes: bool(1), datetime64[ns](1), float64(14), int64(5), object(6)\n",
      "memory usage: 4.8+ MB\n"
     ]
    }
   ],
   "source": [
    "train_df.info()"
   ]
  },
  {
   "cell_type": "code",
   "execution_count": 65,
   "metadata": {},
   "outputs": [
    {
     "name": "stdout",
     "output_type": "stream",
     "text": [
      "<class 'pandas.core.frame.DataFrame'>\n",
      "RangeIndex: 1639 entries, 0 to 1638\n",
      "Data columns (total 66 columns):\n",
      "date                                1639 non-null datetime64[ns]\n",
      "home_team                           1639 non-null object\n",
      "away_team                           1639 non-null object\n",
      "home_score                          1639 non-null int64\n",
      "away_score                          1639 non-null int64\n",
      "tournament                          1639 non-null object\n",
      "city                                1639 non-null object\n",
      "country                             1639 non-null object\n",
      "neutral                             1639 non-null int64\n",
      "home_rank                           1639 non-null int64\n",
      "home_rank_pts                       1639 non-null int64\n",
      "away_rank                           1639 non-null int64\n",
      "away_rank_pts                       1639 non-null int64\n",
      "rank_diff                           1639 non-null int64\n",
      "rank_pts_diff                       1639 non-null int64\n",
      "outcome                             1639 non-null object\n",
      "outcome_num                         1639 non-null int64\n",
      "home_game                           1639 non-null int64\n",
      "away_game                           1639 non-null int64\n",
      "home_OVR                            1639 non-null int64\n",
      "home_ATT                            1639 non-null int64\n",
      "home_MID                            1639 non-null int64\n",
      "home_DEF                            1639 non-null int64\n",
      "home_team_id                        1639 non-null int64\n",
      "home_team_uid                       1639 non-null object\n",
      "home_team_international_prestige    1639 non-null int64\n",
      "away_OVR                            1639 non-null int64\n",
      "away_ATT                            1639 non-null int64\n",
      "away_MID                            1639 non-null int64\n",
      "away_DEF                            1639 non-null int64\n",
      "away_team_id                        1639 non-null int64\n",
      "away_team_uid                       1639 non-null object\n",
      "away_team_international_prestige    1639 non-null int64\n",
      "ATT_diff                            1639 non-null int64\n",
      "DEF_diff                            1639 non-null int64\n",
      "MID_diff                            1639 non-null int64\n",
      "Friendly                            1639 non-null int64\n",
      "team_uid_x                          1639 non-null object\n",
      "home_ATT_age                        1639 non-null float64\n",
      "home_DEF_age                        1639 non-null float64\n",
      "home_MID_age                        1639 non-null float64\n",
      "home_ATT_ht                         1639 non-null float64\n",
      "home_DEF_ht                         1639 non-null float64\n",
      "home_MID_ht                         1639 non-null float64\n",
      "home_ATT_wt                         1639 non-null float64\n",
      "home_DEF_wt                         1639 non-null float64\n",
      "home_MID_wt                         1639 non-null float64\n",
      "team_uid_y                          1639 non-null object\n",
      "away_ATT_age                        1639 non-null float64\n",
      "away_DEF_age                        1639 non-null float64\n",
      "away_MID_age                        1639 non-null float64\n",
      "away_ATT_ht                         1639 non-null float64\n",
      "away_DEF_ht                         1639 non-null float64\n",
      "away_MID_ht                         1639 non-null float64\n",
      "away_ATT_wt                         1639 non-null float64\n",
      "away_DEF_wt                         1639 non-null float64\n",
      "away_MID_wt                         1639 non-null float64\n",
      "ATT_age_diff                        1639 non-null float64\n",
      "DEF_age_diff                        1639 non-null float64\n",
      "MID_age_diff                        1639 non-null float64\n",
      "ATT_ht_diff                         1639 non-null float64\n",
      "DEF_ht_diff                         1639 non-null float64\n",
      "MID_ht_diff                         1639 non-null float64\n",
      "ATT_wt_diff                         1639 non-null float64\n",
      "DEF_wt_diff                         1639 non-null float64\n",
      "MID_wt_diff                         1639 non-null float64\n",
      "dtypes: datetime64[ns](1), float64(27), int64(28), object(10)\n",
      "memory usage: 845.2+ KB\n"
     ]
    }
   ],
   "source": [
    "project_df.info()"
   ]
  },
  {
   "cell_type": "code",
   "execution_count": 66,
   "metadata": {
    "collapsed": true
   },
   "outputs": [],
   "source": [
    "# Merge train data"
   ]
  },
  {
   "cell_type": "code",
   "execution_count": 67,
   "metadata": {
    "collapsed": true
   },
   "outputs": [],
   "source": [
    "merge_columms = ['date','home_team','away_team', # for joins\n",
    "                 'home_hrva_rwma','home_hrvap_rwma','home_hrva_rmean','home_hrvap_rmean',\n",
    "                 'away_hrva_rwma','away_hrvap_rwma','away_hrva_rmean','away_hrvap_rmean',\n",
    "                 'diff_hrva_rwma','diff_hrvap_rwma','diff_hrva_rmean','diff_hrvap_rmean']"
   ]
  },
  {
   "cell_type": "code",
   "execution_count": 68,
   "metadata": {},
   "outputs": [
    {
     "data": {
      "text/plain": [
       "1639"
      ]
     },
     "execution_count": 68,
     "metadata": {},
     "output_type": "execute_result"
    }
   ],
   "source": [
    "project_df_test = project_df.merge(train_df[merge_columms], \n",
    "                  how = 'left',\n",
    "                  left_on=['date','home_team','away_team'], \n",
    "                  right_on=['date','home_team','away_team'])\n",
    "\n",
    "len(project_df_test)"
   ]
  },
  {
   "cell_type": "code",
   "execution_count": 69,
   "metadata": {},
   "outputs": [
    {
     "name": "stdout",
     "output_type": "stream",
     "text": [
      "<class 'pandas.core.frame.DataFrame'>\n",
      "Int64Index: 1639 entries, 0 to 1638\n",
      "Data columns (total 78 columns):\n",
      "date                                1639 non-null datetime64[ns]\n",
      "home_team                           1639 non-null object\n",
      "away_team                           1639 non-null object\n",
      "home_score                          1639 non-null int64\n",
      "away_score                          1639 non-null int64\n",
      "tournament                          1639 non-null object\n",
      "city                                1639 non-null object\n",
      "country                             1639 non-null object\n",
      "neutral                             1639 non-null int64\n",
      "home_rank                           1639 non-null int64\n",
      "home_rank_pts                       1639 non-null int64\n",
      "away_rank                           1639 non-null int64\n",
      "away_rank_pts                       1639 non-null int64\n",
      "rank_diff                           1639 non-null int64\n",
      "rank_pts_diff                       1639 non-null int64\n",
      "outcome                             1639 non-null object\n",
      "outcome_num                         1639 non-null int64\n",
      "home_game                           1639 non-null int64\n",
      "away_game                           1639 non-null int64\n",
      "home_OVR                            1639 non-null int64\n",
      "home_ATT                            1639 non-null int64\n",
      "home_MID                            1639 non-null int64\n",
      "home_DEF                            1639 non-null int64\n",
      "home_team_id                        1639 non-null int64\n",
      "home_team_uid                       1639 non-null object\n",
      "home_team_international_prestige    1639 non-null int64\n",
      "away_OVR                            1639 non-null int64\n",
      "away_ATT                            1639 non-null int64\n",
      "away_MID                            1639 non-null int64\n",
      "away_DEF                            1639 non-null int64\n",
      "away_team_id                        1639 non-null int64\n",
      "away_team_uid                       1639 non-null object\n",
      "away_team_international_prestige    1639 non-null int64\n",
      "ATT_diff                            1639 non-null int64\n",
      "DEF_diff                            1639 non-null int64\n",
      "MID_diff                            1639 non-null int64\n",
      "Friendly                            1639 non-null int64\n",
      "team_uid_x                          1639 non-null object\n",
      "home_ATT_age                        1639 non-null float64\n",
      "home_DEF_age                        1639 non-null float64\n",
      "home_MID_age                        1639 non-null float64\n",
      "home_ATT_ht                         1639 non-null float64\n",
      "home_DEF_ht                         1639 non-null float64\n",
      "home_MID_ht                         1639 non-null float64\n",
      "home_ATT_wt                         1639 non-null float64\n",
      "home_DEF_wt                         1639 non-null float64\n",
      "home_MID_wt                         1639 non-null float64\n",
      "team_uid_y                          1639 non-null object\n",
      "away_ATT_age                        1639 non-null float64\n",
      "away_DEF_age                        1639 non-null float64\n",
      "away_MID_age                        1639 non-null float64\n",
      "away_ATT_ht                         1639 non-null float64\n",
      "away_DEF_ht                         1639 non-null float64\n",
      "away_MID_ht                         1639 non-null float64\n",
      "away_ATT_wt                         1639 non-null float64\n",
      "away_DEF_wt                         1639 non-null float64\n",
      "away_MID_wt                         1639 non-null float64\n",
      "ATT_age_diff                        1639 non-null float64\n",
      "DEF_age_diff                        1639 non-null float64\n",
      "MID_age_diff                        1639 non-null float64\n",
      "ATT_ht_diff                         1639 non-null float64\n",
      "DEF_ht_diff                         1639 non-null float64\n",
      "MID_ht_diff                         1639 non-null float64\n",
      "ATT_wt_diff                         1639 non-null float64\n",
      "DEF_wt_diff                         1639 non-null float64\n",
      "MID_wt_diff                         1639 non-null float64\n",
      "home_hrva_rwma                      819 non-null float64\n",
      "home_hrvap_rwma                     819 non-null float64\n",
      "home_hrva_rmean                     819 non-null float64\n",
      "home_hrvap_rmean                    819 non-null float64\n",
      "away_hrva_rwma                      819 non-null float64\n",
      "away_hrvap_rwma                     819 non-null float64\n",
      "away_hrva_rmean                     819 non-null float64\n",
      "away_hrvap_rmean                    819 non-null float64\n",
      "diff_hrva_rwma                      819 non-null float64\n",
      "diff_hrvap_rwma                     819 non-null float64\n",
      "diff_hrva_rmean                     819 non-null float64\n",
      "diff_hrvap_rmean                    819 non-null float64\n",
      "dtypes: datetime64[ns](1), float64(39), int64(28), object(10)\n",
      "memory usage: 1011.6+ KB\n"
     ]
    }
   ],
   "source": [
    "project_df_test.info()"
   ]
  },
  {
   "cell_type": "code",
   "execution_count": 80,
   "metadata": {
    "collapsed": true
   },
   "outputs": [],
   "source": [
    "project_df_test.to_csv('data/team/project_df_test_INSPECT2.csv')"
   ]
  },
  {
   "cell_type": "code",
   "execution_count": null,
   "metadata": {
    "collapsed": true
   },
   "outputs": [],
   "source": []
  },
  {
   "cell_type": "code",
   "execution_count": 78,
   "metadata": {},
   "outputs": [
    {
     "data": {
      "text/plain": [
       "1639"
      ]
     },
     "execution_count": 78,
     "metadata": {},
     "output_type": "execute_result"
    }
   ],
   "source": [
    "project_df_test_as_of = pd.merge_asof(project_df, train_df[merge_columms], \n",
    "                  left_on=['date'],\n",
    "                  right_on=['date'],                    \n",
    "                  left_by = ['home_team','away_team'], \n",
    "                  right_by = ['home_team','away_team'], \n",
    "                  direction = 'backward')\n",
    "\n",
    "len(project_df_test_as_of)"
   ]
  },
  {
   "cell_type": "code",
   "execution_count": 79,
   "metadata": {},
   "outputs": [
    {
     "name": "stdout",
     "output_type": "stream",
     "text": [
      "<class 'pandas.core.frame.DataFrame'>\n",
      "Int64Index: 1639 entries, 0 to 1638\n",
      "Data columns (total 78 columns):\n",
      "date                                1639 non-null datetime64[ns]\n",
      "home_team                           1639 non-null object\n",
      "away_team                           1639 non-null object\n",
      "home_score                          1639 non-null int64\n",
      "away_score                          1639 non-null int64\n",
      "tournament                          1639 non-null object\n",
      "city                                1639 non-null object\n",
      "country                             1639 non-null object\n",
      "neutral                             1639 non-null int64\n",
      "home_rank                           1639 non-null int64\n",
      "home_rank_pts                       1639 non-null int64\n",
      "away_rank                           1639 non-null int64\n",
      "away_rank_pts                       1639 non-null int64\n",
      "rank_diff                           1639 non-null int64\n",
      "rank_pts_diff                       1639 non-null int64\n",
      "outcome                             1639 non-null object\n",
      "outcome_num                         1639 non-null int64\n",
      "home_game                           1639 non-null int64\n",
      "away_game                           1639 non-null int64\n",
      "home_OVR                            1639 non-null int64\n",
      "home_ATT                            1639 non-null int64\n",
      "home_MID                            1639 non-null int64\n",
      "home_DEF                            1639 non-null int64\n",
      "home_team_id                        1639 non-null int64\n",
      "home_team_uid                       1639 non-null object\n",
      "home_team_international_prestige    1639 non-null int64\n",
      "away_OVR                            1639 non-null int64\n",
      "away_ATT                            1639 non-null int64\n",
      "away_MID                            1639 non-null int64\n",
      "away_DEF                            1639 non-null int64\n",
      "away_team_id                        1639 non-null int64\n",
      "away_team_uid                       1639 non-null object\n",
      "away_team_international_prestige    1639 non-null int64\n",
      "ATT_diff                            1639 non-null int64\n",
      "DEF_diff                            1639 non-null int64\n",
      "MID_diff                            1639 non-null int64\n",
      "Friendly                            1639 non-null int64\n",
      "team_uid_x                          1639 non-null object\n",
      "home_ATT_age                        1639 non-null float64\n",
      "home_DEF_age                        1639 non-null float64\n",
      "home_MID_age                        1639 non-null float64\n",
      "home_ATT_ht                         1639 non-null float64\n",
      "home_DEF_ht                         1639 non-null float64\n",
      "home_MID_ht                         1639 non-null float64\n",
      "home_ATT_wt                         1639 non-null float64\n",
      "home_DEF_wt                         1639 non-null float64\n",
      "home_MID_wt                         1639 non-null float64\n",
      "team_uid_y                          1639 non-null object\n",
      "away_ATT_age                        1639 non-null float64\n",
      "away_DEF_age                        1639 non-null float64\n",
      "away_MID_age                        1639 non-null float64\n",
      "away_ATT_ht                         1639 non-null float64\n",
      "away_DEF_ht                         1639 non-null float64\n",
      "away_MID_ht                         1639 non-null float64\n",
      "away_ATT_wt                         1639 non-null float64\n",
      "away_DEF_wt                         1639 non-null float64\n",
      "away_MID_wt                         1639 non-null float64\n",
      "ATT_age_diff                        1639 non-null float64\n",
      "DEF_age_diff                        1639 non-null float64\n",
      "MID_age_diff                        1639 non-null float64\n",
      "ATT_ht_diff                         1639 non-null float64\n",
      "DEF_ht_diff                         1639 non-null float64\n",
      "MID_ht_diff                         1639 non-null float64\n",
      "ATT_wt_diff                         1639 non-null float64\n",
      "DEF_wt_diff                         1639 non-null float64\n",
      "MID_wt_diff                         1639 non-null float64\n",
      "home_hrva_rwma                      1352 non-null float64\n",
      "home_hrvap_rwma                     1352 non-null float64\n",
      "home_hrva_rmean                     1352 non-null float64\n",
      "home_hrvap_rmean                    1352 non-null float64\n",
      "away_hrva_rwma                      1352 non-null float64\n",
      "away_hrvap_rwma                     1352 non-null float64\n",
      "away_hrva_rmean                     1352 non-null float64\n",
      "away_hrvap_rmean                    1352 non-null float64\n",
      "diff_hrva_rwma                      1352 non-null float64\n",
      "diff_hrvap_rwma                     1352 non-null float64\n",
      "diff_hrva_rmean                     1352 non-null float64\n",
      "diff_hrvap_rmean                    1352 non-null float64\n",
      "dtypes: datetime64[ns](1), float64(39), int64(28), object(10)\n",
      "memory usage: 1011.6+ KB\n"
     ]
    }
   ],
   "source": [
    "project_df_test_as_of.info()"
   ]
  },
  {
   "cell_type": "code",
   "execution_count": 83,
   "metadata": {},
   "outputs": [],
   "source": [
    "project_df_test_as_of.to_csv('data/team/project_df_test_asof_INSPECT2.csv')"
   ]
  },
  {
   "cell_type": "code",
   "execution_count": null,
   "metadata": {
    "collapsed": true
   },
   "outputs": [],
   "source": []
  },
  {
   "cell_type": "code",
   "execution_count": null,
   "metadata": {
    "collapsed": true
   },
   "outputs": [],
   "source": [
    "pd.set_option('display.max_columns', 500)\n",
    "pd.set_option('display.width', 1000)"
   ]
  },
  {
   "cell_type": "code",
   "execution_count": null,
   "metadata": {},
   "outputs": [],
   "source": [
    "project_df_test.tail()"
   ]
  },
  {
   "cell_type": "code",
   "execution_count": null,
   "metadata": {},
   "outputs": [],
   "source": [
    "len(project_df_test)"
   ]
  },
  {
   "cell_type": "code",
   "execution_count": null,
   "metadata": {},
   "outputs": [],
   "source": [
    "len(project_df)"
   ]
  },
  {
   "cell_type": "code",
   "execution_count": null,
   "metadata": {},
   "outputs": [],
   "source": [
    "cnt = pd.DataFrame(project_df.groupby(['date','home_team']).size())\n",
    "cnt = cnt.reset_index()\n",
    "cnt.head()\n",
    "\n",
    "cnt = cnt.rename(columns = {0:'count'})\n",
    "\n",
    "cnt[cnt['count'] > 1]"
   ]
  },
  {
   "cell_type": "code",
   "execution_count": null,
   "metadata": {
    "collapsed": true
   },
   "outputs": [],
   "source": [
    "\n",
    "pair_plot_df = train_df[['sorted_matchup', 'date','sorted_result','sorted_result_plus']].merge(df_vs_oppo[['sorted_matchup','date','hrvo_rwma','hrvop_rwma']], \n",
    "                  how = 'inner',\n",
    "                  left_on=['sorted_matchup','date'], \n",
    "                  right_on=['sorted_matchup','date'])\n",
    "\n"
   ]
  }
 ],
 "metadata": {
  "kernelspec": {
   "display_name": "Python 3",
   "language": "python",
   "name": "python3"
  },
  "language_info": {
   "codemirror_mode": {
    "name": "ipython",
    "version": 3
   },
   "file_extension": ".py",
   "mimetype": "text/x-python",
   "name": "python",
   "nbconvert_exporter": "python",
   "pygments_lexer": "ipython3",
   "version": "3.6.5"
  }
 },
 "nbformat": 4,
 "nbformat_minor": 2
}

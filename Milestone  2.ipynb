{
 "cells": [
  {
   "cell_type": "markdown",
   "metadata": {
    "colab_type": "text",
    "id": "uaoVZSrv48aE"
   },
   "source": [
    "# <img style=\"float: left; padding-right: 10px; width: 45px\" src=\"https://raw.githubusercontent.com/Harvard-IACS/2018-CS109A/master/content/styles/iacs.png\"> CS109A Introduction to Data Science: \n",
    "## Final Project - 20118 FIFA World Cup\n",
    "**Harvard University**<br/>\n",
    "**Fall 2018**<br/>\n",
    "**Instructors**: Pavlos Protopapas, Kevin Rader<br/>\n",
    "**Team**: Group#20 - Nikhil Inamdar, Paul Jureidini, Peeti Sriwongsanguan, Florent Thomas-Morel\n",
    "\n",
    "<hr style=\"height:2pt\">"
   ]
  },
  {
   "cell_type": "markdown",
   "metadata": {
    "colab_type": "text",
    "id": "VTCAF4DDADpr"
   },
   "source": [
    "## Milestone 2 -  Scope of Work and Preliminary EDA\n",
    "#### _1. Project Statement_\n"
   ]
  },
  {
   "cell_type": "markdown",
   "metadata": {
    "colab_type": "text",
    "id": "0CfET0R4ADpu"
   },
   "source": [
    "The first FIFA World Cup was held in July 1930, in Uruguay. Much has changed since the contest's first incarnation. The game itself is the same, but the stage and the stakes are far greater. The 2018 edition was held in Russia. Thirty-two qualifying nations competed for the ultimate prize (from a pool of 209 eligible countries). Budget estimates for the contest range from \\$10 to \\$20 billion. According to some publications, the audience topped 3.4 billion viewers over the entire period.<br/>\n",
    "\n",
    "The tournament is divided into 2 stages – the group stage and the knockout stage. In the group stage, teams within each group play each other once. At the end of this stage, the top two teams from each group proceed to the knockout stage. From here on, each team plays one other team. If the team wins, it qualifies for the next round, else it gets eliminated from the tournament.\n",
    "\n",
    "**Goals:**<br/>\n",
    "Our objective is to develop a model to predict the outcome of football matches between 2018 FIFA World Cup contestants.  Using this model, we will attempt to determine winners and losers from the pool level, all the way up to the final.\n",
    "\n",
    "We will likely limit the model to only the 32 teams that participated in the 2018 World Cup and include data for major tournaments only. The intuition behind this logic is that teams often field weaker sides for friendly games, so it might not be a true reflection of that team’s strength.\n",
    "\n",
    "**Approach:**<br/>\n",
    "We will start with a baseline model including FIFA rankings, data provided by instructors and a few additional features gathered from on-line sources.  Once the baseline is in place, we will enhance it through an iterative process. Relevant features will be added to the model as we explore additional data sources and review results.<br/>\n",
    "\n",
    "**Anticipated Challenges:**\n",
    "- _Assessing team strength_: our goal is incorporate some form of team strength feature into the model. Depending on our approach, this may require finding historical national roster information, or perhaps creating a positions-based algorithm to score the team, based on player selection assumptions.\n",
    "\n",
    "\n",
    "**Data & Features:**\n",
    " - _**Team FIFA Ranking**:_ FIFA team rankings\n",
    " \n",
    " - _**Team strength**_: a measure of team strength based on player and/ or aggregated position scores\n",
    " \n",
    " - _**Team Payroll**_: sum of player salaries\n",
    " \n",
    " - _**Team Average Age**_: average of player ages\n",
    " \n",
    " - _**Number of UEFA Players on Team**:_ count of UEFA players on national team\n",
    " \n",
    " - _**International Competition Record**_: a measure of team success between 2014 and 2018 world cup (excluding friendlies)\n",
    " \n",
    " - _**Recent World Cup Appearances**_: number of appearances in the previous two or three FIFA World Cups\n",
    " \n",
    " - _**Total World Cup Titles**_: total number of FIFA World Cup titles\n",
    "\n",
    " - _**Proximity to Home Country**_: distance of match venue from home country (could impact fan attendance)\n",
    " \n",
    " - _**Home/Away Continent**_: venue continent vs team continent (may affect player comfort)\n",
    " \n",
    " -  _**Weather**_: weather in match venue\n",
    " \n",
    " -  _**Previous WC Winner**_: recently, previous tournament winners have fared poorly in the following cup\n",
    " \n",
    " -  _**Team Chemistry Score**_: positively affected if players are on the same league team, negatively if players are on different teams in the same league\n",
    " \n",
    "**Sources**:<br/>\n",
    "https://en.wikipedia.org/wiki/2018_FIFA_World_Cup<br/>\n",
    "https://www.hollywoodreporter.com/news/<br/>"
   ]
  },
  {
   "cell_type": "markdown",
   "metadata": {
    "colab": {},
    "colab_type": "code",
    "id": "vhGtVo68ADqK"
   },
   "source": [
    "#### _2. Prelimiary EDA_"
   ]
  },
  {
   "cell_type": "markdown",
   "metadata": {},
   "source": [
    "**_International Competition Record:_**<br/>\n",
    "We are contemplating using a measure of historical (past 4 years) success as a feature our model. Using win/loss data extracted from the FIFA international_results.csv dataset, we calculated a **Win% Above Average Ratio** where:\n",
    "\n",
    "_Win% Above Average Ratio = Team Win % / Average Win %_\n",
    "\n",
    "<img style=\"float: center\" src=\"rec_since_2014.png\">"
   ]
  },
  {
   "cell_type": "markdown",
   "metadata": {},
   "source": [
    "#### _3. Project Plan_\n",
    "\n",
    "**Note:** Name indicates task leader, but all members will contribute to most tasks\n",
    "\n",
    "**Week 1**\n",
    " - Agree on data & sources - All\n",
    " - Perform initial data collection and cleaning - Florent\n",
    "\n",
    "**Week 2**\n",
    " - Perform preliminary EDA - Paul\n",
    " - Complete baseline model - Peeti\n",
    " - Review baseline model and agree on additional data & sources - All\n",
    " \n",
    "**Week 3**\n",
    " - Perform supplemental data collection and cleaning - Nikhil\n",
    " - Continue enhancing model - Florent\n",
    " \n",
    "**Week 4**\n",
    " - Perform supplemental EDA - Nikhil\n",
    " - Complete enhanced model  - Paul\n",
    " \n",
    "**Week 5**\n",
    " - Review enhanced model - All\n",
    " - Document data and EDA process. Create Visuals to summarize EDA findings - Paul & Nikhil\n",
    " - Document model - Florent & Peeti\n",
    " - Update project question - All"
   ]
  },
  {
   "cell_type": "markdown",
   "metadata": {},
   "source": [
    "#### _4. Other_\n",
    "\n",
    "1) What is your group #? _**Group #20**_<br/>\n",
    "2) Have you met/communicated with your fellow teammates? _**Yes**_<br/>\n",
    "3) Have you met/communicated with your assigned TF? _**Yes**_<br/>\n",
    "4) Has your team formulated a well-defined question to address in your project? _**See above**_<br/>\n",
    "5) Briefly describe your team’s plans for work to be completed by Nov 28 _**See above**_<br/>\n"
   ]
  }
 ],
 "metadata": {
  "colab": {
   "collapsed_sections": [],
   "name": "cs109a_Project.ipynb",
   "provenance": [],
   "toc_visible": true,
   "version": "0.3.2"
  },
  "kernelspec": {
   "display_name": "Python 3",
   "language": "python",
   "name": "python3"
  },
  "language_info": {
   "codemirror_mode": {
    "name": "ipython",
    "version": 3
   },
   "file_extension": ".py",
   "mimetype": "text/x-python",
   "name": "python",
   "nbconvert_exporter": "python",
   "pygments_lexer": "ipython3",
   "version": "3.6.5"
  }
 },
 "nbformat": 4,
 "nbformat_minor": 1
}

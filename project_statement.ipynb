{
 "cells": [
  {
   "cell_type": "markdown",
   "metadata": {
    "colab_type": "text",
    "id": "VTCAF4DDADpr"
   },
   "source": [
    "# Project Statement"
   ]
  },
  {
   "cell_type": "markdown",
   "metadata": {},
   "source": [
    "\n",
    "## Background:\n",
    "The first FIFA World Cup was held in July 1930, in Uruguay. Much has changed since the contest's first incarnation. The game itself is the same, but the stage and the stakes are far greater.<br/>\n",
    "\n",
    "The 2018 edition was recently held in Russia. Thirty-two qualifying nations competed for the ultimate prize (from a pool of 209 eligible countries). Budget estimates for the contest range from \\$10 to \\$20 billion. According to some publications, the audience topped 3.4 billion viewers over the entire period.<br/>\n",
    "\n",
    "The tournament is divided into 2 stages – the group stage and the knockout stage. In the group stage, teams within each group play each other once. At the end of this stage, the top two teams from each group proceed to the knockout stage. From here on, each team plays one other team. If the team wins, it qualifies for the next round, else it gets eliminated from the tournament.  In all 64 for matches were disputed across Russia.\n",
    "\n",
    "## Goals:\n",
    "Our project objective is to build a model to predict 2018 World Cup match outcomes. The model’s accuracy will be measured based on the percentage of outcomes it predicts correctly, and will be compared to a simple baseline model, as well as a model reflecting historical outcomes (e.g. 45% home wins, 30% home losses, 25% home draws).\n",
    "\n",
    "## Approach:\n",
    "To accomplish this objective, we will be building three models:\n",
    " - **Average model**: a model predicting match outcomes based on historical average of home wins, losses and draws.\n",
    " - **Baseline model**: simple classification model including FIFA ranking points and a few additional features gathered from the EA Sports FIFA video game. This model will rely on a limited set of modeling approaches.\n",
    " - **Full model**: a more advanced classication model based on additional features (mostly from the FIFA video game), as well as features engineered based on past results, and a wider array of modeling techniques.\n",
    " \n",
    "\n",
    "## Observations & Challenges:\n",
    "The task at hand is quite challenging for several reasons, some of which are discussed below:\n",
    " - **The \"better\" team doesn't always win**: sporting events are popular and exciting in part because the outcome of the contest isn't pre-determined.  While it is true that the better teams tend to rise to the top over the course of an extended season, individual contests are much more difficult to predict.  The figure below shows historical match outcomes relative to FIFA ranking points, a resonable proxy for team strengh.  Very imbalanced contests tend to result in predictable match outcomes, but the picture is less clear when teams are closer.\n",
    " \n",
    " <img style=\"float: center\" src=\"images/PS1.png\" width=\"350\" height=\"350\">\n",
    " \n",
    "  - **Home vs. Away vs. Neutral**: when looking at historical match results dataset, we observe that most matches are played on one of the the team's home soil.  This is not the case in the World Cup, where only the host nation has that advantage.\n",
    "\n",
    " <img style=\"float: center\" src=\"images/PS3.png\" width=\"500\" height=\"500\">\n",
    "  \n",
    "  - **High Stakes Matches vs. Friendlies**: a high percentage of international matches are friendly contests, where the outcome is of no critical consquence.  In fact, UEFA designed the [UEFA Nations League](https://en.wikipedia.org/wiki/UEFA_Nations_League) to try to cut the number of inconsequential and uncompetitive matches.  Should these matches been ignored? Do they make predictions more difficult, or can they provide valuable inputs when modeling World Cup matches?\n",
    "     \n",
    " <img style=\"float: center\" src=\"images/PS2.png\" width=\"500\" height=\"500\">\n",
    "\n",
    "  - **Contest Rules**: international matches vary in terms rules, and the outcome of matches is to some extent influenced by these rules.  Some competitions allow for ties, while others do not. The World Cup itself has two sets of rules governing the outcome of group-stage and knock-out matches.  For example, depending on the situation, certain teams will rest players for the third match of the knock-out stage because they are already qualified for the next round.  The disparity in rules adds to the challenge of predicting match outcomes based on historical matches, where this information is not readily available.\n",
    "  \n",
    "## Links & Litterature Review:\n",
    " - [FIFA history](https://www.fifa.com/about-fifa/who-we-are/history/index.html)\n",
    " - \n"
   ]
  },
  {
   "cell_type": "code",
   "execution_count": null,
   "metadata": {
    "collapsed": true
   },
   "outputs": [],
   "source": []
  }
 ],
 "metadata": {
  "colab": {
   "collapsed_sections": [],
   "name": "cs109a_Project.ipynb",
   "provenance": [],
   "toc_visible": true,
   "version": "0.3.2"
  },
  "kernelspec": {
   "display_name": "Python 3",
   "language": "python",
   "name": "python3"
  },
  "language_info": {
   "codemirror_mode": {
    "name": "ipython",
    "version": 3
   },
   "file_extension": ".py",
   "mimetype": "text/x-python",
   "name": "python",
   "nbconvert_exporter": "python",
   "pygments_lexer": "ipython3",
   "version": "3.6.5"
  }
 },
 "nbformat": 4,
 "nbformat_minor": 1
}
